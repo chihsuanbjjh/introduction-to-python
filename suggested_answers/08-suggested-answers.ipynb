{
 "cells": [
  {
   "cell_type": "markdown",
   "metadata": {
    "slideshow": {
     "slide_type": "slide"
    }
   },
   "source": [
    "# 成為初級資料分析師 | Python 程式設計\n",
    "\n",
    "> 類別：參考解答\n",
    "\n",
    "## 郭耀仁"
   ]
  },
  {
   "cell_type": "markdown",
   "metadata": {
    "slideshow": {
     "slide_type": "subslide"
    }
   },
   "source": [
    "## 隨堂練習：創建類別 `Calculator` 具有 4 個方法 `add()`、`subtract()`、`multiply()` 與 `divide()`\n",
    "\n",
    "- 預期輸入：兩個數值\n",
    "- 預期輸出：一個數值"
   ]
  },
  {
   "cell_type": "code",
   "execution_count": 1,
   "metadata": {
    "slideshow": {
     "slide_type": "subslide"
    }
   },
   "outputs": [],
   "source": [
    "class Calculator:\n",
    "    \"\"\"\n",
    "    >>> calculator = Calculator()\n",
    "    >>> calculator.add(5, 6)\n",
    "    11\n",
    "    >>> calculator.subtract(5, 6)\n",
    "    -1\n",
    "    >>> calculator.multiply(5, 6)\n",
    "    30\n",
    "    >>> calculator.divide(6, 3)\n",
    "    2.0\n",
    "    \"\"\"\n",
    "    def add(self, a, b):\n",
    "        return a + b\n",
    "    def subtract(self, a, b):\n",
    "        return a - b\n",
    "    def multiply(self, a, b):\n",
    "        return a * b\n",
    "    def divide(self, a, b):\n",
    "        return a / b"
   ]
  },
  {
   "cell_type": "markdown",
   "metadata": {
    "slideshow": {
     "slide_type": "subslide"
    }
   },
   "source": [
    "## 隨堂練習：創建類別 `Aggregator` 具有 2 個方法 `product()` 與 `summation()`\n",
    "\n",
    "- 預期輸入：彈性參數 `*args`\n",
    "- 預期輸出：一個數值"
   ]
  },
  {
   "cell_type": "code",
   "execution_count": 2,
   "metadata": {
    "slideshow": {
     "slide_type": "subslide"
    }
   },
   "outputs": [],
   "source": [
    "class Aggregator:\n",
    "    \"\"\"\n",
    "    >>> aggregator = Aggregator()\n",
    "    >>> aggregator.product(5, 5, 6, 6)\n",
    "    900\n",
    "    >>> aggregator.sum(5, 5, 6, 6)\n",
    "    22\n",
    "    \"\"\"\n",
    "    def product(self, *args):\n",
    "        prod = 1\n",
    "        for i in args:\n",
    "            prod *= i\n",
    "        return prod\n",
    "    def summation(self, *args):\n",
    "        return sum(args)"
   ]
  },
  {
   "cell_type": "markdown",
   "metadata": {
    "slideshow": {
     "slide_type": "subslide"
    }
   },
   "source": [
    "## 隨堂練習：創建類別 `NewCalculator` 繼承先前定義的 `Calculator` 類別，加入 3 個方法 `power()`、`get_modulo()` 與 `get_quotient()`\n",
    "\n",
    "- 預期輸入：兩個數值\n",
    "- 預期輸出：一個數值"
   ]
  },
  {
   "cell_type": "code",
   "execution_count": 3,
   "metadata": {
    "slideshow": {
     "slide_type": "subslide"
    }
   },
   "outputs": [],
   "source": [
    "class NewCalculator(Calculator):\n",
    "    \"\"\"\n",
    "    >>> new_calculator = NewCalculator()\n",
    "    >>> new_calculator.add(5, 6)\n",
    "    11\n",
    "    >>> new_calculator.subtract(5, 6)\n",
    "    -1\n",
    "    >>> new_calculator.multiply(5, 6)\n",
    "    30\n",
    "    >>> new_calculator.divide(6, 3)\n",
    "    2.0\n",
    "    >>> new_calculator.power(5, 2)\n",
    "    25\n",
    "    >>> new_calculator.get_modulo(5, 6)\n",
    "    5\n",
    "    >>> new_calculator.get_quotient(5, 6)\n",
    "    0\n",
    "    \"\"\"\n",
    "    def power(self, a, b):\n",
    "        return a**b\n",
    "    def get_modulo(self, a, b):\n",
    "        return a % b\n",
    "    def get_quotient(self, a, b):\n",
    "        return a // b"
   ]
  },
  {
   "cell_type": "markdown",
   "metadata": {
    "slideshow": {
     "slide_type": "subslide"
    }
   },
   "source": [
    "## 隨堂練習：創建類別 `NewAggregator` 繼承先前定義的 `Aggregator` 類別，加入 2 個方法 `length()` 與 `mean()`\n",
    "\n",
    "- 預期輸入：彈性參數 `*args`\n",
    "- 預期輸出：一個數值"
   ]
  },
  {
   "cell_type": "code",
   "execution_count": 4,
   "metadata": {
    "slideshow": {
     "slide_type": "subslide"
    }
   },
   "outputs": [],
   "source": [
    "class NewAggregator(Aggregator):\n",
    "    \"\"\"\n",
    "    >>> new_aggregator = NewAggregator()\n",
    "    >>> new_aggregator.product(5, 5, 6, 6)\n",
    "    900\n",
    "    >>> new_aggregator.summation(5, 5, 6, 6)\n",
    "    22\n",
    "    >>> new_aggregator.length(5, 5, 6, 6)\n",
    "    4\n",
    "    >>> new_aggregator.mean(5, 5, 6, 6)\n",
    "    5.5\n",
    "    \"\"\"\n",
    "    def length(self, *args):\n",
    "        return len(args)\n",
    "    def mean(self, *args):\n",
    "        return sum(args) / len(args)"
   ]
  },
  {
   "cell_type": "markdown",
   "metadata": {
    "slideshow": {
     "slide_type": "subslide"
    }
   },
   "source": [
    "## 隨堂練習：創建類別 `FactorialFibonacci` 具有 2 個方法，1 個屬性\n",
    "\n",
    "- `factorial()`\n",
    "- `fibonacci()`"
   ]
  },
  {
   "cell_type": "markdown",
   "metadata": {
    "slideshow": {
     "slide_type": "subslide"
    }
   },
   "source": [
    "```python\n",
    "def factorial(n):\n",
    "    if n == 0:\n",
    "        return 1\n",
    "    elif n > 0:\n",
    "        prod = 1\n",
    "        for i in range(1, n+1):\n",
    "            prod *= i\n",
    "        return prod\n",
    "def fibonacci(n):\n",
    "    if n == 0:\n",
    "        return 0\n",
    "    elif n == 1:\n",
    "        return 1\n",
    "    else:\n",
    "        fib = [0, 1]\n",
    "        while True:\n",
    "            fn = fib[-1] + fib[-2]\n",
    "            fib.append(fn)\n",
    "            if len(fib) > n:\n",
    "                break\n",
    "        return fib[n]\n",
    "```"
   ]
  },
  {
   "cell_type": "code",
   "execution_count": 5,
   "metadata": {
    "slideshow": {
     "slide_type": "subslide"
    }
   },
   "outputs": [],
   "source": [
    "class FactorialFibonacci:\n",
    "    \"\"\"\n",
    "    >>> ff = FactorialFibonacci(0)\n",
    "    >>> ff.factorial()\n",
    "    1\n",
    "    >>> ff.fibonacci()\n",
    "    0\n",
    "    >>> ff = FactorialFibonacci(1)\n",
    "    >>> ff.factorial()\n",
    "    1\n",
    "    >>> ff.fibonacci()\n",
    "    1\n",
    "    >>> ff = FactorialFibonacci(2)\n",
    "    >>> ff.factorial()\n",
    "    2\n",
    "    >>> ff.fibonacci()\n",
    "    1\n",
    "    \"\"\"\n",
    "    def __init__(self, n):\n",
    "        self._n = n\n",
    "    def factorial(self):\n",
    "        if self._n == 0:\n",
    "            return 1\n",
    "        elif self._n > 0:\n",
    "            prod = 1\n",
    "            for i in range(1, self._n+1):\n",
    "                prod *= i\n",
    "            return prod\n",
    "    def fibonacci(self):\n",
    "        if self._n == 0:\n",
    "            return 0\n",
    "        elif self._n == 1:\n",
    "            return 1\n",
    "        else:\n",
    "            fib = [0, 1]\n",
    "            while True:\n",
    "                fn = fib[-1] + fib[-2]\n",
    "                fib.append(fn)\n",
    "                if len(fib) > self._n:\n",
    "                    break\n",
    "        return fib[self._n]"
   ]
  },
  {
   "cell_type": "code",
   "execution_count": 6,
   "metadata": {
    "slideshow": {
     "slide_type": "subslide"
    }
   },
   "outputs": [
    {
     "name": "stderr",
     "output_type": "stream",
     "text": [
      "test_Aggregator (__main__.TestClasses) ... ok\n",
      "test_Calculator (__main__.TestClasses) ... ok\n",
      "test_FactorialFibonacci (__main__.TestClasses) ... ok\n",
      "test_NewAggregator (__main__.TestClasses) ... ok\n",
      "test_NewCalculator (__main__.TestClasses) ... ok\n",
      "\n",
      "----------------------------------------------------------------------\n",
      "Ran 5 tests in 0.006s\n",
      "\n",
      "OK\n"
     ]
    }
   ],
   "source": [
    "# %load ../test_cases/test_cases_08.py\n",
    "import unittest\n",
    "\n",
    "class TestClasses(unittest.TestCase):\n",
    "    def test_Calculator(self):\n",
    "        calculator = Calculator()\n",
    "        self.assertEqual(calculator.add(5, 6), 11)\n",
    "        self.assertEqual(calculator.subtract(5, 6), -1)\n",
    "        self.assertEqual(calculator.multiply(5, 6), 30)\n",
    "        self.assertAlmostEqual(calculator.divide(6, 3), 2.0)\n",
    "    def test_Aggregator(self):\n",
    "        aggregator = Aggregator()\n",
    "        self.assertEqual(aggregator.product(5, 5, 6, 6), 900)\n",
    "        self.assertEqual(aggregator.summation(5, 5, 6, 6), 22)\n",
    "    def test_NewCalculator(self):\n",
    "        new_calculator = NewCalculator()\n",
    "        self.assertEqual(new_calculator.add(5, 6), 11)\n",
    "        self.assertEqual(new_calculator.subtract(5, 6), -1)\n",
    "        self.assertEqual(new_calculator.multiply(5, 6), 30)\n",
    "        self.assertAlmostEqual(new_calculator.divide(6, 3), 2.0)\n",
    "        self.assertEqual(new_calculator.power(5, 2), 25)\n",
    "        self.assertEqual(new_calculator.get_modulo(5, 6), 5)\n",
    "        self.assertEqual(new_calculator.get_quotient(5, 6), 0)\n",
    "    def test_NewAggregator(self):\n",
    "        new_aggregator = NewAggregator()\n",
    "        self.assertEqual(new_aggregator.product(5, 5, 6, 6), 900)\n",
    "        self.assertEqual(new_aggregator.summation(5, 5, 6, 6), 22)\n",
    "        self.assertEqual(new_aggregator.length(5, 5, 6, 6), 4)\n",
    "        #self.assertEqual(new_aggregator.mean(5, 5, 6, 6), 5.5)\n",
    "    def test_FactorialFibonacci(self):\n",
    "        ff = FactorialFibonacci(0)\n",
    "        self.assertEqual(ff.factorial(), 1)\n",
    "        self.assertEqual(ff.fibonacci(), 0)\n",
    "        ff = FactorialFibonacci(1)\n",
    "        self.assertEqual(ff.factorial(), 1)\n",
    "        self.assertEqual(ff.fibonacci(), 1)\n",
    "        ff = FactorialFibonacci(2)\n",
    "        self.assertEqual(ff.factorial(), 2)\n",
    "        self.assertEqual(ff.fibonacci(), 1)\n",
    "\n",
    "suite = unittest.TestLoader().loadTestsFromTestCase(TestClasses)\n",
    "runner = unittest.TextTestRunner(verbosity=2)\n",
    "test_results = runner.run(suite)"
   ]
  }
 ],
 "metadata": {
  "celltoolbar": "Slideshow",
  "kernelspec": {
   "display_name": "Python Web Scraping",
   "language": "python",
   "name": "pywebscraping"
  },
  "language_info": {
   "codemirror_mode": {
    "name": "ipython",
    "version": 3
   },
   "file_extension": ".py",
   "mimetype": "text/x-python",
   "name": "python",
   "nbconvert_exporter": "python",
   "pygments_lexer": "ipython3",
   "version": "3.7.7"
  }
 },
 "nbformat": 4,
 "nbformat_minor": 1
}
