{
 "cells": [
  {
   "cell_type": "markdown",
   "metadata": {
    "slideshow": {
     "slide_type": "slide"
    }
   },
   "source": [
    "# 成為初級資料分析師 | Python 程式設計\n",
    "\n",
    "> 資料結構：參考解答\n",
    "\n",
    "## 郭耀仁"
   ]
  },
  {
   "cell_type": "code",
   "execution_count": 1,
   "metadata": {
    "slideshow": {
     "slide_type": "subslide"
    }
   },
   "outputs": [],
   "source": [
    "cast = ['Robert Downey Jr.',\n",
    "        'Chris Hemsworth',\n",
    "        'Mark Ruffalo',\n",
    "        'Chris Evans',\n",
    "        'Scarlett Johansson',\n",
    "        'Don Cheadle',\n",
    "        'Benedict Cumberbatch',\n",
    "        'Tom Holland',\n",
    "        'Chadwick Boseman',\n",
    "        'Zoe Saldana',\n",
    "        'Karen Gillan',\n",
    "        'Tom Hiddleston',\n",
    "        'Paul Bettany',\n",
    "        'Elizabeth Olsen',\n",
    "        'Anthony Mackie']"
   ]
  },
  {
   "cell_type": "code",
   "execution_count": 2,
   "metadata": {
    "slideshow": {
     "slide_type": "subslide"
    }
   },
   "outputs": [],
   "source": [
    "the_avengers = {\n",
    "    \"release_dates\": [\n",
    "        {'USA': '11 April 2012'},\n",
    "        {'Taiwan': '25 April 2012'}\n",
    "    ],\n",
    "    \"genre\": [\"Action\", \"Adventure\", \"Sci-Fi\"],\n",
    "    \"avengers\": [\n",
    "        {\"Iron Man\": \"Tony Stark\"},\n",
    "        {\"Captain America\": \"Steve Rogers\"},\n",
    "        {\"Hulk\": \"Bruce Banner\"},\n",
    "        {\"Thor\": \"Thor\"},\n",
    "        {\"Black Widow\": \"Natasha Romanoff\"},\n",
    "        {\"Hawkeye\": \"Clint Barton\"}\n",
    "    ]\n",
    "}"
   ]
  },
  {
   "cell_type": "markdown",
   "metadata": {
    "slideshow": {
     "slide_type": "subslide"
    }
   },
   "source": [
    "## 隨堂練習：定義一個函式 `select_sw()` 將 `cast` 中飾演緋紅女巫（Scarlet Witch）的 Elizabeth Olsen 選出來\n",
    "\n",
    "- 預期輸入：一個 list `cast`\n",
    "- 預期輸出：一個文字"
   ]
  },
  {
   "cell_type": "code",
   "execution_count": 3,
   "metadata": {
    "slideshow": {
     "slide_type": "subslide"
    }
   },
   "outputs": [],
   "source": [
    "def select_sw(cast):\n",
    "    \"\"\"\n",
    "    >>> select_sw(cast)\n",
    "    'Elizabeth Olsen'\n",
    "    \"\"\"\n",
    "    return cast[-2]"
   ]
  },
  {
   "cell_type": "markdown",
   "metadata": {
    "slideshow": {
     "slide_type": "subslide"
    }
   },
   "source": [
    "## 隨堂練習：定義一個函式 `first_five()` 將 `cast` 中前五個演員選出來\n",
    "\n",
    "- 預期輸入：一個 list `cast`\n",
    "- 預期輸出：一個長度為 5 的 list"
   ]
  },
  {
   "cell_type": "code",
   "execution_count": 4,
   "metadata": {
    "slideshow": {
     "slide_type": "subslide"
    }
   },
   "outputs": [],
   "source": [
    "def first_five(cast):\n",
    "    \"\"\"\n",
    "    >>> first_five(cast)\n",
    "    ['Robert Downey Jr.', 'Chris Hemsworth', 'Mark Ruffalo', 'Chris Evans', 'Scarlett Johansson']\n",
    "    \"\"\"\n",
    "    return cast[:5]"
   ]
  },
  {
   "cell_type": "markdown",
   "metadata": {
    "slideshow": {
     "slide_type": "subslide"
    }
   },
   "source": [
    "## 隨堂練習：定義一個函式 `select_sh()` 將 `cast` 中曾演過 Sherlock Holmes 的 Robert Downey Jr.（電影）與 Benedict Cumberbatch（電視劇）選出來\n",
    "\n",
    "- 預期輸入：一個 list `cast`\n",
    "- 預期輸出：一個長度為 2 的 tuple"
   ]
  },
  {
   "cell_type": "code",
   "execution_count": 5,
   "metadata": {
    "slideshow": {
     "slide_type": "subslide"
    }
   },
   "outputs": [],
   "source": [
    "def select_sh(cast):\n",
    "    \"\"\"\n",
    "    >>> select_sh(cast)\n",
    "    ('Robert Downey Jr.', 'Benedict Cumberbatch')\n",
    "    \"\"\"\n",
    "    return cast[0], cast[6]"
   ]
  },
  {
   "cell_type": "markdown",
   "metadata": {
    "slideshow": {
     "slide_type": "subslide"
    }
   },
   "source": [
    "## 隨堂練習：定義一個函式 `get_release_dates()` 將 `the_avengers` 中美國與台灣的上映日期以一個 `tuple` 回傳\n",
    "\n",
    "- 預期輸入：一個 dict `the_avengers`\n",
    "- 預期輸出：一個長度為 2 的 tuple"
   ]
  },
  {
   "cell_type": "code",
   "execution_count": 6,
   "metadata": {
    "slideshow": {
     "slide_type": "subslide"
    }
   },
   "outputs": [],
   "source": [
    "def get_release_dates(the_avengers):\n",
    "    \"\"\"\n",
    "    >>> get_release_dates(the_avengers)\n",
    "    ('11 April 2012', '25 April 2012')\n",
    "    \"\"\"\n",
    "    return the_avengers['release_dates'][0]['USA'], the_avengers['release_dates'][1]['Taiwan']"
   ]
  },
  {
   "cell_type": "markdown",
   "metadata": {
    "slideshow": {
     "slide_type": "subslide"
    }
   },
   "source": [
    "## 隨堂練習：定義一個函式 `select_bw_hawkeye()` 將 `the_avengers` 中黑寡婦（Black Widow）與鷹眼（Hawkeye）的角色名 Natasha Romanoff 與 Clint Barton 回傳\n",
    "\n",
    "- 預期輸入：一個 dict `the_avengers`\n",
    "- 預期輸出：一個長度為 2 的 tuple"
   ]
  },
  {
   "cell_type": "code",
   "execution_count": 7,
   "metadata": {
    "slideshow": {
     "slide_type": "subslide"
    }
   },
   "outputs": [],
   "source": [
    "def select_bw_hawkeye(the_avengers):\n",
    "    \"\"\"\n",
    "    >>> select_bw_hawkeye(the_avengers)\n",
    "    ('Natasha Romanoff', 'Clint Barton')\n",
    "    \"\"\"\n",
    "    return the_avengers['avengers'][-2]['Black Widow'], the_avengers['avengers'][-1]['Hawkeye']"
   ]
  },
  {
   "cell_type": "markdown",
   "metadata": {
    "slideshow": {
     "slide_type": "subslide"
    }
   },
   "source": [
    "## 隨堂練習：定義一個函式 `tpe_zip_code(town)` 能讓使用者輸入台北市行政區名稱，並以文字的格式將 3 碼郵遞區號回傳\n",
    "\n",
    "[臺灣地區郵遞區號一覽表#臺北市](https://zh.wikipedia.org/wiki/%E8%87%BA%E7%81%A3%E5%9C%B0%E5%8D%80%E9%83%B5%E9%81%9E%E5%8D%80%E8%99%9F%E4%B8%80%E8%A6%BD%E8%A1%A8#%E8%87%BA%E5%8C%97%E5%B8%82100%E2%94%80116)\n",
    "\n",
    "- 預期輸入：一個文字 `town`\n",
    "- 預期輸出：一個文字"
   ]
  },
  {
   "cell_type": "code",
   "execution_count": 8,
   "metadata": {
    "slideshow": {
     "slide_type": "subslide"
    }
   },
   "outputs": [],
   "source": [
    "def tpe_zip_code(town):\n",
    "    \"\"\"\n",
    "    >>> tpe_zip_code('松山區')\n",
    "    '105'\n",
    "    >>> tpe_zip_code('信義區')\n",
    "    '110'\n",
    "    >>> tpe_zip_code('中山區')\n",
    "    '104'\n",
    "    \"\"\"\n",
    "    zip_code_dict = {\n",
    "        '中正區': '100',\n",
    "        '大同區': '103',\n",
    "        '中山區': '104',\n",
    "        '松山區': '105',\n",
    "        '大安區': '106',\n",
    "        '萬華區': '108',\n",
    "        '信義區': '110',\n",
    "        '士林區': '111',\n",
    "        '北投區': '112',\n",
    "        '內湖區': '114',\n",
    "        '南港區': '115',\n",
    "        '文山區': '116'\n",
    "    }\n",
    "    return zip_code_dict[town]"
   ]
  },
  {
   "cell_type": "code",
   "execution_count": 9,
   "metadata": {
    "slideshow": {
     "slide_type": "subslide"
    }
   },
   "outputs": [
    {
     "name": "stderr",
     "output_type": "stream",
     "text": [
      "test_first_five (__main__.TestDataStructure) ... ok\n",
      "test_get_release_dates (__main__.TestDataStructure) ... ok\n",
      "test_select_bw_hawkeye (__main__.TestDataStructure) ... ok\n",
      "test_select_sh (__main__.TestDataStructure) ... ok\n",
      "test_select_sw (__main__.TestDataStructure) ... ok\n",
      "test_tpe_zip_code (__main__.TestDataStructure) ... ok\n",
      "\n",
      "----------------------------------------------------------------------\n",
      "Ran 6 tests in 0.005s\n",
      "\n",
      "OK\n"
     ]
    }
   ],
   "source": [
    "# %load ../test_cases/test_cases_05.py\n",
    "import unittest\n",
    "\n",
    "class TestDataStructure(unittest.TestCase):\n",
    "    def test_select_sw(self):\n",
    "        self.assertEqual(select_sw(cast), 'Elizabeth Olsen')\n",
    "    def test_first_five(self):\n",
    "        self.assertEqual(first_five(cast), ['Robert Downey Jr.', 'Chris Hemsworth', 'Mark Ruffalo', 'Chris Evans', 'Scarlett Johansson'])\n",
    "    def test_select_sh(self):\n",
    "        self.assertEqual(select_sh(cast), ('Robert Downey Jr.', 'Benedict Cumberbatch'))\n",
    "    def test_get_release_dates(self):\n",
    "        self.assertEqual(get_release_dates(the_avengers), ('11 April 2012', '25 April 2012'))\n",
    "    def test_select_bw_hawkeye(self):\n",
    "        self.assertEqual(select_bw_hawkeye(the_avengers), ('Natasha Romanoff', 'Clint Barton'))\n",
    "    def test_tpe_zip_code(self):\n",
    "        self.assertEqual(tpe_zip_code('松山區'), '105')\n",
    "        self.assertEqual(tpe_zip_code('信義區'), '110')\n",
    "        self.assertEqual(tpe_zip_code('中山區'), '104')\n",
    "\n",
    "suite = unittest.TestLoader().loadTestsFromTestCase(TestDataStructure)\n",
    "runner = unittest.TextTestRunner(verbosity=2)\n",
    "test_results = runner.run(suite)"
   ]
  }
 ],
 "metadata": {
  "celltoolbar": "Slideshow",
  "kernelspec": {
   "display_name": "Python Web Scraping",
   "language": "python",
   "name": "pywebscraping"
  },
  "language_info": {
   "codemirror_mode": {
    "name": "ipython",
    "version": 3
   },
   "file_extension": ".py",
   "mimetype": "text/x-python",
   "name": "python",
   "nbconvert_exporter": "python",
   "pygments_lexer": "ipython3",
   "version": "3.7.7"
  }
 },
 "nbformat": 4,
 "nbformat_minor": 1
}
