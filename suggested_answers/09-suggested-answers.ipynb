{
 "cells": [
  {
   "cell_type": "markdown",
   "metadata": {
    "slideshow": {
     "slide_type": "slide"
    }
   },
   "source": [
    "# 成為初級資料分析師 | Python 程式設計\n",
    "\n",
    "> 模組與套件：隨堂練習\n",
    "\n",
    "## 郭耀仁"
   ]
  },
  {
   "cell_type": "markdown",
   "metadata": {
    "slideshow": {
     "slide_type": "subslide"
    }
   },
   "source": [
    "## 隨堂練習：在 `/notebooks` 自訂一個名為 `bmi_calculator` 的模組\n",
    "\n",
    "\\begin{equation}\n",
    "BMI = \\frac{weight_{kg}}{height_{m}^2}\n",
    "\\end{equation}\n",
    "\n",
    "<https://en.wikipedia.org/wiki/Body_mass_index#/media/File:BMI_chart.svg>\n",
    "\n",
    "- 在該模組中定義一個類別 `BMI`\n",
    "- `BMI` 類別具備兩個方法\n",
    "    - `get_bmi()`\n",
    "    - `get_bmi_label()`"
   ]
  },
  {
   "cell_type": "markdown",
   "metadata": {
    "slideshow": {
     "slide_type": "subslide"
    }
   },
   "source": [
    "```python\n",
    "# bmi_calculator.py\n",
    "class BMI:\n",
    "    \"\"\"\n",
    "    >>> from bmi_calculator import BMI\n",
    "    >>> bmi = BMI(198, 129) # Zion Williamson\n",
    "    >>> bmi.get_bmi()\n",
    "    32.90480563207836\n",
    "    >>> bmi.get_bmi_label()\n",
    "    'Obese'\n",
    "    >>> bmi = BMI(206, 113) # LeBron James\n",
    "    >>> bmi.get_bmi()\n",
    "    26.628334433028563\n",
    "    >>> bmi.get_bmi_label()\n",
    "    'Overweight'\n",
    "    \"\"\"\n",
    "```"
   ]
  },
  {
   "cell_type": "markdown",
   "metadata": {
    "slideshow": {
     "slide_type": "subslide"
    }
   },
   "source": [
    "## 隨堂練習：在 `/notebooks` 新增一個名為 `casino` 的模組\n",
    "\n",
    "- 在該模組中定義一個類別 `Casino`\n",
    "- `Casino` 類別具備方法：\n",
    "    - `toss_a_coin()`\n",
    "    - `roll_a_dice()`\n",
    "    - `deal_a_card()`\n",
    "    \n",
    "備註：使用標準模組套件 [random](https://docs.python.org/3/library/random.html) 實現「隨機性」需求"
   ]
  },
  {
   "cell_type": "markdown",
   "metadata": {
    "slideshow": {
     "slide_type": "subslide"
    }
   },
   "source": [
    "```python\n",
    "# casino.py\n",
    "class Casino:\n",
    "    \"\"\"\n",
    "    >>> from casino import Casino\n",
    "    >>> my_casino = Casino()\n",
    "    >>> my_casino.toss_a_coin()\n",
    "    'Head' # 或 'Tail'\n",
    "    >>> my_casino.roll_a_dice()\n",
    "    6 # 或 1, 2, 3, 4, 5\n",
    "    >>> my_casino.deal_a_card()\n",
    "    '2 of hearts' # 或其他 51 種大小花色 'king of spades', 'ace of diamonds', 'jack of clubs'...\n",
    "    \"\"\"\n",
    "```"
   ]
  },
  {
   "cell_type": "markdown",
   "metadata": {
    "slideshow": {
     "slide_type": "subslide"
    }
   },
   "source": [
    "## 隨堂練習：在 `/notebooks` 新增一個名為 `stats` 的模組\n",
    "\n",
    "- 在該模組中定義一個類別 `Stats`\n",
    "- `Stats` 類別具備方法：\n",
    "    - `mean()`\n",
    "    - `median()`：<https://en.wikipedia.org/wiki/Median>\n",
    "    - `modes()`：<https://en.wikipedia.org/wiki/Mode_(statistics)>"
   ]
  },
  {
   "cell_type": "markdown",
   "metadata": {
    "slideshow": {
     "slide_type": "subslide"
    }
   },
   "source": [
    "```python\n",
    "# stats.py\n",
    "class Stats:\n",
    "    \"\"\"\n",
    "    >>> from stats import Stats\n",
    "    >>> statistics = Stats(1, 2, 2, 3, 4, 7, 9)\n",
    "    >>> statistics.mean()\n",
    "    4.0\n",
    "    >>> statistics.median()\n",
    "    3\n",
    "    >>> statistics.modes()\n",
    "    [2]\n",
    "    >>> statistics = Stats(1, 2, 2, 3, 4, 7, 9, 7)\n",
    "    >>> statistics.mean()\n",
    "    4.375\n",
    "    >>> statistics.median()\n",
    "    3.5\n",
    "    >>> statistics.modes()\n",
    "    [2, 7]\n",
    "    \"\"\"\n",
    "```"
   ]
  },
  {
   "cell_type": "code",
   "execution_count": 1,
   "metadata": {
    "slideshow": {
     "slide_type": "subslide"
    }
   },
   "outputs": [
    {
     "name": "stderr",
     "output_type": "stream",
     "text": [
      "test_BMI (__main__.TestModulesClasses) ... ok\n",
      "test_Casino (__main__.TestModulesClasses) ... ok\n",
      "test_Stats (__main__.TestModulesClasses) ... ok\n",
      "\n",
      "----------------------------------------------------------------------\n",
      "Ran 3 tests in 0.016s\n",
      "\n",
      "OK\n"
     ]
    }
   ],
   "source": [
    "# %load ../test_cases/test_cases_09.py\n",
    "import unittest\n",
    "\n",
    "class TestModulesClasses(unittest.TestCase):\n",
    "    def test_BMI(self):\n",
    "        from bmi_calculator import BMI\n",
    "        bmi = BMI(198, 129) # Zion Williamson\n",
    "        self.assertAlmostEqual(bmi.get_bmi(), 32.90480563207836)\n",
    "        self.assertEqual(bmi.get_bmi_label(), 'Obese')\n",
    "        bmi = BMI(206, 113) # LeBron James\n",
    "        self.assertAlmostEqual(bmi.get_bmi(), 26.628334433028563)\n",
    "        self.assertEqual(bmi.get_bmi_label(), 'Overweight')\n",
    "    def test_Casino(self):\n",
    "        from casino import Casino\n",
    "        my_casino = Casino()\n",
    "        self.assertIn(my_casino.toss_a_coin(), {'Head', 'Tail'})\n",
    "        self.assertIn(my_casino.roll_a_dice(), {1, 2, 3, 4, 5, 6})\n",
    "        self.assertIn(my_casino.deal_a_card(), {'10 of clubs', 'jack of hearts', 'ace of clubs', '5 of hearts', 'ace of diamonds', '4 of hearts', '10 of hearts', '2 of clubs', 'jack of diamonds', '6 of spades', '10 of spades', '8 of clubs', '6 of diamonds', 'king of clubs', '8 of spades', '7 of spades', '2 of diamonds', 'jack of spades', '2 of spades', '8 of diamonds', '9 of diamonds', 'ace of spades', '3 of clubs', 'king of spades', 'queen of spades', '6 of hearts', 'king of diamonds', '4 of spades', '5 of spades', '3 of hearts', 'ace of hearts', '7 of hearts', '3 of diamonds', 'queen of clubs', 'queen of diamonds', '4 of diamonds', 'king of hearts', '9 of hearts', '4 of clubs', '7 of clubs', '8 of hearts', 'jack of clubs', '7 of diamonds', '10 of diamonds', '5 of clubs', '9 of spades', '9 of clubs', '2 of hearts', '6 of clubs', '3 of spades', 'queen of hearts', '5 of diamonds'})\n",
    "        \n",
    "    def test_Stats(self):\n",
    "        from stats import Stats\n",
    "        statistics = Stats(1, 2, 2, 3, 4, 7, 9)\n",
    "        self.assertAlmostEqual(statistics.mean(), 4.0)\n",
    "        self.assertEqual(statistics.median(), 3)\n",
    "        self.assertEqual(statistics.modes(), [2])\n",
    "        statistics = Stats(1, 2, 2, 3, 4, 7, 9, 7)\n",
    "        self.assertAlmostEqual(statistics.mean(), 4.375)\n",
    "        self.assertAlmostEqual(statistics.median(), 3.5)\n",
    "        self.assertEqual(statistics.modes(), [2, 7])\n",
    "\n",
    "suite = unittest.TestLoader().loadTestsFromTestCase(TestModulesClasses)\n",
    "runner = unittest.TextTestRunner(verbosity=2)\n",
    "test_results = runner.run(suite)"
   ]
  }
 ],
 "metadata": {
  "celltoolbar": "Slideshow",
  "kernelspec": {
   "display_name": "Python 3",
   "language": "python",
   "name": "python3"
  },
  "language_info": {
   "codemirror_mode": {
    "name": "ipython",
    "version": 3
   },
   "file_extension": ".py",
   "mimetype": "text/x-python",
   "name": "python",
   "nbconvert_exporter": "python",
   "pygments_lexer": "ipython3",
   "version": "3.7.7"
  }
 },
 "nbformat": 4,
 "nbformat_minor": 2
}
