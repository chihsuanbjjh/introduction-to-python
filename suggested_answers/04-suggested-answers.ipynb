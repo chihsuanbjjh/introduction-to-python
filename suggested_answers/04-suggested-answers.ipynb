{
 "cells": [
  {
   "cell_type": "markdown",
   "metadata": {
    "slideshow": {
     "slide_type": "slide"
    }
   },
   "source": [
    "# 成為初級資料分析師 | Python 程式設計\n",
    "\n",
    "> 條件判斷：參考解答\n",
    "\n",
    "## 郭耀仁"
   ]
  },
  {
   "cell_type": "markdown",
   "metadata": {
    "slideshow": {
     "slide_type": "subslide"
    }
   },
   "source": [
    "## 隨堂練習：定義一個函式 `odd_or_even(x)` 如果 `x` 是奇數回傳 `'odd'` 是偶數則回傳 `'even'`\n",
    "\n",
    "- 預期輸入：一個整數 `x`\n",
    "- 預期輸出：一個文字"
   ]
  },
  {
   "cell_type": "code",
   "execution_count": 1,
   "metadata": {
    "slideshow": {
     "slide_type": "subslide"
    }
   },
   "outputs": [],
   "source": [
    "def odd_or_even(x):\n",
    "    \"\"\"\n",
    "    >>> odd_or_even(0)\n",
    "    'even'\n",
    "    >>> odd_or_even(1)\n",
    "    'odd'\n",
    "    >>> odd_or_even(2)\n",
    "    'even'\n",
    "    >>> odd_or_even(3)\n",
    "    'odd'\n",
    "    \"\"\"\n",
    "    if x % 2 == 1:\n",
    "        func_output = 'odd'\n",
    "    else:\n",
    "        func_output = 'even'\n",
    "    return func_output"
   ]
  },
  {
   "cell_type": "markdown",
   "metadata": {
    "slideshow": {
     "slide_type": "subslide"
    }
   },
   "source": [
    "## 隨堂練習：定義一個函式 `absolute(x)` 如果 `x` 小於 0 回傳 `-x`，否則回傳 `x`\n",
    "\n",
    "- 預期輸入：一個整數 `x`\n",
    "- 預期輸出：一個整數"
   ]
  },
  {
   "cell_type": "code",
   "execution_count": 2,
   "metadata": {
    "slideshow": {
     "slide_type": "subslide"
    }
   },
   "outputs": [],
   "source": [
    "def absolute(x):\n",
    "    \"\"\"\n",
    "    >>> absolute(-5)\n",
    "    5\n",
    "    >>> absolute(-6)\n",
    "    6\n",
    "    >>> absolute(0)\n",
    "    0\n",
    "    >>> absolute(56)\n",
    "    56\n",
    "    \"\"\"\n",
    "    if x < 0:\n",
    "        func_output = -x\n",
    "    else:\n",
    "        func_output = x\n",
    "    return func_output"
   ]
  },
  {
   "cell_type": "markdown",
   "metadata": {
    "slideshow": {
     "slide_type": "subslide"
    }
   },
   "source": [
    "## 隨堂練習：定義一個函式 `step(z)` 如果 `z` 大於等於 0.5 回傳 `1`，否則回傳 `0`\n",
    "\n",
    "- 預期輸入：一個浮點數 `z`\n",
    "- 預期輸出：一個整數"
   ]
  },
  {
   "cell_type": "code",
   "execution_count": 3,
   "metadata": {
    "slideshow": {
     "slide_type": "subslide"
    }
   },
   "outputs": [],
   "source": [
    "def step(z):\n",
    "    \"\"\"\n",
    "    >>> step(0.1)\n",
    "    0\n",
    "    >>> step(0.4)\n",
    "    0\n",
    "    >>> step(0.5)\n",
    "    1\n",
    "    >>> step(0.9)\n",
    "    1\n",
    "    \"\"\"\n",
    "    if z >= 0.5:\n",
    "        return 1\n",
    "    else:\n",
    "        return 0"
   ]
  },
  {
   "cell_type": "markdown",
   "metadata": {
    "slideshow": {
     "slide_type": "subslide"
    }
   },
   "source": [
    "## 隨堂練習：定義一個函式 `bmi_condition(height, weight)` 依據身高（公分）與體重（公斤）判斷 BMI 的分類敘述\n",
    "\n",
    "\\begin{equation}\n",
    "BMI = \\frac{weight_{kg}}{height_{m}^2}\n",
    "\\end{equation}\n",
    "\n",
    "<https://en.wikipedia.org/wiki/Body_mass_index#/media/File:BMI_chart.svg>\n",
    "\n",
    "- 預期輸入：兩個數值 `height` 與 `weight`\n",
    "- 預期輸出：一個文字"
   ]
  },
  {
   "cell_type": "code",
   "execution_count": 4,
   "metadata": {
    "slideshow": {
     "slide_type": "subslide"
    }
   },
   "outputs": [],
   "source": [
    "def bmi_condition(height, weight):\n",
    "    \"\"\"\n",
    "    >>> bmi_condition(198, 129) # Zion Williamson\n",
    "    '身高 198 公分體重 129 公斤是 Obese'\n",
    "    >>> bmi_condition(206, 113) # LeBron James\n",
    "    '身高 206 公分體重 113 公斤是 Overweight'\n",
    "    >>> bmi_condition(198, 98)  # Michael Jordan\n",
    "    '身高 198 公分體重 98 公斤是 Normal weight'\n",
    "    \"\"\"\n",
    "    bmi = weight / (height*0.01)**2\n",
    "    if bmi > 30:\n",
    "        desc = 'Obese'\n",
    "    elif bmi > 25:\n",
    "        desc = 'Overweight'\n",
    "    elif bmi >= 18.5:\n",
    "        desc = 'Normal weight'\n",
    "    else:\n",
    "        desc = 'Underweight'\n",
    "    return '身高 {:.0f} 公分體重 {:.0f} 公斤是 {}'.format(height, weight, desc)"
   ]
  },
  {
   "cell_type": "markdown",
   "metadata": {
    "slideshow": {
     "slide_type": "subslide"
    }
   },
   "source": [
    "## 隨堂練習：定義一個函式 `fizz_buzz(x)`，當 `x` 是 3 的倍數時回傳 `Fizz`、是 5 的倍數時回傳 `Buzz`、是 15 的倍數時回傳 `Fizz Buzz`，否則回傳 `x`，條件重疊時以 15 的倍數優先判斷\n",
    "\n",
    "- 預期輸入：一個正整數 `x`\n",
    "- 預期輸出：一個文字或一個整數"
   ]
  },
  {
   "cell_type": "code",
   "execution_count": 5,
   "metadata": {
    "slideshow": {
     "slide_type": "subslide"
    }
   },
   "outputs": [],
   "source": [
    "def fizz_buzz(x):\n",
    "    \"\"\"\n",
    "    >>> fizz_buzz(3)\n",
    "    'Fizz'\n",
    "    >>> fizz_buzz(5)\n",
    "    'Buzz'\n",
    "    >>> fizz_buzz(15)\n",
    "    'Fizz Buzz'\n",
    "    >>> fizz_buzz(16)\n",
    "    16\n",
    "    \"\"\"\n",
    "    if x % 15 == 0:\n",
    "        func_output = 'Fizz Buzz'\n",
    "    elif x % 3 == 0:\n",
    "        func_output = 'Fizz'\n",
    "    elif x % 5 == 0:\n",
    "        func_output = 'Buzz'\n",
    "    else:\n",
    "        func_output = x\n",
    "    return func_output"
   ]
  },
  {
   "cell_type": "code",
   "execution_count": 6,
   "metadata": {
    "slideshow": {
     "slide_type": "subslide"
    }
   },
   "outputs": [
    {
     "name": "stderr",
     "output_type": "stream",
     "text": [
      "test_absolute (__main__.TestConditionals) ... ok\n",
      "test_bmi_condition (__main__.TestConditionals) ... ok\n",
      "test_fizz_buzz (__main__.TestConditionals) ... ok\n",
      "test_odd_or_even (__main__.TestConditionals) ... ok\n",
      "test_step (__main__.TestConditionals) ... ok\n",
      "\n",
      "----------------------------------------------------------------------\n",
      "Ran 5 tests in 0.026s\n",
      "\n",
      "OK\n"
     ]
    }
   ],
   "source": [
    "# %load ../test_cases/test_cases_04.py\n",
    "import unittest\n",
    "\n",
    "class TestConditionals(unittest.TestCase):\n",
    "    def test_odd_or_even(self):\n",
    "        self.assertEqual(odd_or_even(0), 'even')\n",
    "        self.assertEqual(odd_or_even(1), 'odd')\n",
    "        self.assertEqual(odd_or_even(2), 'even')\n",
    "        self.assertEqual(odd_or_even(3), 'odd')\n",
    "    def test_absolute(self):\n",
    "        self.assertEqual(absolute(-5), 5)\n",
    "        self.assertEqual(absolute(-6), 6)\n",
    "        self.assertEqual(absolute(0), 0)\n",
    "        self.assertEqual(absolute(56), 56)\n",
    "    def test_step(self):\n",
    "        self.assertEqual(step(0.1), 0)\n",
    "        self.assertEqual(step(0.4), 0)\n",
    "        self.assertEqual(step(0.5), 1)\n",
    "        self.assertEqual(step(0.9), 1)\n",
    "    def test_bmi_condition(self):\n",
    "        self.assertEqual(bmi_condition(198, 129), '身高 198 公分體重 129 公斤是 Obese')\n",
    "        self.assertEqual(bmi_condition(206, 113), '身高 206 公分體重 113 公斤是 Overweight')\n",
    "        self.assertEqual(bmi_condition(198, 98), '身高 198 公分體重 98 公斤是 Normal weight')\n",
    "    def test_fizz_buzz(self):\n",
    "        self.assertEqual(fizz_buzz(3), 'Fizz')\n",
    "        self.assertEqual(fizz_buzz(5), 'Buzz')\n",
    "        self.assertEqual(fizz_buzz(15), 'Fizz Buzz')\n",
    "        self.assertEqual(fizz_buzz(16), 16)\n",
    "\n",
    "suite = unittest.TestLoader().loadTestsFromTestCase(TestConditionals)\n",
    "runner = unittest.TextTestRunner(verbosity=2)\n",
    "test_results = runner.run(suite)"
   ]
  }
 ],
 "metadata": {
  "celltoolbar": "Slideshow",
  "kernelspec": {
   "display_name": "Python 3",
   "language": "python",
   "name": "python3"
  },
  "language_info": {
   "codemirror_mode": {
    "name": "ipython",
    "version": 3
   },
   "file_extension": ".py",
   "mimetype": "text/x-python",
   "name": "python",
   "nbconvert_exporter": "python",
   "pygments_lexer": "ipython3",
   "version": "3.7.7"
  }
 },
 "nbformat": 4,
 "nbformat_minor": 1
}
