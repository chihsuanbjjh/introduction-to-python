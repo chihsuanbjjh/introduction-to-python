{
 "cells": [
  {
   "cell_type": "markdown",
   "metadata": {
    "slideshow": {
     "slide_type": "slide"
    }
   },
   "source": [
    "# 成為初級資料分析師 | Python 程式設計\n",
    "\n",
    "> 函式：參考解答\n",
    "\n",
    "## 郭耀仁"
   ]
  },
  {
   "cell_type": "markdown",
   "metadata": {
    "slideshow": {
     "slide_type": "subslide"
    }
   },
   "source": [
    "## 隨堂練習：定義一個函式 `product(*args)` 能回傳 `*args` 所組成之數列的乘積\n",
    "\n",
    "- 預期輸入：彈性參數 `*args`\n",
    "- 預期輸出：一個數值"
   ]
  },
  {
   "cell_type": "code",
   "execution_count": 1,
   "metadata": {
    "slideshow": {
     "slide_type": "subslide"
    }
   },
   "outputs": [],
   "source": [
    "def product(*args):\n",
    "    \"\"\"\n",
    "    >>> product(0, 1, 2)\n",
    "    0\n",
    "    >>> product(1, 2, 3, 4, 5)\n",
    "    120\n",
    "    >>> product(1, 3, 5, 7, 9)\n",
    "    945\n",
    "    \"\"\"\n",
    "    ans = 1\n",
    "    for i in args:\n",
    "        ans *= i\n",
    "    return ans"
   ]
  },
  {
   "cell_type": "markdown",
   "metadata": {
    "slideshow": {
     "slide_type": "subslide"
    }
   },
   "source": [
    "## 隨堂練習：定義一個函式 `iso_country(**kwargs)` 能讓使用者創建國家的 Alpha-3 code 與國家名稱的對應 dict\n",
    "\n",
    "<https://en.wikipedia.org/wiki/List_of_ISO_3166_country_codes。\n",
    "\n",
    "- 預期輸入：彈性參數 `**kwargs`\n",
    "- 預期輸出：一個 dict"
   ]
  },
  {
   "cell_type": "code",
   "execution_count": 2,
   "metadata": {
    "slideshow": {
     "slide_type": "subslide"
    }
   },
   "outputs": [],
   "source": [
    "def iso_country(**kwargs):\n",
    "    \"\"\"\n",
    "    >>> iso_country(TWN='Taiwan')\n",
    "    {'TWN': 'Taiwan'}\n",
    "    >>> iso_country(TWN='Taiwan', USA='United States of America')\n",
    "    {'TWN': 'Taiwan', 'USA': 'United States of America'}\n",
    "    >>> iso_country(TWN='Taiwan', USA='United States of America', JPN='Japan')\n",
    "    {'TWN': 'Taiwan', 'USA': 'United States of America', 'JPN': 'Japan'}\n",
    "    \"\"\"\n",
    "    return kwargs"
   ]
  },
  {
   "cell_type": "markdown",
   "metadata": {
    "slideshow": {
     "slide_type": "subslide"
    }
   },
   "source": [
    "## 隨堂練習：定義一個函式 `mean(*args)` 能回傳 `*args` 所組成之數列的平均數\n",
    "\n",
    "\\begin{equation}\n",
    "\\mu = \\frac{\\sum_{i=1}^n x_i}{n}\n",
    "\\end{equation}\n",
    "\n",
    "- 預期輸入：彈性參數 `*args`\n",
    "- 預期輸出：一個數值"
   ]
  },
  {
   "cell_type": "code",
   "execution_count": 3,
   "metadata": {
    "slideshow": {
     "slide_type": "subslide"
    }
   },
   "outputs": [],
   "source": [
    "def mean(*args):\n",
    "    \"\"\"\n",
    "    >>> mean(1, 3, 5, 7, 9)\n",
    "    5.0\n",
    "    >>> mean(3, 4, 5, 6, 7)\n",
    "    5.0\n",
    "    >>> mean(3)\n",
    "    3.0\n",
    "    \"\"\"\n",
    "    return sum(args) / len(args)"
   ]
  },
  {
   "cell_type": "markdown",
   "metadata": {
    "slideshow": {
     "slide_type": "subslide"
    }
   },
   "source": [
    "## 隨堂練習：定義一個函式 `std(*args)` 回傳 `*args` 所組成之數列的樣本標準差\n",
    "\n",
    "\\begin{equation}\n",
    "\\sigma = \\sqrt{\\frac{1}{n-1}\\sum_{i=1}^{n}(x_i - \\bar{x})^2}\n",
    "\\end{equation}\n",
    "\n",
    "<https://en.wikipedia.org/wiki/Standard_deviation>\n",
    "\n",
    "- 預期輸入：彈性參數 `*args`\n",
    "- 預期輸出：一個數值或文字"
   ]
  },
  {
   "cell_type": "code",
   "execution_count": 4,
   "metadata": {
    "slideshow": {
     "slide_type": "subslide"
    }
   },
   "outputs": [],
   "source": [
    "def std(*args):\n",
    "    \"\"\"\n",
    "    >>> std(1, 3, 5, 7, 9)\n",
    "    3.1622776601683795\n",
    "    >>> std(3, 4, 5, 6, 7)\n",
    "    1.5811388300841898\n",
    "    >>> std(3)\n",
    "    'Please input at least 2 numbers.'\n",
    "    \"\"\"\n",
    "    n = len(args)\n",
    "    x_bar = sum(args)/n\n",
    "    sse = 0\n",
    "    for i in args:\n",
    "        err = i - x_bar\n",
    "        se = err**2\n",
    "        sse += se\n",
    "    try:\n",
    "        std = (sse/(n-1))**(0.5)\n",
    "        return std\n",
    "    except ZeroDivisionError:\n",
    "        return \"Please input at least 2 numbers.\""
   ]
  },
  {
   "cell_type": "markdown",
   "metadata": {
    "slideshow": {
     "slide_type": "subslide"
    }
   },
   "source": [
    "## 隨堂練習：定義一個函式 `fibonacci_list(N, f0=0, f1=1)` 回傳長度為 `N`、前兩個數字分別為 `f0` 與 `f1` 的費氏數列\n",
    "\n",
    "\\begin{equation}\n",
    "F_0 = 0, F_1 = 1 \\\\\n",
    "F_n = F_{n-1} + F_{n-2} \\text{ , For } n > 1\n",
    "\\end{equation}\n",
    "\n",
    "<https://en.wikipedia.org/wiki/Fibonacci_number>\n",
    "\n",
    "- 預期輸入：三個整數\n",
    "- 預期輸出：一個長度為 N 的 list"
   ]
  },
  {
   "cell_type": "code",
   "execution_count": 5,
   "metadata": {
    "slideshow": {
     "slide_type": "subslide"
    }
   },
   "outputs": [],
   "source": [
    "def fibonacci_list(N, f0=0, f1=1):\n",
    "    \"\"\"\n",
    "    >>> fibonacci_list(5)\n",
    "    [0, 1, 1, 2, 3]\n",
    "    >>> fibonacci_list(5, 1, 2)\n",
    "    [1, 2, 3, 5, 8]\n",
    "    >>> fibonacci_list(10, 1, 2)\n",
    "    [1, 2, 3, 5, 8, 13, 21, 34, 55, 89]\n",
    "    \"\"\"\n",
    "    fib = [f0, f1]\n",
    "    while len(fib) < N:\n",
    "        fn = fib[-1]+fib[-2]\n",
    "        fib.append(fn)\n",
    "    return fib"
   ]
  },
  {
   "cell_type": "code",
   "execution_count": 6,
   "metadata": {
    "slideshow": {
     "slide_type": "subslide"
    }
   },
   "outputs": [
    {
     "name": "stderr",
     "output_type": "stream",
     "text": [
      "test_fibonacci_list (__main__.TestFunctions) ... ok\n",
      "test_iso_country (__main__.TestFunctions) ... ok\n",
      "test_mean (__main__.TestFunctions) ... ok\n",
      "test_product (__main__.TestFunctions) ... ok\n",
      "test_std (__main__.TestFunctions) ... ok\n",
      "\n",
      "----------------------------------------------------------------------\n",
      "Ran 5 tests in 0.009s\n",
      "\n",
      "OK\n"
     ]
    }
   ],
   "source": [
    "# %load ../test_cases/test_cases_07.py\n",
    "import unittest\n",
    "\n",
    "class TestFunctions(unittest.TestCase):\n",
    "    def test_product(self):\n",
    "        self.assertEqual(product(0, 1, 2), 0)\n",
    "        self.assertEqual(product(1, 2, 3, 4, 5), 120)\n",
    "        self.assertEqual(product(1, 3, 5, 7, 9), 945)\n",
    "    def test_iso_country(self):\n",
    "        self.assertEqual(iso_country(TWN='Taiwan'), {'TWN': 'Taiwan'})\n",
    "        self.assertEqual(iso_country(TWN='Taiwan', USA='United States of America'), {'TWN': 'Taiwan', 'USA': 'United States of America'})\n",
    "        self.assertEqual(iso_country(TWN='Taiwan', USA='United States of America', JPN='Japan'), {'TWN': 'Taiwan', 'USA': 'United States of America', 'JPN': 'Japan'})\n",
    "    def test_mean(self):\n",
    "        self.assertAlmostEqual(mean(1, 3, 5, 7, 9), 5.0)\n",
    "        self.assertAlmostEqual(mean(3, 4, 5, 6, 7), 5.0)\n",
    "        self.assertAlmostEqual(mean(3), 3.0)\n",
    "    def test_std(self):\n",
    "        self.assertAlmostEqual(std(1, 3, 5, 7, 9), 3.1622776601683795)\n",
    "        self.assertAlmostEqual(std(3, 4, 5, 6, 7), 1.5811388300841898)\n",
    "        self.assertAlmostEqual(std(3), 'Please input at least 2 numbers.')\n",
    "    def test_fibonacci_list(self):\n",
    "        self.assertEqual(fibonacci_list(5), [0, 1, 1, 2, 3])\n",
    "        self.assertEqual(fibonacci_list(5, 1, 2), [1, 2, 3, 5, 8])\n",
    "        self.assertEqual(fibonacci_list(10, 1, 2), [1, 2, 3, 5, 8, 13, 21, 34, 55, 89])\n",
    "\n",
    "suite = unittest.TestLoader().loadTestsFromTestCase(TestFunctions)\n",
    "runner = unittest.TextTestRunner(verbosity=2)\n",
    "test_results = runner.run(suite)"
   ]
  }
 ],
 "metadata": {
  "celltoolbar": "Slideshow",
  "kernelspec": {
   "display_name": "Python 3",
   "language": "python",
   "name": "python3"
  },
  "language_info": {
   "codemirror_mode": {
    "name": "ipython",
    "version": 3
   },
   "file_extension": ".py",
   "mimetype": "text/x-python",
   "name": "python",
   "nbconvert_exporter": "python",
   "pygments_lexer": "ipython3",
   "version": "3.7.7"
  }
 },
 "nbformat": 4,
 "nbformat_minor": 2
}
