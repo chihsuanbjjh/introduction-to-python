{
 "cells": [
  {
   "cell_type": "markdown",
   "metadata": {
    "slideshow": {
     "slide_type": "slide"
    }
   },
   "source": [
    "# 成為初級資料分析師 | Python 程式設計\n",
    "\n",
    "> 迭代：參考解答\n",
    "\n",
    "## 郭耀仁"
   ]
  },
  {
   "cell_type": "markdown",
   "metadata": {
    "slideshow": {
     "slide_type": "subslide"
    }
   },
   "source": [
    "## 隨堂練習：定義一個函式 `find_odds(x, y)` 將介於 x 到 y 之間的奇數儲存在一個 list 之中回傳，假如 x、y 是奇數則回傳的 list 要包含 x 與 y\n",
    "\n",
    "- 預期輸入：兩個整數 `x` 與 `y`\n",
    "- 預期輸出：一個 list"
   ]
  },
  {
   "cell_type": "code",
   "execution_count": 1,
   "metadata": {
    "slideshow": {
     "slide_type": "subslide"
    }
   },
   "outputs": [],
   "source": [
    "def find_odds(x, y):\n",
    "    \"\"\"\n",
    "    >>> find_odds(5, 10)\n",
    "    [5, 7, 9]\n",
    "    >>> find_odds(10, 15)\n",
    "    [11, 13, 15]\n",
    "    >>> find_odds(11, 19)\n",
    "    [11, 13, 15, 17, 19]\n",
    "    \"\"\"\n",
    "    odds = [i for i in range(x, y+1) if i % 2 == 1]\n",
    "    return odds"
   ]
  },
  {
   "cell_type": "markdown",
   "metadata": {
    "slideshow": {
     "slide_type": "subslide"
    }
   },
   "source": [
    "## 隨堂練習：定義一個函式 `fizz_buzz_100()` 將介於 1 到 100 之間的整數儲存在一個 list 之中回傳，假如該整數可以被 3 整除，改儲存文字 `'Buzz'`，假如該整數可以被 5 整除，改儲存文字 `'Fizz'`，假如該整數可以被 15 整除，改儲存文字 `'Fizz Buzz'`\n",
    "\n",
    "- 預期輸入：無\n",
    "- 預期輸出：一個長度為 100 的 list"
   ]
  },
  {
   "cell_type": "code",
   "execution_count": 2,
   "metadata": {
    "slideshow": {
     "slide_type": "subslide"
    }
   },
   "outputs": [],
   "source": [
    "def fizz_buzz_100():\n",
    "    \"\"\"\n",
    "    >>> fizz_buzz_100()\n",
    "    [1, 2, 'Fizz', 4, 'Buzz',..., 14, 'Fizz Buzz', ..., 98, 'Fizz', 'Buzz']\n",
    "    \"\"\"\n",
    "    fizz_buzz = list()\n",
    "    for i in range(1, 101):\n",
    "        if i % 15 == 0:\n",
    "            fizz_buzz.append('Fizz Buzz')\n",
    "        elif i % 3 == 0:\n",
    "            fizz_buzz.append('Fizz')\n",
    "        elif i % 5 == 0:\n",
    "            fizz_buzz.append('Buzz')\n",
    "        else:\n",
    "            fizz_buzz.append(i)\n",
    "    return fizz_buzz"
   ]
  },
  {
   "cell_type": "markdown",
   "metadata": {
    "slideshow": {
     "slide_type": "subslide"
    }
   },
   "source": [
    "## 隨堂練習：定義一個函式 `reverse_vowels(x)` 將英文單字的母音（a, e, i, o, u）更換為大寫、（A, E, I, O, U）更換為小寫\n",
    "\n",
    "- 預期輸入：一個文字 `x`\n",
    "- 預期輸出：一個文字\n",
    "\n",
    "備註：使用 `x.upper()` 與 `x.lower()` 可以將 `x` 更換成大寫或小寫"
   ]
  },
  {
   "cell_type": "code",
   "execution_count": 3,
   "metadata": {
    "slideshow": {
     "slide_type": "subslide"
    }
   },
   "outputs": [],
   "source": [
    "def reverse_vowels(x):\n",
    "    \"\"\"\n",
    "    >>> reverse_vowels('Luke Skywalker')\n",
    "    'LUkE SkywAlEr'\n",
    "    >>> reverse_vowels('Darth Vadar')\n",
    "    'DArth VAdAr'\n",
    "    >>> reverse_vowels('The Avengers')\n",
    "    'ThE avEngErs'\n",
    "    \"\"\"\n",
    "    upper_cased_vowels = ['A', 'E', 'I', 'O', 'U']\n",
    "    lower_cased_vowels = ['a', 'e', 'i', 'o', 'u']\n",
    "    ans = ''\n",
    "    for s in x:\n",
    "        if s in upper_cased_vowels:\n",
    "            ans += s.lower()\n",
    "        elif s in lower_cased_vowels:\n",
    "            ans += s.upper()\n",
    "        else:\n",
    "            ans += s\n",
    "    return ans"
   ]
  },
  {
   "cell_type": "markdown",
   "metadata": {
    "slideshow": {
     "slide_type": "subslide"
    }
   },
   "source": [
    "## 隨堂練習：定義一個函式 `find_primes(x, y)` 將介於 x 到 y 之間的質數儲存在一個 list 之中回傳，假如 x、y 是質數則回傳的 list 要包含 x 與 y\n",
    "\n",
    "- 預期輸入：兩個整數 `x` 與 `y`\n",
    "- 預期輸出：一個 list"
   ]
  },
  {
   "cell_type": "code",
   "execution_count": 4,
   "metadata": {
    "slideshow": {
     "slide_type": "subslide"
    }
   },
   "outputs": [],
   "source": [
    "def find_primes(x, y):\n",
    "    \"\"\"\n",
    "    >>> find_primes(1, 7)\n",
    "    [2, 3, 5, 7]\n",
    "    >>> find_primes(11, 20)\n",
    "    [11, 13, 17, 19]\n",
    "    >>> find_primes(11, 29)\n",
    "    [11, 13, 17, 19, 23, 29]\n",
    "    \"\"\"\n",
    "    primes = list()\n",
    "    for i in range(x, y+1):\n",
    "        n_divisors = 0\n",
    "        for j in range(1, i+1):\n",
    "            if i % j == 0:\n",
    "                n_divisors += 1\n",
    "        if n_divisors == 2:\n",
    "            primes.append(i)\n",
    "    return primes"
   ]
  },
  {
   "cell_type": "markdown",
   "metadata": {
    "slideshow": {
     "slide_type": "subslide"
    }
   },
   "source": [
    "## 隨堂練習：定義一個函式 `ascii_dict()` 將大寫英文字母 A 到 Z 與小寫英文字母 a 到 z 這 52 個字母所對應的十進位 [ASCII](https://zh.wikipedia.org/wiki/ASCII) 編碼以 `dict` 的格式回傳\n",
    "\n",
    "- 預期輸入：無\n",
    "- 預期輸出：一個長度為 52 的 dict\n",
    "\n",
    "備註：使用 `ord()` 可以獲得 `x` 的十進位 ASCII 編碼、使用 `chr()` 可以獲得十進位 ASCII 編碼的字母"
   ]
  },
  {
   "cell_type": "code",
   "execution_count": 5,
   "metadata": {
    "slideshow": {
     "slide_type": "subslide"
    }
   },
   "outputs": [],
   "source": [
    "def ascii_dict():\n",
    "    \"\"\"\n",
    "    >>> ascii_dict()\n",
    "    {'A': 65, 'B': 66, ..., 'Y': 89, 'Z': 90, 'a': 97, 'b': 98, ..., 'y': 121, 'z': 122}\n",
    "    \"\"\"\n",
    "    int_list = list(range(65, 91)) + list(range(97, 123))\n",
    "    ans = dict()\n",
    "    for i in int_list:\n",
    "        letter = chr(i)\n",
    "        ans[letter] = i\n",
    "    return ans"
   ]
  },
  {
   "cell_type": "code",
   "execution_count": 6,
   "metadata": {
    "slideshow": {
     "slide_type": "subslide"
    }
   },
   "outputs": [
    {
     "name": "stderr",
     "output_type": "stream",
     "text": [
      "test_ascii_dict (__main__.TestIterations) ... ok\n",
      "test_find_odds (__main__.TestIterations) ... ok\n",
      "test_find_primes (__main__.TestIterations) ... ok\n",
      "test_fizz_buzz_100 (__main__.TestIterations) ... ok\n",
      "test_reverse_vowels (__main__.TestIterations) ... ok\n",
      "\n",
      "----------------------------------------------------------------------\n",
      "Ran 5 tests in 0.004s\n",
      "\n",
      "OK\n"
     ]
    }
   ],
   "source": [
    "# %load ../test_cases/test_cases_06.py\n",
    "import unittest\n",
    "\n",
    "class TestIterations(unittest.TestCase):\n",
    "    def test_find_odds(self):\n",
    "        self.assertEqual(find_odds(5, 10), [5, 7, 9])\n",
    "        self.assertEqual(find_odds(10, 15), [11, 13, 15])\n",
    "        self.assertEqual(find_odds(11, 19), [11, 13, 15, 17, 19])\n",
    "    def test_fizz_buzz_100(self):\n",
    "        self.assertEqual(fizz_buzz_100(), [1, 2, 'Fizz', 4, 'Buzz', 'Fizz', 7, 8, 'Fizz', 'Buzz', 11, 'Fizz', 13, 14, 'Fizz Buzz', 16, 17, 'Fizz', 19, 'Buzz', 'Fizz', 22, 23, 'Fizz', 'Buzz', 26, 'Fizz', 28, 29, 'Fizz Buzz', 31, 32, 'Fizz', 34, 'Buzz', 'Fizz', 37, 38, 'Fizz', 'Buzz', 41, 'Fizz', 43, 44, 'Fizz Buzz', 46, 47, 'Fizz', 49, 'Buzz', 'Fizz', 52, 53, 'Fizz', 'Buzz', 56, 'Fizz', 58, 59, 'Fizz Buzz', 61, 62, 'Fizz', 64, 'Buzz', 'Fizz', 67, 68, 'Fizz', 'Buzz', 71, 'Fizz', 73, 74, 'Fizz Buzz', 76, 77, 'Fizz', 79, 'Buzz', 'Fizz', 82, 83, 'Fizz', 'Buzz', 86, 'Fizz', 88, 89, 'Fizz Buzz', 91, 92, 'Fizz', 94, 'Buzz', 'Fizz', 97, 98, 'Fizz', 'Buzz'])\n",
    "    def test_reverse_vowels(self):\n",
    "        self.assertEqual(reverse_vowels('Luke Skywalker'), 'LUkE SkywAlkEr')\n",
    "        self.assertEqual(reverse_vowels('Darth Vadar'), 'DArth VAdAr')\n",
    "        self.assertEqual(reverse_vowels('The Avengers'), 'ThE avEngErs')\n",
    "    def test_find_primes(self):\n",
    "        self.assertEqual(find_primes(1, 7), [2, 3, 5, 7])\n",
    "        self.assertEqual(find_primes(11, 20), [11, 13, 17, 19])\n",
    "        self.assertEqual(find_primes(11, 29), [11, 13, 17, 19, 23, 29])\n",
    "    def test_ascii_dict(self):\n",
    "        self.assertEqual(ascii_dict(), {'A': 65, 'B': 66, 'C': 67, 'D': 68, 'E': 69, 'F': 70, 'G': 71, 'H': 72, 'I': 73, 'J': 74, 'K': 75, 'L': 76, 'M': 77, 'N': 78, 'O': 79, 'P': 80, 'Q': 81, 'R': 82, 'S': 83, 'T': 84, 'U': 85, 'V': 86, 'W': 87, 'X': 88, 'Y': 89, 'Z': 90, 'a': 97, 'b': 98, 'c': 99, 'd': 100, 'e': 101, 'f': 102, 'g': 103, 'h': 104, 'i': 105, 'j': 106, 'k': 107, 'l': 108, 'm': 109, 'n': 110, 'o': 111, 'p': 112, 'q': 113, 'r': 114, 's': 115, 't': 116, 'u': 117, 'v': 118, 'w': 119, 'x': 120, 'y': 121, 'z': 122})\n",
    "\n",
    "suite = unittest.TestLoader().loadTestsFromTestCase(TestIterations)\n",
    "runner = unittest.TextTestRunner(verbosity=2)\n",
    "test_results = runner.run(suite)"
   ]
  }
 ],
 "metadata": {
  "celltoolbar": "Slideshow",
  "kernelspec": {
   "display_name": "Python 3",
   "language": "python",
   "name": "python3"
  },
  "language_info": {
   "codemirror_mode": {
    "name": "ipython",
    "version": 3
   },
   "file_extension": ".py",
   "mimetype": "text/x-python",
   "name": "python",
   "nbconvert_exporter": "python",
   "pygments_lexer": "ipython3",
   "version": "3.7.7"
  }
 },
 "nbformat": 4,
 "nbformat_minor": 2
}
