{
 "cells": [
  {
   "cell_type": "markdown",
   "metadata": {
    "slideshow": {
     "slide_type": "slide"
    }
   },
   "source": [
    "# 成為初級資料分析師 | Python 程式設計\n",
    "\n",
    "> 資料型態：參考解答\n",
    "\n",
    "## 郭耀仁"
   ]
  },
  {
   "cell_type": "markdown",
   "metadata": {
    "slideshow": {
     "slide_type": "subslide"
    }
   },
   "source": [
    "## 隨堂練習：定義一個函式 `what_ross_said()` 回傳這段文字\n",
    "\n",
    "```\n",
    "Let's put aside the fact that you \"accidentally\" pick up my grandmother's ring.\n",
    "```\n",
    "\n",
    "- 預期輸入：無\n",
    "- 預期輸出：一個文字"
   ]
  },
  {
   "cell_type": "code",
   "execution_count": 1,
   "metadata": {
    "slideshow": {
     "slide_type": "subslide"
    }
   },
   "outputs": [],
   "source": [
    "def what_ross_said():\n",
    "    \"\"\"\n",
    "    >>> what_ross_said() # The One Where Emma Cries, Episode 9.02, Friends\n",
    "    Let's put aside the fact that you \"accidentally\" pick up my grandmother's ring.\n",
    "    \"\"\"\n",
    "    ross_said = \"\"\"Let's put aside the fact that you \"accidentally\" pick up my grandmother's ring.\"\"\"\n",
    "    return ross_said"
   ]
  },
  {
   "cell_type": "markdown",
   "metadata": {
    "slideshow": {
     "slide_type": "subslide"
    }
   },
   "source": [
    "## 隨堂練習：定義一個函式 `hello_something(something)` 可以回傳這段文字\n",
    "\n",
    "```\n",
    "Hello, ＯＯＯ!\n",
    "```\n",
    "\n",
    "- 預期輸入：一個文字 `something`\n",
    "- 預期輸出：一個文字"
   ]
  },
  {
   "cell_type": "code",
   "execution_count": 2,
   "metadata": {
    "slideshow": {
     "slide_type": "subslide"
    }
   },
   "outputs": [],
   "source": [
    "def hello_something(something):\n",
    "    \"\"\"\n",
    "    >>> hello_something('world')\n",
    "    'Hello, world!'\n",
    "    >>> hello_something('Earth')\n",
    "    'Hello, Earth!'\n",
    "    \"\"\"\n",
    "    str_interpolate = \"Hello, {}!\".format(something)\n",
    "    return str_interpolate"
   ]
  },
  {
   "cell_type": "markdown",
   "metadata": {
    "slideshow": {
     "slide_type": "subslide"
    }
   },
   "source": [
    "## 隨堂練習：定義一個函式 `is_odd(x)` 回傳 `x` 是否為一個奇數，若是奇數回傳 `True` 否則回傳`False`\n",
    "\n",
    "- 預期輸入：一個整數 `x`\n",
    "- 預期輸出：一個布林"
   ]
  },
  {
   "cell_type": "code",
   "execution_count": 3,
   "metadata": {
    "slideshow": {
     "slide_type": "subslide"
    }
   },
   "outputs": [],
   "source": [
    "def is_odd(x):\n",
    "    \"\"\"\n",
    "    >>> is_odd(0)\n",
    "    False\n",
    "    >>> is_odd(1)\n",
    "    True\n",
    "    >>> is_odd(2)\n",
    "    False\n",
    "    >>> is_odd(3)\n",
    "    True\n",
    "    \"\"\"\n",
    "    modulo = x % 2\n",
    "    return modulo == 1"
   ]
  },
  {
   "cell_type": "markdown",
   "metadata": {
    "slideshow": {
     "slide_type": "subslide"
    }
   },
   "source": [
    "## 隨堂練習：定義一個函式 `last_digit_is_odd(id_str)` 判斷身分證字號尾數是否為一個奇數，若是奇數回傳 `True` 否則回傳`False`\n",
    "\n",
    "- 預期輸入：一個文字 `id_str`\n",
    "- 預期輸出：一個布林\n",
    "\n",
    "備註：使用 `id_str[-1]` 可以取出 `id_str` 最末端的文字"
   ]
  },
  {
   "cell_type": "code",
   "execution_count": 4,
   "metadata": {
    "slideshow": {
     "slide_type": "subslide"
    }
   },
   "outputs": [],
   "source": [
    "def last_digit_is_odd(id_str):\n",
    "    \"\"\"\n",
    "    >>> last_digit_is_odd('A123456789')\n",
    "    True\n",
    "    >>> last_digit_is_odd('A123456780')\n",
    "    False\n",
    "    \"\"\"\n",
    "    last_digit_str = id_str[-1]\n",
    "    last_digit_int = int(last_digit_str)\n",
    "    modulo = last_digit_int % 2\n",
    "    return modulo == 1"
   ]
  },
  {
   "cell_type": "markdown",
   "metadata": {
    "slideshow": {
     "slide_type": "subslide"
    }
   },
   "source": [
    "## 隨堂練習：定義一個函式 `is_overweight(height, weight)` 可以依據身高（公分）與體重（公斤）判斷是否符合 BMI 定義的過重（BMI > 30 則判定為過重）\n",
    "\n",
    "- 預期輸入：兩個數值 `height` 與 `weight`\n",
    "- 預期輸出：一個布林"
   ]
  },
  {
   "cell_type": "code",
   "execution_count": 5,
   "metadata": {
    "slideshow": {
     "slide_type": "subslide"
    }
   },
   "outputs": [],
   "source": [
    "def is_overweight(height, weight):\n",
    "    \"\"\"\n",
    "    >>> is_overweight(198, 129) # Zion Williamson\n",
    "    True\n",
    "    >>> is_overweight(198, 98)  # Michael Jordan\n",
    "    False\n",
    "    \"\"\"\n",
    "    bmi = weight / (height*0.01)**2\n",
    "    return bmi > 30"
   ]
  },
  {
   "cell_type": "code",
   "execution_count": 6,
   "metadata": {},
   "outputs": [
    {
     "name": "stderr",
     "output_type": "stream",
     "text": [
      "test_hello_something (__main__.TestDataTypes) ... ok\n",
      "test_is_odd (__main__.TestDataTypes) ... ok\n",
      "test_is_overweight (__main__.TestDataTypes) ... ok\n",
      "test_last_digit_is_odd (__main__.TestDataTypes) ... ok\n",
      "test_what_ross_said (__main__.TestDataTypes) ... ok\n",
      "\n",
      "----------------------------------------------------------------------\n",
      "Ran 5 tests in 0.008s\n",
      "\n",
      "OK\n"
     ]
    }
   ],
   "source": [
    "# %load ../test_cases/test_cases_03.py\n",
    "import unittest\n",
    "\n",
    "class TestDataTypes(unittest.TestCase):\n",
    "    def test_what_ross_said(self):\n",
    "        self.assertEqual(what_ross_said(), \"\"\"Let's put aside the fact that you \"accidentally\" pick up my grandmother's ring.\"\"\")\n",
    "        self.assertIs(type(what_ross_said()), str)\n",
    "    def test_hello_something(self):\n",
    "        self.assertEqual(hello_something('world'), 'Hello, world!')\n",
    "        self.assertEqual(hello_something('Earth'), 'Hello, Earth!')\n",
    "    def test_is_odd(self):\n",
    "        self.assertFalse(is_odd(0))\n",
    "        self.assertTrue(is_odd(1))\n",
    "        self.assertFalse(is_odd(2))\n",
    "        self.assertTrue(is_odd(3))\n",
    "    def test_last_digit_is_odd(self):\n",
    "        self.assertTrue(last_digit_is_odd('A123456789'))\n",
    "        self.assertFalse(last_digit_is_odd('A123456780'))\n",
    "    def test_is_overweight(self):\n",
    "        self.assertTrue(is_overweight(198, 129))\n",
    "        self.assertFalse(is_overweight(198, 98))\n",
    "\n",
    "suite = unittest.TestLoader().loadTestsFromTestCase(TestDataTypes)\n",
    "runner = unittest.TextTestRunner(verbosity=2)\n",
    "test_results = runner.run(suite)"
   ]
  }
 ],
 "metadata": {
  "celltoolbar": "Slideshow",
  "kernelspec": {
   "display_name": "Python 3",
   "language": "python",
   "name": "python3"
  },
  "language_info": {
   "codemirror_mode": {
    "name": "ipython",
    "version": 3
   },
   "file_extension": ".py",
   "mimetype": "text/x-python",
   "name": "python",
   "nbconvert_exporter": "python",
   "pygments_lexer": "ipython3",
   "version": "3.7.7"
  }
 },
 "nbformat": 4,
 "nbformat_minor": 1
}
