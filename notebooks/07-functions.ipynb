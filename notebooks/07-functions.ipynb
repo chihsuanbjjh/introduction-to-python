{
 "cells": [
  {
   "cell_type": "markdown",
   "metadata": {
    "slideshow": {
     "slide_type": "slide"
    }
   },
   "source": [
    "# 成為初級資料分析師 | Python 程式設計\n",
    "\n",
    "> 函式\n",
    "\n",
    "## 郭耀仁"
   ]
  },
  {
   "cell_type": "markdown",
   "metadata": {
    "slideshow": {
     "slide_type": "subslide"
    }
   },
   "source": [
    "> One way to organize our Python code and make it more readable and reusable is functions."
   ]
  },
  {
   "cell_type": "markdown",
   "metadata": {
    "slideshow": {
     "slide_type": "subslide"
    }
   },
   "source": [
    "## 程式封裝的三個層級\n",
    "\n",
    "- 模組與套件（Modules and classes）\n",
    "    - 類別（Classes）\n",
    "        - **函式（Functions）**"
   ]
  },
  {
   "cell_type": "markdown",
   "metadata": {
    "slideshow": {
     "slide_type": "subslide"
    }
   },
   "source": [
    "## 大綱\n",
    "\n",
    "- 預設參數\n",
    "- 多個輸出\n",
    "- 不定個數輸入：彈性參數\n",
    "- `lambda`\n",
    "- 錯誤與例外\n",
    "- 全域（Global）與區域（Local）\n",
    "- 遞迴（Recursion）\n",
    "- 隨堂練習"
   ]
  },
  {
   "cell_type": "markdown",
   "metadata": {
    "slideshow": {
     "slide_type": "slide"
    }
   },
   "source": [
    "## 預設參數"
   ]
  },
  {
   "cell_type": "markdown",
   "metadata": {
    "slideshow": {
     "slide_type": "subslide"
    }
   },
   "source": [
    "## 給函式一個最常使用的參數設定，但又賦予讓使用者更動的彈性"
   ]
  },
  {
   "cell_type": "markdown",
   "metadata": {
    "slideshow": {
     "slide_type": "subslide"
    }
   },
   "source": [
    "## 寫作一個函式 `get_circle_metrics()` 預設計算面積、但亦可以計算周長\n",
    "\n",
    "\\begin{equation}\n",
    "\\text{Circle Area} = \\pi r^2 \\\\\n",
    "\\text{Circle Perimeter} = 2 \\pi r\n",
    "\\end{equation}"
   ]
  },
  {
   "cell_type": "code",
   "execution_count": null,
   "metadata": {
    "slideshow": {
     "slide_type": "subslide"
    }
   },
   "outputs": [],
   "source": [
    "def get_circle_metrics(r, is_area=True):\n",
    "    \"\"\"\n",
    "    依據半徑計算圓形面積或周長\n",
    "    \"\"\"\n",
    "    pi = 3.14156\n",
    "    if is_area:\n",
    "        return pi*r**2\n",
    "    else:\n",
    "        return 2*pi*r\n",
    "help(get_circle_metrics)\n",
    "print(get_circle_metrics(3))\n",
    "print(get_circle_metrics(3, False))"
   ]
  },
  {
   "cell_type": "markdown",
   "metadata": {
    "slideshow": {
     "slide_type": "slide"
    }
   },
   "source": [
    "## 多個輸出"
   ]
  },
  {
   "cell_type": "markdown",
   "metadata": {
    "slideshow": {
     "slide_type": "subslide"
    }
   },
   "source": [
    "## 函式若需要多個輸出可以仰賴預設的 `tuple`\n",
    "\n",
    "```python\n",
    "def function_name():\n",
    "    # 生成多個輸出\n",
    "    return output_0, output_1, ...\n",
    "```"
   ]
  },
  {
   "cell_type": "markdown",
   "metadata": {
    "slideshow": {
     "slide_type": "subslide"
    }
   },
   "source": [
    "## 寫作一個函式 `get_circle_metrics()` 計算面積以及周長"
   ]
  },
  {
   "cell_type": "code",
   "execution_count": null,
   "metadata": {
    "slideshow": {
     "slide_type": "subslide"
    }
   },
   "outputs": [],
   "source": [
    "def get_circle_metrics(r):\n",
    "    \"\"\"\n",
    "    依據半徑計算圓形面積以及周長\n",
    "    \"\"\"\n",
    "    pi = 3.14156\n",
    "    area = pi*r**2\n",
    "    perimeter = 2*pi*r\n",
    "    return area, perimeter\n",
    "print(get_circle_metrics(3))\n",
    "print(type(get_circle_metrics(3)))"
   ]
  },
  {
   "cell_type": "code",
   "execution_count": null,
   "metadata": {
    "slideshow": {
     "slide_type": "subslide"
    }
   },
   "outputs": [],
   "source": [
    "circle_area, circle_perimeter = get_circle_metrics(3)\n",
    "print(circle_area)\n",
    "print(circle_perimeter)"
   ]
  },
  {
   "cell_type": "markdown",
   "metadata": {
    "slideshow": {
     "slide_type": "subslide"
    }
   },
   "source": [
    "## 亦可以利用其他資料結構回傳\n",
    "\n",
    "- `list`\n",
    "- `dict`\n",
    "- `set`"
   ]
  },
  {
   "cell_type": "markdown",
   "metadata": {
    "slideshow": {
     "slide_type": "slide"
    }
   },
   "source": [
    "## 不定個數輸入：彈性參數"
   ]
  },
  {
   "cell_type": "markdown",
   "metadata": {
    "slideshow": {
     "slide_type": "subslide"
    }
   },
   "source": [
    "## 有時我們的函式不確定使用者會想輸入幾個參數"
   ]
  },
  {
   "cell_type": "markdown",
   "metadata": {
    "slideshow": {
     "slide_type": "subslide"
    }
   },
   "source": [
    "## `*args` 讓使用者可以傳入可迭代的 tuple 物件"
   ]
  },
  {
   "cell_type": "code",
   "execution_count": null,
   "metadata": {},
   "outputs": [],
   "source": [
    "def get_args(*args):\n",
    "    return args\n",
    "\n",
    "get_args(5, 5, 6, 6)"
   ]
  },
  {
   "cell_type": "markdown",
   "metadata": {
    "slideshow": {
     "slide_type": "subslide"
    }
   },
   "source": [
    "## `**kwargs` 讓使用者可以傳入可迭代的 dict-like 物件"
   ]
  },
  {
   "cell_type": "code",
   "execution_count": null,
   "metadata": {},
   "outputs": [],
   "source": [
    "def get_kwargs(**kwargs):\n",
    "    return kwargs\n",
    "\n",
    "get_kwargs(中正區=100, 大同區=103, 中山區=104)"
   ]
  },
  {
   "cell_type": "markdown",
   "metadata": {
    "slideshow": {
     "slide_type": "slide"
    }
   },
   "source": [
    "## `lambda`"
   ]
  },
  {
   "cell_type": "markdown",
   "metadata": {
    "slideshow": {
     "slide_type": "subslide"
    }
   },
   "source": [
    "## 不使用 `def` 保留字與 `return` 自訂函式"
   ]
  },
  {
   "cell_type": "code",
   "execution_count": null,
   "metadata": {
    "slideshow": {
     "slide_type": "-"
    }
   },
   "outputs": [],
   "source": [
    "# Define\n",
    "modulo_of_2 = lambda x: x%2\n",
    "# Use\n",
    "modulo_of_2(0)"
   ]
  },
  {
   "cell_type": "markdown",
   "metadata": {
    "slideshow": {
     "slide_type": "subslide"
    }
   },
   "source": [
    "## 常與 `lambda` 一起使用的函式型函式（functional functions）\n",
    "\n",
    "- `map()`\n",
    "- `filter()`"
   ]
  },
  {
   "cell_type": "code",
   "execution_count": null,
   "metadata": {
    "slideshow": {
     "slide_type": "subslide"
    }
   },
   "outputs": [],
   "source": [
    "help(map)"
   ]
  },
  {
   "cell_type": "code",
   "execution_count": null,
   "metadata": {
    "slideshow": {
     "slide_type": "subslide"
    }
   },
   "outputs": [],
   "source": [
    "help(filter)"
   ]
  },
  {
   "cell_type": "code",
   "execution_count": null,
   "metadata": {
    "slideshow": {
     "slide_type": "subslide"
    }
   },
   "outputs": [],
   "source": [
    "map(lambda x: x%2, range(10))"
   ]
  },
  {
   "cell_type": "code",
   "execution_count": null,
   "metadata": {
    "slideshow": {
     "slide_type": "subslide"
    }
   },
   "outputs": [],
   "source": [
    "filter(lambda x: x%2, range(10))"
   ]
  },
  {
   "cell_type": "markdown",
   "metadata": {
    "slideshow": {
     "slide_type": "subslide"
    }
   },
   "source": [
    "## `map()` 與 `filter()` 的輸出是一種特殊類別，稱為產生器（Generator）\n",
    "\n",
    "產生器類別的輸出必須搭配使用資料結構函式，常用的是 `list()`。"
   ]
  },
  {
   "cell_type": "code",
   "execution_count": null,
   "metadata": {
    "slideshow": {
     "slide_type": "subslide"
    }
   },
   "outputs": [],
   "source": [
    "list(map(lambda x: x%2, range(10)))"
   ]
  },
  {
   "cell_type": "code",
   "execution_count": null,
   "metadata": {
    "slideshow": {
     "slide_type": "subslide"
    }
   },
   "outputs": [],
   "source": [
    "list(filter(lambda x: x%2, range(10)))"
   ]
  },
  {
   "cell_type": "markdown",
   "metadata": {
    "slideshow": {
     "slide_type": "subslide"
    }
   },
   "source": [
    "## 許多的內建函式輸出都是產生器（Generator）類別\n",
    "\n",
    "- `map()`\n",
    "- `filter()`\n",
    "- `enumerate()`\n",
    "- `zip()`"
   ]
  },
  {
   "cell_type": "code",
   "execution_count": null,
   "metadata": {
    "slideshow": {
     "slide_type": "subslide"
    }
   },
   "outputs": [],
   "source": [
    "first_five_primes = [2, 3, 5, 7, 11]\n",
    "enumerate(first_five_primes)"
   ]
  },
  {
   "cell_type": "code",
   "execution_count": null,
   "metadata": {
    "slideshow": {
     "slide_type": "subslide"
    }
   },
   "outputs": [],
   "source": [
    "list(enumerate(first_five_primes))"
   ]
  },
  {
   "cell_type": "code",
   "execution_count": null,
   "metadata": {
    "slideshow": {
     "slide_type": "subslide"
    }
   },
   "outputs": [],
   "source": [
    "first_five_odds = [1, 3, 5, 7, 9]\n",
    "zip(first_five_primes, first_five_odds)"
   ]
  },
  {
   "cell_type": "code",
   "execution_count": null,
   "metadata": {
    "slideshow": {
     "slide_type": "subslide"
    }
   },
   "outputs": [],
   "source": [
    "list(zip(first_five_primes, first_five_odds))"
   ]
  },
  {
   "cell_type": "markdown",
   "metadata": {
    "slideshow": {
     "slide_type": "subslide"
    }
   },
   "source": [
    "## 使用產生器（Generator）類別時要注意兩件事\n",
    "\n",
    "- 需要將輸出實體化\n",
    "- 實體化僅能進行一次"
   ]
  },
  {
   "cell_type": "code",
   "execution_count": null,
   "metadata": {
    "slideshow": {
     "slide_type": "subslide"
    }
   },
   "outputs": [],
   "source": [
    "map_object = map(lambda x: x%2, range(10))\n",
    "print(list(map_object))\n",
    "print(list(map_object))"
   ]
  },
  {
   "cell_type": "markdown",
   "metadata": {
    "slideshow": {
     "slide_type": "subslide"
    }
   },
   "source": [
    "## 如何自訂一個產生器？\n",
    "\n",
    "使用類似 List comprehension 的語法，將中括號 `[]` 改為小括號 `()`。"
   ]
  },
  {
   "cell_type": "code",
   "execution_count": null,
   "metadata": {
    "slideshow": {
     "slide_type": "subslide"
    }
   },
   "outputs": [],
   "source": [
    "my_generator = (i%2 for i in range(10))\n",
    "print(my_generator)\n",
    "print(list(my_generator))"
   ]
  },
  {
   "cell_type": "markdown",
   "metadata": {
    "slideshow": {
     "slide_type": "subslide"
    }
   },
   "source": [
    "## 如何自訂一個生成產生器的函式\n",
    "\n",
    "使用 `yield` 保留字。"
   ]
  },
  {
   "cell_type": "code",
   "execution_count": null,
   "metadata": {
    "slideshow": {
     "slide_type": "subslide"
    }
   },
   "outputs": [],
   "source": [
    "def my_generator(x):\n",
    "    for i in range(x):\n",
    "        yield i%2\n",
    "print(my_generator(10))\n",
    "print(list(my_generator(10)))"
   ]
  },
  {
   "cell_type": "markdown",
   "metadata": {
    "slideshow": {
     "slide_type": "slide"
    }
   },
   "source": [
    "## 錯誤與例外"
   ]
  },
  {
   "cell_type": "markdown",
   "metadata": {
    "slideshow": {
     "slide_type": "subslide"
    }
   },
   "source": [
    "## 三種基本的錯誤\n",
    "\n",
    "- Syntax errors：語法錯誤\n",
    "- Runtime errors：直譯錯誤\n",
    "- Semantic errors：邏輯錯誤"
   ]
  },
  {
   "cell_type": "code",
   "execution_count": null,
   "metadata": {
    "slideshow": {
     "slide_type": "subslide"
    }
   },
   "outputs": [],
   "source": [
    "# Syntax errors\n",
    "print(\"Hello World!\""
   ]
  },
  {
   "cell_type": "markdown",
   "metadata": {
    "slideshow": {
     "slide_type": "subslide"
    }
   },
   "source": [
    "## 常見的 Runtime errors\n",
    "\n",
    "- `NameError`\n",
    "- `TypeError`\n",
    "- `IndexError`\n",
    "- `ZeroDivisionError`\n",
    "- ...etc."
   ]
  },
  {
   "cell_type": "code",
   "execution_count": null,
   "metadata": {
    "slideshow": {
     "slide_type": "subslide"
    }
   },
   "outputs": [],
   "source": [
    "# Runtime error: NameError\n",
    "msg = \"Hello World\"\n",
    "print(Msg)"
   ]
  },
  {
   "cell_type": "code",
   "execution_count": null,
   "metadata": {
    "slideshow": {
     "slide_type": "subslide"
    }
   },
   "outputs": [],
   "source": [
    "# Runtime error: TypeError\n",
    "\"55\" + 66"
   ]
  },
  {
   "cell_type": "code",
   "execution_count": null,
   "metadata": {
    "slideshow": {
     "slide_type": "subslide"
    }
   },
   "outputs": [],
   "source": [
    "# Runtime error: IndexError\n",
    "avengers_movies = [\"The Avengers\", \"Avengers: Age of Ultron\", \"Avengers: Infinity War\", \"Avengers: Endgame\"]\n",
    "avengers_movies[4]"
   ]
  },
  {
   "cell_type": "code",
   "execution_count": null,
   "metadata": {
    "slideshow": {
     "slide_type": "subslide"
    }
   },
   "outputs": [],
   "source": [
    "def divide(x, y):\n",
    "    \"\"\"\n",
    "    將輸入的兩個數字相除\n",
    "    \"\"\"\n",
    "    return x / y"
   ]
  },
  {
   "cell_type": "code",
   "execution_count": null,
   "metadata": {
    "slideshow": {
     "slide_type": "subslide"
    }
   },
   "outputs": [],
   "source": [
    "print(divide(55, 66))\n",
    "print(divide(5566, 0))"
   ]
  },
  {
   "cell_type": "markdown",
   "metadata": {
    "slideshow": {
     "slide_type": "subslide"
    }
   },
   "source": [
    "## 使用 `try...except...` 處理錯誤與例外"
   ]
  },
  {
   "cell_type": "code",
   "execution_count": null,
   "metadata": {},
   "outputs": [],
   "source": [
    "def safe_divide(x, y):\n",
    "    \"\"\"\n",
    "    將輸入的兩個數字相除\n",
    "    \"\"\"\n",
    "    try:\n",
    "        return x / y\n",
    "    except:\n",
    "        return \"Something went wrong...\""
   ]
  },
  {
   "cell_type": "code",
   "execution_count": null,
   "metadata": {
    "slideshow": {
     "slide_type": "subslide"
    }
   },
   "outputs": [],
   "source": [
    "print(safe_divide(55, 66))\n",
    "print(safe_divide(5566, 0))"
   ]
  },
  {
   "cell_type": "markdown",
   "metadata": {
    "slideshow": {
     "slide_type": "subslide"
    }
   },
   "source": [
    "## 在 `except` 後面連接錯誤的種類捕捉特定錯誤"
   ]
  },
  {
   "cell_type": "code",
   "execution_count": null,
   "metadata": {},
   "outputs": [],
   "source": [
    "def safe_divide(x, y):\n",
    "    \"\"\"\n",
    "    將輸入的兩個數字相除\n",
    "    \"\"\"\n",
    "    try:\n",
    "        return x / y\n",
    "    except ZeroDivisionError:\n",
    "        return \"Demoninator should not be zero!\"\n",
    "    except TypeError:\n",
    "        return \"Numerator and demoninator should not be strings!\""
   ]
  },
  {
   "cell_type": "code",
   "execution_count": null,
   "metadata": {
    "slideshow": {
     "slide_type": "subslide"
    }
   },
   "outputs": [],
   "source": [
    "print(safe_divide(5566, 0))\n",
    "print(safe_divide(55, '66'))"
   ]
  },
  {
   "cell_type": "markdown",
   "metadata": {
    "slideshow": {
     "slide_type": "subslide"
    }
   },
   "source": [
    "## 以 `raise` 告知使用者函式不支援的功能"
   ]
  },
  {
   "cell_type": "code",
   "execution_count": null,
   "metadata": {
    "slideshow": {
     "slide_type": "subslide"
    }
   },
   "outputs": [],
   "source": [
    "def is_prime(x):\n",
    "    \"\"\"\n",
    "    判斷輸入的正整數 x 是否為質數\n",
    "    \"\"\"\n",
    "    if x < 0:\n",
    "        raise ValueError(\"x must be positive!\")\n",
    "    elif isinstance(x, float):\n",
    "        raise ValueError(\"x must be an integer!\")\n",
    "    divisor_cnt, i = 0, 1\n",
    "    while i <= x:\n",
    "        if x % i == 0:\n",
    "            divisor_cnt += 1\n",
    "        if divisor_cnt > 2:\n",
    "            break\n",
    "        i += 1\n",
    "    return divisor_cnt == 2"
   ]
  },
  {
   "cell_type": "code",
   "execution_count": null,
   "metadata": {
    "slideshow": {
     "slide_type": "subslide"
    }
   },
   "outputs": [],
   "source": [
    "is_prime(89.0)"
   ]
  },
  {
   "cell_type": "code",
   "execution_count": null,
   "metadata": {
    "slideshow": {
     "slide_type": "subslide"
    }
   },
   "outputs": [],
   "source": [
    "is_prime(-5566)"
   ]
  },
  {
   "cell_type": "markdown",
   "metadata": {
    "slideshow": {
     "slide_type": "slide"
    }
   },
   "source": [
    "## 全域（Global）與區域（Local）"
   ]
  },
  {
   "cell_type": "markdown",
   "metadata": {
    "slideshow": {
     "slide_type": "subslide"
    }
   },
   "source": [
    "## 什麼是全域與區域？\n",
    "\n",
    "- 在函式的程式碼結構以外所建立的物件屬於全域\n",
    "- 在函數的程式碼結構中建立的物件屬於區域"
   ]
  },
  {
   "cell_type": "markdown",
   "metadata": {
    "slideshow": {
     "slide_type": "subslide"
    }
   },
   "source": [
    "## 全域物件與區域物件的差別？\n",
    "\n",
    "- 區域物件**僅可**在區域中使用\n",
    "- 全域物件可以在全域以及區域中使用"
   ]
  },
  {
   "cell_type": "code",
   "execution_count": null,
   "metadata": {
    "slideshow": {
     "slide_type": "subslide"
    }
   },
   "outputs": [],
   "source": [
    "# 區域物件僅可在區域中使用\n",
    "def get_squared(x):\n",
    "    squared_x = x**2 # Local\n",
    "    return squared_x\n",
    "\n",
    "print(get_squared(2))\n",
    "print(squared_x) # Local object cannot be accessed in global"
   ]
  },
  {
   "cell_type": "code",
   "execution_count": null,
   "metadata": {
    "slideshow": {
     "slide_type": "subslide"
    }
   },
   "outputs": [],
   "source": [
    "# 全域物件可以在全域以及區域中使用\n",
    "squared_x = 4\n",
    "print(squared_x) # Global object can be accessed in global, of course\n",
    "def get_squared():\n",
    "    return squared_x\n",
    "\n",
    "print(get_squared()) # Global object can be accessed in local"
   ]
  },
  {
   "cell_type": "markdown",
   "metadata": {
    "slideshow": {
     "slide_type": "slide"
    }
   },
   "source": [
    "## 遞迴（Recursion）"
   ]
  },
  {
   "cell_type": "markdown",
   "metadata": {
    "slideshow": {
     "slide_type": "subslide"
    }
   },
   "source": [
    "## 什麼是遞迴\n",
    "\n",
    "![Imgur](https://i.imgur.com/AU19SYx.png)"
   ]
  },
  {
   "cell_type": "markdown",
   "metadata": {
    "slideshow": {
     "slide_type": "subslide"
    }
   },
   "source": [
    "## 在定義函數的同時就呼叫「正在」定義的函數"
   ]
  },
  {
   "cell_type": "markdown",
   "metadata": {
    "slideshow": {
     "slide_type": "subslide"
    }
   },
   "source": [
    "## 常見的遞迴函數示範：階乘（factorial）函數\n",
    "\n",
    "$$n! = 1 \\times 2 \\times ... \\times (n-1) \\times n$$"
   ]
  },
  {
   "cell_type": "code",
   "execution_count": null,
   "metadata": {},
   "outputs": [],
   "source": [
    "def factorial(n):\n",
    "    if n == 0:\n",
    "        return 1\n",
    "    elif n == 1:\n",
    "        return 1\n",
    "    else:\n",
    "        return n*factorial(n-1) # recursive happens here"
   ]
  },
  {
   "cell_type": "code",
   "execution_count": null,
   "metadata": {
    "slideshow": {
     "slide_type": "subslide"
    }
   },
   "outputs": [],
   "source": [
    "print(factorial(0))\n",
    "print(factorial(1))\n",
    "print(factorial(2))\n",
    "print(factorial(3))"
   ]
  },
  {
   "cell_type": "markdown",
   "metadata": {
    "slideshow": {
     "slide_type": "subslide"
    }
   },
   "source": [
    "## 另一個常見的遞迴函數示範：Fibonacci 函數\n",
    "\n",
    "$$F_0 = 0 \\\\\n",
    "F_1 = 1 \\\\\n",
    "F_n = F_{n-1} + F_{n-2}\n",
    "$$"
   ]
  },
  {
   "cell_type": "code",
   "execution_count": null,
   "metadata": {},
   "outputs": [],
   "source": [
    "def fib(n):\n",
    "    if n == 0:\n",
    "        return 0\n",
    "    elif n == 1:\n",
    "        return 1\n",
    "    else:\n",
    "        return fib(n-1) + fib(n-2) # recursive happens here"
   ]
  },
  {
   "cell_type": "code",
   "execution_count": null,
   "metadata": {
    "slideshow": {
     "slide_type": "subslide"
    }
   },
   "outputs": [],
   "source": [
    "print(fib(0))\n",
    "print(fib(1))\n",
    "print(fib(2))\n",
    "print(fib(3))"
   ]
  },
  {
   "cell_type": "markdown",
   "metadata": {
    "slideshow": {
     "slide_type": "slide"
    }
   },
   "source": [
    "## 隨堂練習"
   ]
  },
  {
   "cell_type": "markdown",
   "metadata": {
    "slideshow": {
     "slide_type": "subslide"
    }
   },
   "source": [
    "## 隨堂練習：定義一個函式 `product(*args)` 能回傳 `*args` 所組成之數列的乘積\n",
    "\n",
    "- 預期輸入：彈性參數 `*args`\n",
    "- 預期輸出：一個數值"
   ]
  },
  {
   "cell_type": "code",
   "execution_count": null,
   "metadata": {
    "slideshow": {
     "slide_type": "subslide"
    }
   },
   "outputs": [],
   "source": [
    "def product(*args):\n",
    "    \"\"\"\n",
    "    >>> product(0, 1, 2)\n",
    "    0\n",
    "    >>> product(1, 2, 3, 4, 5)\n",
    "    120\n",
    "    >>> product(1, 3, 5, 7, 9)\n",
    "    945\n",
    "    \"\"\""
   ]
  },
  {
   "cell_type": "markdown",
   "metadata": {
    "slideshow": {
     "slide_type": "subslide"
    }
   },
   "source": [
    "## 隨堂練習：定義一個函式 `iso_country(**kwargs)` 能讓使用者創建國家的 Alpha-3 code 與國家名稱的對應 dict\n",
    "\n",
    "<https://en.wikipedia.org/wiki/List_of_ISO_3166_country_codes。\n",
    "\n",
    "- 預期輸入：彈性參數 `**kwargs`\n",
    "- 預期輸出：一個 dict"
   ]
  },
  {
   "cell_type": "code",
   "execution_count": null,
   "metadata": {
    "slideshow": {
     "slide_type": "subslide"
    }
   },
   "outputs": [],
   "source": [
    "def iso_country(**kwargs):\n",
    "    \"\"\"\n",
    "    >>> iso_country(TWN='Taiwan')\n",
    "    {'TWN': 'Taiwan'}\n",
    "    >>> iso_country(TWN='Taiwan', USA='United States of America')\n",
    "    {'TWN': 'Taiwan', 'USA': 'United States of America'}\n",
    "    >>> iso_country(TWN='Taiwan', USA='United States of America', JPN='Japan')\n",
    "    {'TWN': 'Taiwan', 'USA': 'United States of America', 'JPN': 'Japan'}\n",
    "    \"\"\""
   ]
  },
  {
   "cell_type": "markdown",
   "metadata": {
    "slideshow": {
     "slide_type": "subslide"
    }
   },
   "source": [
    "## 隨堂練習：定義一個函式 `mean(*args)` 能回傳 `*args` 所組成之數列的平均數\n",
    "\n",
    "\\begin{equation}\n",
    "\\mu = \\frac{\\sum_{i=1}^n x_i}{n}\n",
    "\\end{equation}\n",
    "\n",
    "- 預期輸入：彈性參數 `*args`\n",
    "- 預期輸出：一個數值"
   ]
  },
  {
   "cell_type": "code",
   "execution_count": null,
   "metadata": {
    "slideshow": {
     "slide_type": "subslide"
    }
   },
   "outputs": [],
   "source": [
    "def mean(*args):\n",
    "    \"\"\"\n",
    "    >>> mean(1, 3, 5, 7, 9)\n",
    "    5.0\n",
    "    >>> mean(3, 4, 5, 6, 7)\n",
    "    5.0\n",
    "    >>> mean(3)\n",
    "    3.0\n",
    "    \"\"\""
   ]
  },
  {
   "cell_type": "markdown",
   "metadata": {
    "slideshow": {
     "slide_type": "subslide"
    }
   },
   "source": [
    "## 隨堂練習：定義一個函式 `std(*args)` 回傳 `*args` 所組成之數列的樣本標準差\n",
    "\n",
    "\\begin{equation}\n",
    "\\sigma = \\sqrt{\\frac{1}{n-1}\\sum_{i=1}^{n}(x_i - \\bar{x})^2}\n",
    "\\end{equation}\n",
    "\n",
    "<https://en.wikipedia.org/wiki/Standard_deviation>\n",
    "\n",
    "- 預期輸入：彈性參數 `*args`\n",
    "- 預期輸出：一個數值或文字"
   ]
  },
  {
   "cell_type": "code",
   "execution_count": null,
   "metadata": {
    "slideshow": {
     "slide_type": "subslide"
    }
   },
   "outputs": [],
   "source": [
    "def std(*args):\n",
    "    \"\"\"\n",
    "    >>> std(1, 3, 5, 7, 9)\n",
    "    3.1622776601683795\n",
    "    >>> std(3, 4, 5, 6, 7)\n",
    "    1.5811388300841898\n",
    "    >>> std(3)\n",
    "    'Please input at least 2 numbers.'\n",
    "    \"\"\""
   ]
  },
  {
   "cell_type": "markdown",
   "metadata": {
    "slideshow": {
     "slide_type": "subslide"
    }
   },
   "source": [
    "## 隨堂練習：定義一個函式 `fibonacci(N, f0=0, f1=1)` 回傳長度為 `N`、前兩個數字分別為 `f0` 與 `f1` 的費氏數列\n",
    "\n",
    "\\begin{equation}\n",
    "F_0 = 0, F_1 = 1 \\\\\n",
    "F_n = F_{n-1} + F_{n-2} \\text{ , For } n > 1\n",
    "\\end{equation}\n",
    "\n",
    "<https://en.wikipedia.org/wiki/Fibonacci_number>\n",
    "\n",
    "- 預期輸入：三個整數\n",
    "- 預期輸出：一個長度為 N 的 list"
   ]
  },
  {
   "cell_type": "code",
   "execution_count": null,
   "metadata": {
    "slideshow": {
     "slide_type": "subslide"
    }
   },
   "outputs": [],
   "source": [
    "def fibonacci(N, f0=0, f1=1):\n",
    "    \"\"\"\n",
    "    >>> fibonacci(5)\n",
    "    [0, 1, 1, 2, 3]\n",
    "    >>> fibonacci(5, 1, 2)\n",
    "    [1, 2, 3, 5, 8]\n",
    "    >>> fibonacci(10, 1, 2)\n",
    "    [1, 2, 3, 5, 8, 13, 21, 34, 55, 89]\n",
    "    \"\"\""
   ]
  },
  {
   "cell_type": "code",
   "execution_count": null,
   "metadata": {
    "slideshow": {
     "slide_type": "subslide"
    }
   },
   "outputs": [],
   "source": [
    "%load ../test_cases/test_cases_07.py"
   ]
  }
 ],
 "metadata": {
  "celltoolbar": "Slideshow",
  "kernelspec": {
   "display_name": "Python 3",
   "language": "python",
   "name": "python3"
  },
  "language_info": {
   "codemirror_mode": {
    "name": "ipython",
    "version": 3
   },
   "file_extension": ".py",
   "mimetype": "text/x-python",
   "name": "python",
   "nbconvert_exporter": "python",
   "pygments_lexer": "ipython3",
   "version": "3.7.7"
  }
 },
 "nbformat": 4,
 "nbformat_minor": 2
}
