{
 "cells": [
  {
   "cell_type": "markdown",
   "metadata": {
    "slideshow": {
     "slide_type": "slide"
    }
   },
   "source": [
    "# 成為初級資料分析師 | Python 程式設計\n",
    "\n",
    "> 流程控制：條件判斷\n",
    "\n",
    "## 郭耀仁"
   ]
  },
  {
   "cell_type": "markdown",
   "metadata": {
    "slideshow": {
     "slide_type": "subslide"
    }
   },
   "source": [
    "> Write a program that prints the numbers from 1 to 100. But for multiples of three print “Fizz” instead of the number and for the multiples of five print “Buzz”. For numbers which are multiples of both three and five print “FizzBuzz”.\n",
    ">\n",
    "> Fizz-Buzz Test"
   ]
  },
  {
   "cell_type": "markdown",
   "metadata": {
    "slideshow": {
     "slide_type": "subslide"
    }
   },
   "source": [
    "## 大綱\n",
    "\n",
    "- 布林的應用場景\n",
    "- `if` 判斷\n",
    "- `else` 判斷\n",
    "- `elif` 判斷"
   ]
  },
  {
   "cell_type": "markdown",
   "metadata": {
    "slideshow": {
     "slide_type": "slide"
    }
   },
   "source": [
    "## 布林的應用場景"
   ]
  },
  {
   "cell_type": "markdown",
   "metadata": {
    "slideshow": {
     "slide_type": "subslide"
    }
   },
   "source": [
    "## 布林之後會出現在\n",
    "\n",
    "- **條件判斷**\n",
    "- `while` 迴圈\n",
    "- 資料篩選"
   ]
  },
  {
   "cell_type": "markdown",
   "metadata": {
    "slideshow": {
     "slide_type": "slide"
    }
   },
   "source": [
    "## `if` 判斷"
   ]
  },
  {
   "cell_type": "markdown",
   "metadata": {
    "slideshow": {
     "slide_type": "subslide"
    }
   },
   "source": [
    "## `if` 判斷的 Code Block\n",
    "\n",
    "注意 `:` 與縮排。\n",
    "\n",
    "```python\n",
    "if EXPR:\n",
    "    # EXPR 被評估為 True 時候執行縮排的程式碼\n",
    "```"
   ]
  },
  {
   "cell_type": "markdown",
   "metadata": {
    "slideshow": {
     "slide_type": "subslide"
    }
   },
   "source": [
    "## 電影評分超過 7 分就推薦去看"
   ]
  },
  {
   "cell_type": "code",
   "execution_count": 1,
   "metadata": {},
   "outputs": [
    {
     "name": "stdout",
     "output_type": "stream",
     "text": [
      "請輸入電影名稱：陽光普照\n",
      "請輸入電影評分：7.7\n",
      "陽光普照的評分為 7.7 分值得去看！\n"
     ]
    }
   ],
   "source": [
    "# 輸入一部超過 7 分的電影\n",
    "movie_title = input(\"請輸入電影名稱：\")\n",
    "movie_rating = input(\"請輸入電影評分：\")\n",
    "movie_rating = float(movie_rating)\n",
    "\n",
    "if movie_rating > 7:\n",
    "    print(\"{}的評分為 {} 分值得去看！\".format(movie_title, movie_rating))"
   ]
  },
  {
   "cell_type": "code",
   "execution_count": 2,
   "metadata": {
    "slideshow": {
     "slide_type": "subslide"
    }
   },
   "outputs": [
    {
     "name": "stdout",
     "output_type": "stream",
     "text": [
      "請輸入電影名稱：巨齒鯊\n",
      "請輸入電影評分：5.7\n"
     ]
    }
   ],
   "source": [
    "# 輸入一部未滿 7 分的電影\n",
    "movie_title = input(\"請輸入電影名稱：\")\n",
    "movie_rating = input(\"請輸入電影評分：\")\n",
    "movie_rating = float(movie_rating)\n",
    "\n",
    "if movie_rating > 7:\n",
    "    print(\"{}的評分為 {} 分值得去看！\".format(movie_title, movie_rating))"
   ]
  },
  {
   "cell_type": "markdown",
   "metadata": {
    "slideshow": {
     "slide_type": "subslide"
    }
   },
   "source": [
    "## 隨堂練習：月薪超過 4 萬或存款超過 50 萬就發信用卡"
   ]
  },
  {
   "cell_type": "code",
   "execution_count": 3,
   "metadata": {},
   "outputs": [
    {
     "name": "stdout",
     "output_type": "stream",
     "text": [
      "請輸入月薪：40001\n",
      "請輸入存款：499999\n"
     ]
    }
   ],
   "source": [
    "monthly_income = input(\"請輸入月薪：\")\n",
    "saving_account = input(\"請輸入存款：\")"
   ]
  },
  {
   "cell_type": "code",
   "execution_count": 4,
   "metadata": {
    "slideshow": {
     "slide_type": "skip"
    }
   },
   "outputs": [],
   "source": [
    "if float(monthly_income) > 40000 or float(saving_account) > 500000:\n",
    "    ans = '發信用卡'"
   ]
  },
  {
   "cell_type": "code",
   "execution_count": 5,
   "metadata": {
    "slideshow": {
     "slide_type": "fragment"
    }
   },
   "outputs": [
    {
     "name": "stdout",
     "output_type": "stream",
     "text": [
      "發信用卡\n"
     ]
    }
   ],
   "source": [
    "print(ans)"
   ]
  },
  {
   "cell_type": "code",
   "execution_count": 6,
   "metadata": {
    "slideshow": {
     "slide_type": "fragment"
    }
   },
   "outputs": [
    {
     "name": "stdout",
     "output_type": "stream",
     "text": [
      "請輸入月薪：39999\n",
      "請輸入存款：500001\n"
     ]
    }
   ],
   "source": [
    "monthly_income = input(\"請輸入月薪：\")\n",
    "saving_account = input(\"請輸入存款：\")"
   ]
  },
  {
   "cell_type": "code",
   "execution_count": 7,
   "metadata": {
    "slideshow": {
     "slide_type": "skip"
    }
   },
   "outputs": [],
   "source": [
    "if float(monthly_income) > 40000 or float(saving_account) > 500000:\n",
    "    ans = '發信用卡'"
   ]
  },
  {
   "cell_type": "code",
   "execution_count": 8,
   "metadata": {
    "slideshow": {
     "slide_type": "fragment"
    }
   },
   "outputs": [
    {
     "name": "stdout",
     "output_type": "stream",
     "text": [
      "發信用卡\n"
     ]
    }
   ],
   "source": [
    "print(ans)"
   ]
  },
  {
   "cell_type": "markdown",
   "metadata": {
    "slideshow": {
     "slide_type": "slide"
    }
   },
   "source": [
    "## `else` 判斷"
   ]
  },
  {
   "cell_type": "markdown",
   "metadata": {
    "slideshow": {
     "slide_type": "subslide"
    }
   },
   "source": [
    "## `else` 判斷的 Code Block\n",
    "\n",
    "注意 `:` 與縮排。\n",
    "\n",
    "```python\n",
    "if EXPR:\n",
    "    # EXPR 被評估為 True 時候執行縮排的程式碼\n",
    "else:\n",
    "    # EXPR 被評估為 False 時候執行縮排的程式碼\n",
    "```"
   ]
  },
  {
   "cell_type": "code",
   "execution_count": 9,
   "metadata": {
    "slideshow": {
     "slide_type": "subslide"
    }
   },
   "outputs": [
    {
     "name": "stdout",
     "output_type": "stream",
     "text": [
      "請輸入電影名稱：陽光普照\n",
      "請輸入電影評分：7.7\n",
      "陽光普照的評分為 7.7 分值得去看！\n"
     ]
    }
   ],
   "source": [
    "# 輸入一部超過 7 分的電影\n",
    "movie_title = input(\"請輸入電影名稱：\")\n",
    "movie_rating = input(\"請輸入電影評分：\")\n",
    "movie_rating = float(movie_rating)\n",
    "\n",
    "if movie_rating > 7:\n",
    "    print(\"{}的評分為 {} 分值得去看！\".format(movie_title, movie_rating))\n",
    "else:\n",
    "    print(\"{}的評分為 {} 分看了會後悔！\".format(movie_title, movie_rating))"
   ]
  },
  {
   "cell_type": "code",
   "execution_count": 10,
   "metadata": {
    "slideshow": {
     "slide_type": "subslide"
    }
   },
   "outputs": [
    {
     "name": "stdout",
     "output_type": "stream",
     "text": [
      "請輸入電影名稱：巨齒鯊\n",
      "請輸入電影評分：5.5\n",
      "巨齒鯊的評分為 5.5 分看了會後悔！\n"
     ]
    }
   ],
   "source": [
    "# 輸入一部未滿 7 分的電影\n",
    "movie_title = input(\"請輸入電影名稱：\")\n",
    "movie_rating = input(\"請輸入電影評分：\")\n",
    "movie_rating = float(movie_rating)\n",
    "\n",
    "if movie_rating > 7:\n",
    "    print(\"{}的評分為 {} 分值得去看！\".format(movie_title, movie_rating))\n",
    "else:\n",
    "    print(\"{}的評分為 {} 分看了會後悔！\".format(movie_title, movie_rating))"
   ]
  },
  {
   "cell_type": "markdown",
   "metadata": {
    "slideshow": {
     "slide_type": "subslide"
    }
   },
   "source": [
    "## 隨堂練習：判斷奇數偶數\n",
    "\n",
    "```\n",
    "## 請輸入一個正整數：5566\n",
    "## 5566 是偶數\n",
    "## 請輸入一個正整數：87\n",
    "## 87 是奇數\n",
    "```"
   ]
  },
  {
   "cell_type": "code",
   "execution_count": 11,
   "metadata": {
    "slideshow": {
     "slide_type": "-"
    }
   },
   "outputs": [
    {
     "name": "stdout",
     "output_type": "stream",
     "text": [
      "請輸入一個正整數：5566\n"
     ]
    }
   ],
   "source": [
    "user_int = input(\"請輸入一個正整數：\")"
   ]
  },
  {
   "cell_type": "code",
   "execution_count": 12,
   "metadata": {
    "slideshow": {
     "slide_type": "skip"
    }
   },
   "outputs": [],
   "source": [
    "user_int = int(user_int)\n",
    "if user_int % 2 == 0:\n",
    "    ans = \"{} 是偶數\".format(user_int)\n",
    "else:\n",
    "    ans = \"{} 是奇數\".format(user_int)"
   ]
  },
  {
   "cell_type": "code",
   "execution_count": 13,
   "metadata": {
    "slideshow": {
     "slide_type": "fragment"
    }
   },
   "outputs": [
    {
     "name": "stdout",
     "output_type": "stream",
     "text": [
      "5566 是偶數\n"
     ]
    }
   ],
   "source": [
    "print(ans)"
   ]
  },
  {
   "cell_type": "code",
   "execution_count": 14,
   "metadata": {
    "slideshow": {
     "slide_type": "fragment"
    }
   },
   "outputs": [
    {
     "name": "stdout",
     "output_type": "stream",
     "text": [
      "請輸入一個正整數：87\n"
     ]
    }
   ],
   "source": [
    "user_int = input(\"請輸入一個正整數：\")"
   ]
  },
  {
   "cell_type": "code",
   "execution_count": 15,
   "metadata": {
    "slideshow": {
     "slide_type": "skip"
    }
   },
   "outputs": [],
   "source": [
    "user_int = int(user_int)\n",
    "if user_int % 2 == 0:\n",
    "    ans = \"{} 是偶數\".format(user_int)\n",
    "else:\n",
    "    ans = \"{} 是奇數\".format(user_int)"
   ]
  },
  {
   "cell_type": "code",
   "execution_count": 16,
   "metadata": {
    "slideshow": {
     "slide_type": "fragment"
    }
   },
   "outputs": [
    {
     "name": "stdout",
     "output_type": "stream",
     "text": [
      "87 是奇數\n"
     ]
    }
   ],
   "source": [
    "print(ans)"
   ]
  },
  {
   "cell_type": "markdown",
   "metadata": {
    "slideshow": {
     "slide_type": "subslide"
    }
   },
   "source": [
    "## 隨堂練習：依身分證字號尾數決定星期幾可以購買口罩\n",
    "\n",
    "- 奇數：星期一三五日領\n",
    "- 偶數：星期二四六日領"
   ]
  },
  {
   "cell_type": "code",
   "execution_count": 17,
   "metadata": {},
   "outputs": [
    {
     "name": "stdout",
     "output_type": "stream",
     "text": [
      "請輸入您身分證字號的尾數：5\n"
     ]
    }
   ],
   "source": [
    "id_last_digit = input(\"請輸入您身分證字號的尾數：\")"
   ]
  },
  {
   "cell_type": "code",
   "execution_count": 18,
   "metadata": {
    "slideshow": {
     "slide_type": "skip"
    }
   },
   "outputs": [],
   "source": [
    "if int(id_last_digit) % 2:\n",
    "    ans = '星期一三五日領'\n",
    "else:\n",
    "    ans = '星期二四六日領'"
   ]
  },
  {
   "cell_type": "code",
   "execution_count": 19,
   "metadata": {
    "slideshow": {
     "slide_type": "fragment"
    }
   },
   "outputs": [
    {
     "name": "stdout",
     "output_type": "stream",
     "text": [
      "星期一三五日領\n"
     ]
    }
   ],
   "source": [
    "print(ans)"
   ]
  },
  {
   "cell_type": "code",
   "execution_count": 20,
   "metadata": {
    "slideshow": {
     "slide_type": "fragment"
    }
   },
   "outputs": [
    {
     "name": "stdout",
     "output_type": "stream",
     "text": [
      "請輸入您身分證字號的尾數：6\n"
     ]
    }
   ],
   "source": [
    "id_last_digit = input(\"請輸入您身分證字號的尾數：\")"
   ]
  },
  {
   "cell_type": "code",
   "execution_count": 21,
   "metadata": {
    "slideshow": {
     "slide_type": "skip"
    }
   },
   "outputs": [],
   "source": [
    "if int(id_last_digit) % 2:\n",
    "    ans = '星期一三五日領'\n",
    "else:\n",
    "    ans = '星期二四六日領'"
   ]
  },
  {
   "cell_type": "code",
   "execution_count": 22,
   "metadata": {
    "slideshow": {
     "slide_type": "fragment"
    }
   },
   "outputs": [
    {
     "name": "stdout",
     "output_type": "stream",
     "text": [
      "星期二四六日領\n"
     ]
    }
   ],
   "source": [
    "print(ans)"
   ]
  },
  {
   "cell_type": "markdown",
   "metadata": {
    "slideshow": {
     "slide_type": "slide"
    }
   },
   "source": [
    "## `elif` 判斷"
   ]
  },
  {
   "cell_type": "markdown",
   "metadata": {
    "slideshow": {
     "slide_type": "subslide"
    }
   },
   "source": [
    "## `elif` 判斷的 Code Block\n",
    "\n",
    "注意 `:` 與縮排。\n",
    "\n",
    "```python\n",
    "if EXPR_1:\n",
    "    # EXPR_1 被評估為 True 時候執行縮排的程式碼\n",
    "elif EXPR_2:\n",
    "    # EXPR_2 被評估為 True 時候執行縮排的程式碼\n",
    "else:\n",
    "    # (EXPR_1 and EXPR_2) 被評估為 False 時候執行縮排的程式碼\n",
    "```"
   ]
  },
  {
   "cell_type": "code",
   "execution_count": 23,
   "metadata": {
    "slideshow": {
     "slide_type": "subslide"
    }
   },
   "outputs": [
    {
     "name": "stdout",
     "output_type": "stream",
     "text": [
      "請輸入電影名稱：陽光普照\n",
      "請輸入電影評分：7.7\n",
      "陽光普照的評分為 7.7 分要去電影院看！\n"
     ]
    }
   ],
   "source": [
    "# 輸入一部超過 7 分的電影\n",
    "movie_title = input(\"請輸入電影名稱：\")\n",
    "movie_rating = input(\"請輸入電影評分：\")\n",
    "movie_rating = float(movie_rating)\n",
    "\n",
    "if movie_rating > 7:\n",
    "    print(\"{}的評分為 {} 分要去電影院看！\".format(movie_title, movie_rating))\n",
    "elif movie_rating > 6:\n",
    "    print(\"{}的評分為 {} 分值得一看！\".format(movie_title, movie_rating))\n",
    "else:\n",
    "    print(\"{}的評分為 {} 分看了會後悔！\".format(movie_title, movie_rating))"
   ]
  },
  {
   "cell_type": "code",
   "execution_count": 24,
   "metadata": {
    "slideshow": {
     "slide_type": "subslide"
    }
   },
   "outputs": [
    {
     "name": "stdout",
     "output_type": "stream",
     "text": [
      "請輸入電影名稱：環太平洋\n",
      "請輸入電影評分：6.9\n",
      "環太平洋的評分為 6.9 分值得一看！\n"
     ]
    }
   ],
   "source": [
    "# 輸入一部介於 6~7 分的電影\n",
    "movie_title = input(\"請輸入電影名稱：\")\n",
    "movie_rating = input(\"請輸入電影評分：\")\n",
    "movie_rating = float(movie_rating)\n",
    "\n",
    "if movie_rating > 7:\n",
    "    print(\"{}的評分為 {} 分要去電影院看！\".format(movie_title, movie_rating))\n",
    "elif movie_rating > 6:\n",
    "    print(\"{}的評分為 {} 分值得一看！\".format(movie_title, movie_rating))\n",
    "else:\n",
    "    print(\"{}的評分為 {} 分看了會後悔！\".format(movie_title, movie_rating))"
   ]
  },
  {
   "cell_type": "code",
   "execution_count": 25,
   "metadata": {
    "slideshow": {
     "slide_type": "subslide"
    }
   },
   "outputs": [
    {
     "name": "stdout",
     "output_type": "stream",
     "text": [
      "請輸入電影名稱：環大西洋\n",
      "請輸入電影評分：1.6\n",
      "環大西洋的評分為 1.6 分看了會後悔！\n"
     ]
    }
   ],
   "source": [
    "# 輸入一部未滿 6 分的電影\n",
    "movie_title = input(\"請輸入電影名稱：\")\n",
    "movie_rating = input(\"請輸入電影評分：\")\n",
    "movie_rating = float(movie_rating)\n",
    "\n",
    "if movie_rating > 7:\n",
    "    print(\"{}的評分為 {} 分要去電影院看！\".format(movie_title, movie_rating))\n",
    "elif movie_rating > 6:\n",
    "    print(\"{}的評分為 {} 分值得一看！\".format(movie_title, movie_rating))\n",
    "else:\n",
    "    print(\"{}的評分為 {} 分看了會後悔！\".format(movie_title, movie_rating))"
   ]
  },
  {
   "cell_type": "markdown",
   "metadata": {
    "slideshow": {
     "slide_type": "skip"
    }
   },
   "source": [
    "## 複習布林運算符號（Boolean Operators）\n",
    "\n",
    "- `and` 交集：封閉區間\n",
    "- `or` 聯集：開放區間"
   ]
  },
  {
   "cell_type": "code",
   "execution_count": 26,
   "metadata": {
    "slideshow": {
     "slide_type": "skip"
    }
   },
   "outputs": [
    {
     "name": "stdout",
     "output_type": "stream",
     "text": [
      "請輸入一個 BMI 數值：25\n",
      "BMI 屬於正常的範圍\n"
     ]
    }
   ],
   "source": [
    "# 交集\n",
    "bmi = input(\"請輸入一個 BMI 數值：\")\n",
    "bmi = float(bmi)\n",
    "\n",
    "if bmi <= 30 and bmi >= 18.5:\n",
    "    print(\"BMI 屬於正常的範圍\")"
   ]
  },
  {
   "cell_type": "code",
   "execution_count": 27,
   "metadata": {
    "slideshow": {
     "slide_type": "skip"
    }
   },
   "outputs": [
    {
     "name": "stdout",
     "output_type": "stream",
     "text": [
      "請輸入一個 BMI 數值：32\n",
      "BMI 屬於需要注意的範圍\n"
     ]
    }
   ],
   "source": [
    "# 聯集\n",
    "bmi = input(\"請輸入一個 BMI 數值：\")\n",
    "bmi = float(bmi)\n",
    "\n",
    "if bmi < 18.5 or bmi > 30:\n",
    "    print(\"BMI 屬於需要注意的範圍\")"
   ]
  },
  {
   "cell_type": "markdown",
   "metadata": {
    "slideshow": {
     "slide_type": "subslide"
    }
   },
   "source": [
    "## 隨堂練習：判斷 BMI 的類別標籤\n",
    "\n",
    "參考 <https://en.wikipedia.org/wiki/Body_mass_index#/media/File:BMI_chart.svg>\n",
    "\n",
    "```\n",
    "## 請輸入身高（公分）：200\n",
    "## 請輸入體重（公斤）：80\n",
    "## 身高 200.0 公分、體重 80.0 公斤，是 Normal weight\n",
    "## 請輸入身高（公分）：170\n",
    "## 請輸入體重（公斤）：100\n",
    "## 身高 170.0 公分、體重 100.0 公斤，是 Obese\n",
    "```"
   ]
  },
  {
   "cell_type": "code",
   "execution_count": 28,
   "metadata": {
    "slideshow": {
     "slide_type": "subslide"
    }
   },
   "outputs": [
    {
     "name": "stdout",
     "output_type": "stream",
     "text": [
      "請輸入身高（公分）：200\n",
      "請輸入體重（公斤）：80\n"
     ]
    }
   ],
   "source": [
    "input_height = float(input(\"請輸入身高（公分）：\"))\n",
    "input_weight = float(input(\"請輸入體重（公斤）：\"))"
   ]
  },
  {
   "cell_type": "code",
   "execution_count": 29,
   "metadata": {
    "slideshow": {
     "slide_type": "skip"
    }
   },
   "outputs": [],
   "source": [
    "bmi = input_weight / (input_height*0.01)**2\n",
    "if bmi < 18.5:\n",
    "    bmi_index = \"Underweight\"\n",
    "elif bmi > 30:\n",
    "    bmi_index = \"Obese\"\n",
    "elif bmi < 25:\n",
    "    bmi_index = \"Normal weight\"\n",
    "else:\n",
    "    bmi_index = \"Overweight\""
   ]
  },
  {
   "cell_type": "code",
   "execution_count": 30,
   "metadata": {
    "slideshow": {
     "slide_type": "fragment"
    }
   },
   "outputs": [
    {
     "name": "stdout",
     "output_type": "stream",
     "text": [
      "身高 200.0 公分、體重 80.0 公斤，是 Normal weight\n"
     ]
    }
   ],
   "source": [
    "print(\"身高 {} 公分、體重 {} 公斤，是 {}\".format(input_height, input_weight, bmi_index))"
   ]
  },
  {
   "cell_type": "code",
   "execution_count": 31,
   "metadata": {
    "slideshow": {
     "slide_type": "fragment"
    }
   },
   "outputs": [
    {
     "name": "stdout",
     "output_type": "stream",
     "text": [
      "請輸入身高（公分）：170\n",
      "請輸入體重（公斤）：100\n"
     ]
    }
   ],
   "source": [
    "input_height = float(input(\"請輸入身高（公分）：\"))\n",
    "input_weight = float(input(\"請輸入體重（公斤）：\"))"
   ]
  },
  {
   "cell_type": "code",
   "execution_count": 32,
   "metadata": {
    "slideshow": {
     "slide_type": "skip"
    }
   },
   "outputs": [],
   "source": [
    "bmi = input_weight / (input_height*0.01)**2\n",
    "if bmi < 18.5:\n",
    "    bmi_index = \"Underweight\"\n",
    "elif bmi > 30:\n",
    "    bmi_index = \"Obese\"\n",
    "elif bmi < 25:\n",
    "    bmi_index = \"Normal weight\"\n",
    "else:\n",
    "    bmi_index = \"Overweight\""
   ]
  },
  {
   "cell_type": "code",
   "execution_count": 33,
   "metadata": {
    "slideshow": {
     "slide_type": "fragment"
    }
   },
   "outputs": [
    {
     "name": "stdout",
     "output_type": "stream",
     "text": [
      "身高 170.0 公分、體重 100.0 公斤，是 Obese\n"
     ]
    }
   ],
   "source": [
    "print(\"身高 {} 公分、體重 {} 公斤，是 {}\".format(input_height, input_weight, bmi_index))"
   ]
  },
  {
   "cell_type": "markdown",
   "metadata": {
    "slideshow": {
     "slide_type": "slide"
    }
   },
   "source": [
    "## 作業"
   ]
  },
  {
   "cell_type": "markdown",
   "metadata": {
    "slideshow": {
     "slide_type": "subslide"
    }
   },
   "source": [
    "## Fizz-Buzz\n",
    "\n",
    "- 以 `input()` 函數請使用者輸入一個正整數\n",
    "- 如果是 3 的倍數印出 \"Fizz\"\n",
    "- 如果是 5 的倍數印出 \"Buzz\"\n",
    "- 如果是 15 的倍數印出 \"Fizz Buzz\"\n",
    "- 其他情況印出該正整數即可"
   ]
  },
  {
   "cell_type": "code",
   "execution_count": 34,
   "metadata": {
    "slideshow": {
     "slide_type": "subslide"
    }
   },
   "outputs": [
    {
     "name": "stdout",
     "output_type": "stream",
     "text": [
      "請輸入一個正整數：3\n"
     ]
    }
   ],
   "source": [
    "x = int(input(\"請輸入一個正整數：\"))"
   ]
  },
  {
   "cell_type": "code",
   "execution_count": 35,
   "metadata": {
    "slideshow": {
     "slide_type": "skip"
    }
   },
   "outputs": [],
   "source": [
    "if x % 15 == 0:\n",
    "    ans = \"Fizz Buzz\"\n",
    "elif x % 3 == 0:\n",
    "    ans = \"Fizz\"\n",
    "elif x % 5 == 0:\n",
    "    ans = \"Buzz\"\n",
    "else:\n",
    "    ans = x"
   ]
  },
  {
   "cell_type": "code",
   "execution_count": 36,
   "metadata": {
    "slideshow": {
     "slide_type": "fragment"
    }
   },
   "outputs": [
    {
     "name": "stdout",
     "output_type": "stream",
     "text": [
      "Fizz\n"
     ]
    }
   ],
   "source": [
    "print(ans)"
   ]
  },
  {
   "cell_type": "code",
   "execution_count": 37,
   "metadata": {
    "slideshow": {
     "slide_type": "fragment"
    }
   },
   "outputs": [
    {
     "name": "stdout",
     "output_type": "stream",
     "text": [
      "請輸入一個正整數：5\n"
     ]
    }
   ],
   "source": [
    "x = int(input(\"請輸入一個正整數：\"))"
   ]
  },
  {
   "cell_type": "code",
   "execution_count": 38,
   "metadata": {
    "slideshow": {
     "slide_type": "skip"
    }
   },
   "outputs": [],
   "source": [
    "if x % 15 == 0:\n",
    "    ans = \"Fizz Buzz\"\n",
    "elif x % 3 == 0:\n",
    "    ans = \"Fizz\"\n",
    "elif x % 5 == 0:\n",
    "    ans = \"Buzz\"\n",
    "else:\n",
    "    ans = x"
   ]
  },
  {
   "cell_type": "code",
   "execution_count": 39,
   "metadata": {
    "slideshow": {
     "slide_type": "fragment"
    }
   },
   "outputs": [
    {
     "name": "stdout",
     "output_type": "stream",
     "text": [
      "Buzz\n"
     ]
    }
   ],
   "source": [
    "print(ans)"
   ]
  },
  {
   "cell_type": "code",
   "execution_count": 40,
   "metadata": {
    "slideshow": {
     "slide_type": "fragment"
    }
   },
   "outputs": [
    {
     "name": "stdout",
     "output_type": "stream",
     "text": [
      "請輸入一個正整數：15\n"
     ]
    }
   ],
   "source": [
    "x = int(input(\"請輸入一個正整數：\"))"
   ]
  },
  {
   "cell_type": "code",
   "execution_count": 41,
   "metadata": {
    "slideshow": {
     "slide_type": "skip"
    }
   },
   "outputs": [],
   "source": [
    "if x % 15 == 0:\n",
    "    ans = \"Fizz Buzz\"\n",
    "elif x % 3 == 0:\n",
    "    ans = \"Fizz\"\n",
    "elif x % 5 == 0:\n",
    "    ans = \"Buzz\"\n",
    "else:\n",
    "    ans = x"
   ]
  },
  {
   "cell_type": "code",
   "execution_count": 42,
   "metadata": {
    "slideshow": {
     "slide_type": "fragment"
    }
   },
   "outputs": [
    {
     "name": "stdout",
     "output_type": "stream",
     "text": [
      "Fizz Buzz\n"
     ]
    }
   ],
   "source": [
    "print(ans)"
   ]
  },
  {
   "cell_type": "code",
   "execution_count": 43,
   "metadata": {
    "slideshow": {
     "slide_type": "fragment"
    }
   },
   "outputs": [
    {
     "name": "stdout",
     "output_type": "stream",
     "text": [
      "請輸入一個正整數：16\n"
     ]
    }
   ],
   "source": [
    "x = int(input(\"請輸入一個正整數：\"))"
   ]
  },
  {
   "cell_type": "code",
   "execution_count": 44,
   "metadata": {
    "slideshow": {
     "slide_type": "skip"
    }
   },
   "outputs": [],
   "source": [
    "if x % 15 == 0:\n",
    "    ans = \"Fizz Buzz\"\n",
    "elif x % 3 == 0:\n",
    "    ans = \"Fizz\"\n",
    "elif x % 5 == 0:\n",
    "    ans = \"Buzz\"\n",
    "else:\n",
    "    ans = x"
   ]
  },
  {
   "cell_type": "code",
   "execution_count": 45,
   "metadata": {
    "slideshow": {
     "slide_type": "fragment"
    }
   },
   "outputs": [
    {
     "name": "stdout",
     "output_type": "stream",
     "text": [
      "16\n"
     ]
    }
   ],
   "source": [
    "print(ans)"
   ]
  }
 ],
 "metadata": {
  "celltoolbar": "Slideshow",
  "kernelspec": {
   "display_name": "Python 3",
   "language": "python",
   "name": "python3"
  },
  "language_info": {
   "codemirror_mode": {
    "name": "ipython",
    "version": 3
   },
   "file_extension": ".py",
   "mimetype": "text/x-python",
   "name": "python",
   "nbconvert_exporter": "python",
   "pygments_lexer": "ipython3",
   "version": "3.7.7"
  }
 },
 "nbformat": 4,
 "nbformat_minor": 1
}
