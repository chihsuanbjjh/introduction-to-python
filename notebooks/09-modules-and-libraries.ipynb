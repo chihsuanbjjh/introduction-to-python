{
 "cells": [
  {
   "cell_type": "markdown",
   "metadata": {
    "slideshow": {
     "slide_type": "slide"
    }
   },
   "source": [
    "# 成為初級資料分析師 | Python 程式設計\n",
    "\n",
    "> 模組與套件\n",
    "\n",
    "## 郭耀仁"
   ]
  },
  {
   "cell_type": "markdown",
   "metadata": {
    "slideshow": {
     "slide_type": "subslide"
    }
   },
   "source": [
    "> One feature of Python that makes it useful for a wide range of tasks is that it comes \"batteries included\"—that is, the Python standard library contains useful tools for a wide range of tasks."
   ]
  },
  {
   "cell_type": "markdown",
   "metadata": {
    "slideshow": {
     "slide_type": "subslide"
    }
   },
   "source": [
    "## 程式封裝的三個層級\n",
    "\n",
    "- **模組與套件（Modules and classes）**\n",
    "    - 類別（Classes）\n",
    "        - 函式（Functions）"
   ]
  },
  {
   "cell_type": "markdown",
   "metadata": {
    "slideshow": {
     "slide_type": "subslide"
    }
   },
   "source": [
    "## 大綱\n",
    "\n",
    "- `import` 指令\n",
    "- 自訂模組\n",
    "- 自訂套件"
   ]
  },
  {
   "cell_type": "markdown",
   "metadata": {
    "slideshow": {
     "slide_type": "slide"
    }
   },
   "source": [
    "## `import` 指令"
   ]
  },
  {
   "cell_type": "markdown",
   "metadata": {
    "slideshow": {
     "slide_type": "subslide"
    }
   },
   "source": [
    "## 使用 `import` 指令載入標準與外部模組套件\n",
    "\n",
    "- 標準函式庫（Standard Libraries）\n",
    "- 外部函式庫（Third-party Libraries）"
   ]
  },
  {
   "cell_type": "markdown",
   "metadata": {
    "slideshow": {
     "slide_type": "subslide"
    }
   },
   "source": [
    "## 標準函式庫：伴隨 Python 直譯器而來，無需額外安裝\n",
    "\n",
    "- `re`\n",
    "- `datetime`\n",
    "- `random`\n",
    "- `math`\n",
    "- ...etc.\n",
    "\n",
    "<https://docs.python.org/3/library/>"
   ]
  },
  {
   "cell_type": "markdown",
   "metadata": {
    "slideshow": {
     "slide_type": "subslide"
    }
   },
   "source": [
    "## 使用 `import` 指令：以 `math` 標準函式庫為例"
   ]
  },
  {
   "cell_type": "code",
   "execution_count": null,
   "metadata": {
    "slideshow": {
     "slide_type": "-"
    }
   },
   "outputs": [],
   "source": [
    "import math\n",
    "\n",
    "print(math.pi)"
   ]
  },
  {
   "cell_type": "markdown",
   "metadata": {
    "slideshow": {
     "slide_type": "subslide"
    }
   },
   "source": [
    "## 使用 `import` 指令搭配縮寫"
   ]
  },
  {
   "cell_type": "code",
   "execution_count": null,
   "metadata": {},
   "outputs": [],
   "source": [
    "import math as m\n",
    "\n",
    "print(m.pi)"
   ]
  },
  {
   "cell_type": "markdown",
   "metadata": {
    "slideshow": {
     "slide_type": "subslide"
    }
   },
   "source": [
    "## 使用 `from` 搭配 `import` 指令載入部分功能"
   ]
  },
  {
   "cell_type": "code",
   "execution_count": null,
   "metadata": {},
   "outputs": [],
   "source": [
    "from math import sin, pi\n",
    "\n",
    "print(sin(pi/2))"
   ]
  },
  {
   "cell_type": "markdown",
   "metadata": {
    "slideshow": {
     "slide_type": "subslide"
    }
   },
   "source": [
    "## 外部函式庫：使用 `pip install` 指令\n",
    "\n",
    "```bash\n",
    "pip install LIBRARY_NAME\n",
    "```"
   ]
  },
  {
   "cell_type": "markdown",
   "metadata": {
    "slideshow": {
     "slide_type": "subslide"
    }
   },
   "source": [
    "## `pip` 是 Python 套件管理工具\n",
    "\n",
    "- 不需額外安裝\n",
    "- 協助使用者從 [Python Pacakge Index](https://pypi.org/) 下載、安裝或更新"
   ]
  },
  {
   "cell_type": "markdown",
   "metadata": {
    "slideshow": {
     "slide_type": "subslide"
    }
   },
   "source": [
    "## 更新 `pip`\n",
    "\n",
    "- Linux / macOS\n",
    "\n",
    "```bash\n",
    "pip install -U pip\n",
    "```\n",
    "\n",
    "- Windows\n",
    "\n",
    "```bash\n",
    "python -m pip install -U pip\n",
    "```"
   ]
  },
  {
   "cell_type": "markdown",
   "metadata": {
    "slideshow": {
     "slide_type": "subslide"
    }
   },
   "source": [
    "## 隨堂練習"
   ]
  },
  {
   "cell_type": "markdown",
   "metadata": {
    "slideshow": {
     "slide_type": "subslide"
    }
   },
   "source": [
    "## 使用 `pip` 安裝 `pyquery`"
   ]
  },
  {
   "cell_type": "markdown",
   "metadata": {
    "slideshow": {
     "slide_type": "subslide"
    }
   },
   "source": [
    "```bash\n",
    "pip install pyquery\n",
    "```"
   ]
  },
  {
   "cell_type": "markdown",
   "metadata": {
    "slideshow": {
     "slide_type": "subslide"
    }
   },
   "source": [
    "## 載入 `pyquery` 中的 `PyQuery` 函數，並縮寫為 `pq`"
   ]
  },
  {
   "cell_type": "markdown",
   "metadata": {
    "slideshow": {
     "slide_type": "subslide"
    }
   },
   "source": [
    "```python\n",
    "from pyquery import PyQuery as pq\n",
    "```"
   ]
  },
  {
   "cell_type": "markdown",
   "metadata": {
    "slideshow": {
     "slide_type": "slide"
    }
   },
   "source": [
    "## 自訂模組"
   ]
  },
  {
   "cell_type": "markdown",
   "metadata": {
    "slideshow": {
     "slide_type": "subslide"
    }
   },
   "source": [
    "## 何謂模組\n",
    "\n",
    "- 將函數或類別封裝在一個 `.py` 檔案中\n",
    "- `.py` 的檔名就是模組名稱"
   ]
  },
  {
   "cell_type": "markdown",
   "metadata": {
    "slideshow": {
     "slide_type": "subslide"
    }
   },
   "source": [
    "## 自訂一個名為 `movie` 的模組"
   ]
  },
  {
   "cell_type": "code",
   "execution_count": null,
   "metadata": {
    "slideshow": {
     "slide_type": "subslide"
    }
   },
   "outputs": [],
   "source": [
    "# movie.py ------\n",
    "import requests\n",
    "from bs4 import BeautifulSoup\n",
    "\n",
    "class Movie:\n",
    "    def __init__(self, movie_title):\n",
    "        self._movie_title = movie_title\n",
    "        \n",
    "    def get_movie_url(self):\n",
    "        query_string_parameters = {\n",
    "            'q': self._movie_title,\n",
    "            's': 'tt',\n",
    "            'ttype': 'ft',\n",
    "            'ref_': 'fn_ft'\n",
    "        }\n",
    "        page_url = \"https://www.imdb.com/find\"\n",
    "        r = requests.get(page_url, params=query_string_parameters)\n",
    "        soup = BeautifulSoup(r.text, 'lxml')\n",
    "        first_link = soup.select(\".result_text a\")[0].get(\"href\")\n",
    "        movie_url = \"https://www.imdb.com\" + first_link\n",
    "        self._movie_url = movie_url\n",
    "        self._movie_title = soup.select(\".result_text a\")[0].text\n",
    "    def get_movie_info(self):\n",
    "        self.get_movie_url()\n",
    "        r = requests.get(self._movie_url)\n",
    "        soup = BeautifulSoup(r.text, 'lxml')\n",
    "        rating = float(soup.select(\"strong span\")[0].text)\n",
    "        movie_time = soup.select(\"time\")[0].text.strip()\n",
    "        genre = [i.text for i in soup.select(\".subtext a\")]\n",
    "        release_date = genre.pop()\n",
    "        release_date = release_date.strip()\n",
    "        movie_info = {\n",
    "            'title': self._movie_title,\n",
    "            'rating': rating,\n",
    "            'movieTime': movie_time,\n",
    "            'releaseDate': release_date\n",
    "        }\n",
    "        return movie_info"
   ]
  },
  {
   "cell_type": "markdown",
   "metadata": {
    "slideshow": {
     "slide_type": "subslide"
    }
   },
   "source": [
    "## 將 `movie.py` 放置在工作目錄下"
   ]
  },
  {
   "cell_type": "code",
   "execution_count": null,
   "metadata": {
    "slideshow": {
     "slide_type": "subslide"
    }
   },
   "outputs": [],
   "source": [
    "from movie import Movie\n",
    "\n",
    "endgame = Movie(\"Avengers: Endgame\")\n",
    "endgame.get_movie_info()"
   ]
  },
  {
   "cell_type": "markdown",
   "metadata": {
    "slideshow": {
     "slide_type": "subslide"
    }
   },
   "source": [
    "## 隨堂練習"
   ]
  },
  {
   "cell_type": "markdown",
   "metadata": {
    "slideshow": {
     "slide_type": "subslide"
    }
   },
   "source": [
    "## 自訂一個名為 `bmi` 的模組\n",
    "\n",
    "- 在該模組中定義一個函數 `get_bmi(height, weight)`\n",
    "- 載入模組並成功呼叫 `get_bmi` 函數"
   ]
  },
  {
   "cell_type": "code",
   "execution_count": null,
   "metadata": {
    "slideshow": {
     "slide_type": "-"
    }
   },
   "outputs": [],
   "source": [
    "from bmi import get_bmi\n",
    "\n",
    "get_bmi(191, 91)"
   ]
  },
  {
   "cell_type": "code",
   "execution_count": null,
   "metadata": {
    "slideshow": {
     "slide_type": "subslide"
    }
   },
   "outputs": [],
   "source": [
    "# bmi.py ------\n",
    "def get_bmi(height, weight):\n",
    "    bmi = weight / (height*0.01)**2\n",
    "    return bmi"
   ]
  },
  {
   "cell_type": "markdown",
   "metadata": {
    "slideshow": {
     "slide_type": "slide"
    }
   },
   "source": [
    "## 自訂套件"
   ]
  },
  {
   "cell_type": "markdown",
   "metadata": {
    "slideshow": {
     "slide_type": "subslide"
    }
   },
   "source": [
    "## 何謂套件\n",
    "\n",
    "- 多個功能相關的模組（.py 檔案）可以組織成一個套件（資料夾）\n",
    "- 在工作目錄建立一個資料夾，將這個資料夾的名稱更改為 movie_package\n",
    "- 在這個資料夾中新增檔案：\n",
    "    - movie.py"
   ]
  },
  {
   "cell_type": "code",
   "execution_count": null,
   "metadata": {
    "slideshow": {
     "slide_type": "subslide"
    }
   },
   "outputs": [],
   "source": [
    "# movie.py ------\n",
    "import requests\n",
    "from bs4 import BeautifulSoup\n",
    "\n",
    "class Movie:\n",
    "    def __init__(self, movie_title):\n",
    "        self._movie_title = movie_title\n",
    "        \n",
    "    def get_movie_url(self):\n",
    "        query_string_parameters = {\n",
    "            'q': self._movie_title,\n",
    "            's': 'tt',\n",
    "            'ttype': 'ft',\n",
    "            'ref_': 'fn_ft'\n",
    "        }\n",
    "        page_url = \"https://www.imdb.com/find\"\n",
    "        r = requests.get(page_url, params=query_string_parameters)\n",
    "        soup = BeautifulSoup(r.text, 'lxml')\n",
    "        first_link = soup.select(\".result_text a\")[0].get(\"href\")\n",
    "        movie_url = \"https://www.imdb.com\" + first_link\n",
    "        self._movie_url = movie_url\n",
    "        self._movie_title = soup.select(\".result_text a\")[0].text\n",
    "    def get_movie_info(self):\n",
    "        self.get_movie_url()\n",
    "        r = requests.get(self._movie_url)\n",
    "        soup = BeautifulSoup(r.text, 'lxml')\n",
    "        rating = float(soup.select(\"strong span\")[0].text)\n",
    "        movie_time = soup.select(\"time\")[0].text\n",
    "        genre = [i.text for i in soup.select(\".subtext a\")]\n",
    "        release_date = genre.pop()\n",
    "        movie_info = {\n",
    "            'title': self._movie_title,\n",
    "            'rating': rating,\n",
    "            'movieTime': movie_time,\n",
    "            'releaseDate': release_date\n",
    "        }\n",
    "        return movie_info"
   ]
  },
  {
   "cell_type": "code",
   "execution_count": null,
   "metadata": {
    "slideshow": {
     "slide_type": "subslide"
    }
   },
   "outputs": [],
   "source": [
    "from movie_package.movie import Movie\n",
    "\n",
    "endgame = Movie(\"Avengers: Endgame\")\n",
    "endgame.get_movie_info()"
   ]
  },
  {
   "cell_type": "markdown",
   "metadata": {
    "slideshow": {
     "slide_type": "slide"
    }
   },
   "source": [
    "## 作業"
   ]
  },
  {
   "cell_type": "markdown",
   "metadata": {
    "slideshow": {
     "slide_type": "subslide"
    }
   },
   "source": [
    "## 在工作目錄建立一個套件：casino\n",
    "\n",
    "- 這個資料夾中新增 2 個檔案：\n",
    "    - dice.py\n",
    "    - poker.py\n",
    "- dice 模組中定義一個 `roll_a_dice` 函數，可以回傳擲一粒骰子的點數\n",
    "- poker 模組中定義一個 `deal_a_card` 函數，可以回傳發一張撲克牌的花色點數"
   ]
  },
  {
   "cell_type": "markdown",
   "metadata": {
    "slideshow": {
     "slide_type": "subslide"
    }
   },
   "source": [
    "## 執行範例\n",
    "\n",
    "```python\n",
    "from casino import dice, poker\n",
    "\n",
    "print(dice.roll_a_dice())\n",
    "print(poker.deal_a_card())\n",
    "\n",
    "## 6\n",
    "## 'Diamond Ace'\n",
    "```"
   ]
  }
 ],
 "metadata": {
  "celltoolbar": "Slideshow",
  "kernelspec": {
   "display_name": "Python Web Scraping",
   "language": "python",
   "name": "pywebscraping"
  },
  "language_info": {
   "codemirror_mode": {
    "name": "ipython",
    "version": 3
   },
   "file_extension": ".py",
   "mimetype": "text/x-python",
   "name": "python",
   "nbconvert_exporter": "python",
   "pygments_lexer": "ipython3",
   "version": "3.7.7"
  }
 },
 "nbformat": 4,
 "nbformat_minor": 2
}
