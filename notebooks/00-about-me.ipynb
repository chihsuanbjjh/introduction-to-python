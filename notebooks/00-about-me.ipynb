{
 "cells": [
  {
   "cell_type": "markdown",
   "metadata": {
    "slideshow": {
     "slide_type": "slide"
    }
   },
   "source": [
    "## About Me\n",
    "\n",
    "郭耀仁"
   ]
  },
  {
   "cell_type": "markdown",
   "metadata": {
    "slideshow": {
     "slide_type": "subslide"
    }
   },
   "source": [
    "## A data enthusiast and instructor focused on practical Python/R/SQL"
   ]
  },
  {
   "cell_type": "markdown",
   "metadata": {
    "slideshow": {
     "slide_type": "subslide"
    }
   },
   "source": [
    "## Teaching practical data science online/offline\n",
    "\n",
    "- [如何成為資料分析師：從問題解決到行動方案，Hahow 好學校](https://hahow.in/cr/dajourney)\n",
    "- Visualization and modern data science, Adjunct Instructor, National Taiwan University\n",
    "- Python for data analysis, Instructor, Chunghwa Telecom Academy\n",
    "- Python for data science, Machine learning from scratch, Senior Instructor, CSIE Train, National Taiwan University"
   ]
  },
  {
   "cell_type": "markdown",
   "metadata": {
    "slideshow": {
     "slide_type": "subslide"
    }
   },
   "source": [
    "## Data science instructor focused on commercial banking clients\n",
    "\n",
    "- 2020 DBS Python Training Program\n",
    "- 2019 HNCB Python Training Program\n",
    "- 2017 ESUN Python Training Program"
   ]
  },
  {
   "cell_type": "markdown",
   "metadata": {
    "slideshow": {
     "slide_type": "subslide"
    }
   },
   "source": [
    "## Writing books on data science\n",
    "\n",
    "- [輕鬆學習 R 語言](https://www.books.com.tw/products/0010835361)\n",
    "- [進擊的資料科學](https://www.books.com.tw/products/0010827812)\n",
    "- [新手村逃脫！初心者的 Python 機器學習攻略](https://yaojenkuo.io/ml-newbies/index.html)"
   ]
  },
  {
   "cell_type": "markdown",
   "metadata": {
    "slideshow": {
     "slide_type": "subslide"
    }
   },
   "source": [
    "## Writing tutorials on [Medium](https://medium.com/) with 3k+ followers\n",
    "\n",
    "- Follow my Medium account [@tonykuoyj](https://medium.com/@tonykuoyj)\n",
    "- Or, follow my publication [DataInPoint](https://medium.com/datainpoint)\n",
    "- Or, follow [DataInPoint](https://www.facebook.com/datainpoint) on Facebook"
   ]
  },
  {
   "cell_type": "markdown",
   "metadata": {
    "slideshow": {
     "slide_type": "subslide"
    }
   },
   "source": [
    "## Working experience and eductation\n",
    "\n",
    "- Working experience\n",
    "    - Senior Data Analyst, Coupang Shanghai\n",
    "    - Analytical Consultant, SAS Taiwan\n",
    "    - Management Associate, Chinatrust Banking Corporation Taiwan\n",
    "    - Research Assistant, McKinsey & Company Taiwan\n",
    "- Education\n",
    "    - MBA, National Taiwan University\n",
    "    - BA, National Taiwan University"
   ]
  },
  {
   "cell_type": "markdown",
   "metadata": {
    "slideshow": {
     "slide_type": "subslide"
    }
   },
   "source": [
    "## Loves running with a marathon PR of 2:43:12 at 2019 Seoul Marathon"
   ]
  },
  {
   "cell_type": "markdown",
   "metadata": {
    "slideshow": {
     "slide_type": "subslide"
    }
   },
   "source": [
    "## Future initiatives\n",
    "\n",
    "Make DataInPoint a text-based, in-browser, and subscription-only data science bootcamp. "
   ]
  }
 ],
 "metadata": {
  "celltoolbar": "Slideshow",
  "kernelspec": {
   "display_name": "Python Machine Learning",
   "language": "python",
   "name": "pyml"
  },
  "language_info": {
   "codemirror_mode": {
    "name": "ipython",
    "version": 3
   },
   "file_extension": ".py",
   "mimetype": "text/x-python",
   "name": "python",
   "nbconvert_exporter": "python",
   "pygments_lexer": "ipython3",
   "version": "3.6.8"
  }
 },
 "nbformat": 4,
 "nbformat_minor": 2
}
