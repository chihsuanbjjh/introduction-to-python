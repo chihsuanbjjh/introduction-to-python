{
 "cells": [
  {
   "cell_type": "markdown",
   "metadata": {
    "slideshow": {
     "slide_type": "slide"
    }
   },
   "source": [
    "# 成為初級資料分析師 | Python 程式設計\n",
    "\n",
    "> 函式與數值\n",
    "\n",
    "## 郭耀仁"
   ]
  },
  {
   "cell_type": "markdown",
   "metadata": {
    "slideshow": {
     "slide_type": "subslide"
    }
   },
   "source": [
    "> There are only two hard things in Computer Science: cache invalidation and naming things.\n",
    "> \n",
    "> Phil Karlton"
   ]
  },
  {
   "cell_type": "markdown",
   "metadata": {
    "slideshow": {
     "slide_type": "subslide"
    }
   },
   "source": [
    "## 大綱\n",
    "\n",
    "- 物件、命名與註解\n",
    "- 內建函式\n",
    "- 整數與浮點數\n",
    "- 隨堂練習"
   ]
  },
  {
   "cell_type": "markdown",
   "metadata": {
    "slideshow": {
     "slide_type": "slide"
    }
   },
   "source": [
    "## 物件、命名與註解"
   ]
  },
  {
   "cell_type": "markdown",
   "metadata": {
    "slideshow": {
     "slide_type": "subslide"
    }
   },
   "source": [
    "## 寫程式究竟是怎麼一回事\n",
    "\n",
    "1. 程式設計師腦中想做些什麼事情\n",
    "2. 用程式語言具象化（realize）\n",
    "3. 以直譯器（或編譯器）翻譯成電腦語言\n",
    "4. 由電腦具象化"
   ]
  },
  {
   "cell_type": "markdown",
   "metadata": {
    "slideshow": {
     "slide_type": "subslide"
    }
   },
   "source": [
    "## 例如寫程式記錄電影的相關資訊\n",
    "\n",
    "[Avengers: Endgame (2019)](https://www.imdb.com/title/tt4154796/)"
   ]
  },
  {
   "cell_type": "markdown",
   "metadata": {
    "slideshow": {
     "slide_type": "subslide"
    }
   },
   "source": [
    "## 以 `=` 將資料值儲存至一個物件名稱中\n",
    "\n",
    "- `movie_rating` 是物件名稱\n",
    "- `8.4` 則是儲存在該物件中的資料值\n",
    "- 後面的程式碼、儲存格可以透過 `movie_rating` 獲得 `8.4`"
   ]
  },
  {
   "cell_type": "code",
   "execution_count": null,
   "metadata": {
    "slideshow": {
     "slide_type": "subslide"
    }
   },
   "outputs": [],
   "source": [
    "movie_rating = 8.4\n",
    "print(movie_rating)"
   ]
  },
  {
   "cell_type": "markdown",
   "metadata": {
    "slideshow": {
     "slide_type": "subslide"
    }
   },
   "source": [
    "## Jupyter Notebook 會預設將最後一行的物件資料值輸出"
   ]
  },
  {
   "cell_type": "code",
   "execution_count": null,
   "metadata": {
    "slideshow": {
     "slide_type": "-"
    }
   },
   "outputs": [],
   "source": [
    "movie_rating = 8.4\n",
    "movie_time = 181 # 3h 1min\n",
    "movie_rating\n",
    "movie_time"
   ]
  },
  {
   "cell_type": "markdown",
   "metadata": {
    "slideshow": {
     "slide_type": "subslide"
    }
   },
   "source": [
    "## 若想將儲存格中多個物件資料值輸出，使用 `print(物件名稱)`"
   ]
  },
  {
   "cell_type": "code",
   "execution_count": null,
   "metadata": {},
   "outputs": [],
   "source": [
    "movie_rating = 8.4\n",
    "movie_time = 181 # 3h 1min\n",
    "print(movie_rating)\n",
    "print(movie_time)"
   ]
  },
  {
   "cell_type": "markdown",
   "metadata": {
    "slideshow": {
     "slide_type": "subslide"
    }
   },
   "source": [
    "## 以 `#` 對程式功能做註解"
   ]
  },
  {
   "cell_type": "code",
   "execution_count": null,
   "metadata": {},
   "outputs": [],
   "source": [
    "# 儲存資訊\n",
    "movie_rating = 8.4\n",
    "movie_time = 181 # 3h 1min\n",
    "# 印出資訊\n",
    "print(movie_rating)\n",
    "print(movie_time)"
   ]
  },
  {
   "cell_type": "markdown",
   "metadata": {
    "slideshow": {
     "slide_type": "subslide"
    }
   },
   "source": [
    "## 物件的命名風格\n",
    "\n",
    "- 小寫\n",
    "- 中間不能有空格\n",
    "- 單字之間用 `_` 分隔（Google 搜尋：snake case）\n",
    "- 開頭不能使用數字\n",
    "- 不能使用保留字\n",
    "- 不要使用內建函數"
   ]
  },
  {
   "cell_type": "markdown",
   "metadata": {
    "slideshow": {
     "slide_type": "subslide"
    }
   },
   "source": [
    "## Python 保留字列表\n",
    "\n",
    "<https://docs.python.org/3/reference/lexical_analysis.html#keywords>"
   ]
  },
  {
   "cell_type": "markdown",
   "metadata": {
    "slideshow": {
     "slide_type": "slide"
    }
   },
   "source": [
    "## 內建函式"
   ]
  },
  {
   "cell_type": "markdown",
   "metadata": {
    "slideshow": {
     "slide_type": "subslide"
    }
   },
   "source": [
    "## 函式是一段被命名的程式碼（Code block）\n",
    "\n",
    "- 指定輸入、參數並餵入函式\n",
    "- 函式依據輸入、參數執行一段程式碼\n",
    "- 將輸出拋給使用者"
   ]
  },
  {
   "cell_type": "markdown",
   "metadata": {
    "slideshow": {
     "slide_type": "subslide"
    }
   },
   "source": [
    "![Imgur](https://i.imgur.com/lF2oqn8.png?2)"
   ]
  },
  {
   "cell_type": "markdown",
   "metadata": {
    "slideshow": {
     "slide_type": "subslide"
    }
   },
   "source": [
    "## Python 內建函式列表\n",
    "\n",
    "<https://docs.python.org/3/library/functions.html>"
   ]
  },
  {
   "cell_type": "markdown",
   "metadata": {
    "slideshow": {
     "slide_type": "subslide"
    }
   },
   "source": [
    "## 物件命名不要使用內建函式"
   ]
  },
  {
   "cell_type": "code",
   "execution_count": null,
   "metadata": {},
   "outputs": [],
   "source": [
    "movie_rating = 8.4\n",
    "print = 5566\n",
    "print(movie_rating)"
   ]
  },
  {
   "cell_type": "markdown",
   "metadata": {
    "slideshow": {
     "slide_type": "subslide"
    }
   },
   "source": [
    "## 使用 `del` 將物件佔用的名稱還給內建函式"
   ]
  },
  {
   "cell_type": "code",
   "execution_count": null,
   "metadata": {},
   "outputs": [],
   "source": [
    "del print\n",
    "print(movie_rating)"
   ]
  },
  {
   "cell_type": "markdown",
   "metadata": {
    "slideshow": {
     "slide_type": "subslide"
    }
   },
   "source": [
    "## 一開始就要用的內建函式\n",
    "\n",
    "- `print()` 印出物件所儲存的資料值\n",
    "- `help()` 暸解內建函式的作用\n",
    "- `type()` 暸解物件的類別"
   ]
  },
  {
   "cell_type": "code",
   "execution_count": null,
   "metadata": {
    "slideshow": {
     "slide_type": "subslide"
    }
   },
   "outputs": [],
   "source": [
    "help(print)"
   ]
  },
  {
   "cell_type": "code",
   "execution_count": null,
   "metadata": {
    "slideshow": {
     "slide_type": "subslide"
    }
   },
   "outputs": [],
   "source": [
    "help(type)"
   ]
  },
  {
   "cell_type": "code",
   "execution_count": null,
   "metadata": {
    "slideshow": {
     "slide_type": "subslide"
    }
   },
   "outputs": [],
   "source": [
    "help(help)"
   ]
  },
  {
   "cell_type": "markdown",
   "metadata": {
    "slideshow": {
     "slide_type": "subslide"
    }
   },
   "source": [
    "## 寫程式可以想像成是設計一組又一組的函式來完成任務"
   ]
  },
  {
   "cell_type": "markdown",
   "metadata": {
    "slideshow": {
     "slide_type": "subslide"
    }
   },
   "source": [
    "## 定義一個函式的結構\n",
    "\n",
    "- 使用 `def` 保留字\n",
    "- 函式名稱風格與物件相同，常使用動詞\n",
    "- 使用 `return` 保留字拋回輸出"
   ]
  },
  {
   "cell_type": "markdown",
   "metadata": {
    "slideshow": {
     "slide_type": "subslide"
    }
   },
   "source": [
    "```python\n",
    "def function_name(輸入, 參數, ...):\n",
    "    # 做些什麼事\n",
    "    return 輸出\n",
    "```"
   ]
  },
  {
   "cell_type": "markdown",
   "metadata": {
    "slideshow": {
     "slide_type": "slide"
    }
   },
   "source": [
    "## 整數與浮點數"
   ]
  },
  {
   "cell_type": "markdown",
   "metadata": {
    "slideshow": {
     "slide_type": "subslide"
    }
   },
   "source": [
    "## 整數類別"
   ]
  },
  {
   "cell_type": "code",
   "execution_count": null,
   "metadata": {},
   "outputs": [],
   "source": [
    "type(5566)"
   ]
  },
  {
   "cell_type": "markdown",
   "metadata": {
    "slideshow": {
     "slide_type": "subslide"
    }
   },
   "source": [
    "## 浮點數類別"
   ]
  },
  {
   "cell_type": "code",
   "execution_count": null,
   "metadata": {},
   "outputs": [],
   "source": [
    "type(5566.0)"
   ]
  },
  {
   "cell_type": "markdown",
   "metadata": {
    "slideshow": {
     "slide_type": "subslide"
    }
   },
   "source": [
    "## 數值運算符號（Arithmetic Operators）\n",
    "\n",
    "- `+` 、 `-` 、 `*` 、 `/` ：加減乘除\n",
    "- `**` ：次方\n",
    "- `%` ：餘數\n",
    "- `//` ：商數\n",
    "- `()`：括號"
   ]
  },
  {
   "cell_type": "markdown",
   "metadata": {
    "slideshow": {
     "slide_type": "subslide"
    }
   },
   "source": [
    "## 運算符號的優先順序\n",
    "\n",
    "1. 小括號\n",
    "2. 次方\n",
    "3. 乘除、餘數和商數\n",
    "4. 加減"
   ]
  },
  {
   "cell_type": "markdown",
   "metadata": {
    "slideshow": {
     "slide_type": "subslide"
    }
   },
   "source": [
    "## 運算符號的小捷徑\n",
    "\n",
    "將 `3h 1min` 換算成 `181 min`。"
   ]
  },
  {
   "cell_type": "code",
   "execution_count": null,
   "metadata": {},
   "outputs": [],
   "source": [
    "hours = 3\n",
    "mins = 1\n",
    "mins = mins + hours * 60\n",
    "print(mins)"
   ]
  },
  {
   "cell_type": "markdown",
   "metadata": {
    "slideshow": {
     "slide_type": "subslide"
    }
   },
   "source": [
    "## `mins = mins + hours * 60` 與 `mins += hours * 60` 的效果完全相同"
   ]
  },
  {
   "cell_type": "code",
   "execution_count": null,
   "metadata": {
    "slideshow": {
     "slide_type": "-"
    }
   },
   "outputs": [],
   "source": [
    "hours = 3\n",
    "mins = 1\n",
    "mins += hours * 60\n",
    "print(mins)"
   ]
  },
  {
   "cell_type": "markdown",
   "metadata": {
    "slideshow": {
     "slide_type": "subslide"
    }
   },
   "source": [
    "## 數值運算符號常走捷徑\n",
    "\n",
    "- `a += b` 與 `a = a + b` 相同\n",
    "- `a -= b` 與 `a = a - b` 相同\n",
    "- `a *= b` 與 `a = a * b` 相同\n",
    "- `a /= b` 與 `a = a / b` 相同\n",
    "- `a **= b` 與 `a = a ** b` 相同\n",
    "- `a %= b` 與 `a = a % b` 相同\n",
    "- `a //= b` 與 `a = a // b` 相同"
   ]
  },
  {
   "cell_type": "markdown",
   "metadata": {
    "slideshow": {
     "slide_type": "slide"
    }
   },
   "source": [
    "## 隨堂練習"
   ]
  },
  {
   "cell_type": "markdown",
   "metadata": {
    "slideshow": {
     "slide_type": "subslide"
    }
   },
   "source": [
    "## 隨堂練習：定義一個函式 `add(a, b)` 可以將 `a` 與 `b` 的值相加之後回傳\n",
    "\n",
    "- 預期輸入：兩個數值 `a` 與 `b`\n",
    "- 預期輸出：一個數值"
   ]
  },
  {
   "cell_type": "code",
   "execution_count": null,
   "metadata": {
    "slideshow": {
     "slide_type": "subslide"
    }
   },
   "outputs": [],
   "source": [
    "def add(a, b):\n",
    "    \"\"\"\n",
    "    >>> add(5, 6)\n",
    "    11\n",
    "    >>> add(55, 66)\n",
    "    121\n",
    "    \"\"\""
   ]
  },
  {
   "cell_type": "markdown",
   "metadata": {
    "slideshow": {
     "slide_type": "subslide"
    }
   },
   "source": [
    "## 隨堂練習：定義一個函式 `movie_time(hours, mins)` 可以將 x 小時 y 分鐘的電影時間換算成 z 分鐘後回傳\n",
    "\n",
    "- 預期輸入：兩個數值 `hous` 與 `mins`\n",
    "- 預期輸出：一個數值"
   ]
  },
  {
   "cell_type": "code",
   "execution_count": null,
   "metadata": {
    "slideshow": {
     "slide_type": "subslide"
    }
   },
   "outputs": [],
   "source": [
    "def movie_time(hours, mins):\n",
    "    \"\"\"\n",
    "    >>> movie_time(3, 1) # Avengers: Endgame\n",
    "    181\n",
    "    >>> movie_time(2, 29) # Avengers: Infinity War\n",
    "    149\n",
    "    \"\"\""
   ]
  },
  {
   "cell_type": "markdown",
   "metadata": {
    "slideshow": {
     "slide_type": "subslide"
    }
   },
   "source": [
    "## 隨堂練習：定義一個函式 `celsius_to_fahrenheit(degree)` 可以將氣溫量尺由攝氏轉換為華氏\n",
    "\n",
    "$$Fahrenheit^{\\circ} F = Celsius^{\\circ} C  \\times \\frac{9}{5} + 32$$\n",
    "\n",
    "- 預期輸入：一個數值 `degree`\n",
    "- 預期輸出：一個數值"
   ]
  },
  {
   "cell_type": "code",
   "execution_count": null,
   "metadata": {
    "slideshow": {
     "slide_type": "subslide"
    }
   },
   "outputs": [],
   "source": [
    "def celsius_to_fahrenheit(degree):\n",
    "    \"\"\"\n",
    "    >>> celsius_to_fahrenheit(30)\n",
    "    86.0\n",
    "    >>> celsius_to_fahrenheit(35)\n",
    "    95.0\n",
    "    \"\"\""
   ]
  },
  {
   "cell_type": "markdown",
   "metadata": {
    "slideshow": {
     "slide_type": "subslide"
    }
   },
   "source": [
    "## 隨堂練習：定義一個函式 `fahrenheit_to_celsius(degree)` 可以將氣溫量尺由華氏轉換為攝氏\n",
    "\n",
    "$$Celsius^{\\circ} C = (Fahrenheit^{\\circ} F - 32) \\times \\frac{5}{9}$$\n",
    "\n",
    "- 預期輸入：一個數值 `degree`\n",
    "- 預期輸出：一個數值"
   ]
  },
  {
   "cell_type": "code",
   "execution_count": null,
   "metadata": {
    "slideshow": {
     "slide_type": "subslide"
    }
   },
   "outputs": [],
   "source": [
    "def fahrenheit_to_celsius(degree):\n",
    "    \"\"\"\n",
    "    >>> fahrenheit_to_celsius(86)\n",
    "    30.0\n",
    "    >>> fahrenheit_to_celsius(95)\n",
    "    35.0\n",
    "    \"\"\""
   ]
  },
  {
   "cell_type": "markdown",
   "metadata": {
    "slideshow": {
     "slide_type": "subslide"
    }
   },
   "source": [
    "## 隨堂練習：定義一個函式 `bmi_calculator(height, weight)` 可以依據身高（公分）與體重（公斤）計算 BMI（身體質量指數）\n",
    "\n",
    "\\begin{equation}\n",
    "BMI = \\frac{weight_{kg}}{height_{m}^2}\n",
    "\\end{equation}\n",
    "\n",
    "- 預期輸入：兩個數值 `height` 與 `weight`\n",
    "- 預期輸出：一個數值"
   ]
  },
  {
   "cell_type": "code",
   "execution_count": null,
   "metadata": {
    "slideshow": {
     "slide_type": "subslide"
    }
   },
   "outputs": [],
   "source": [
    "def bmi_calculator(height, weight):\n",
    "    \"\"\"\n",
    "    >>> bmi_calculator(216, 147) # Shaquille O'Neal in his prime\n",
    "    31.507201646090532\n",
    "    >>> bmi_calculator(198, 129) # Zion Williamson \n",
    "    32.90480563207836\n",
    "    \"\"\""
   ]
  },
  {
   "cell_type": "markdown",
   "metadata": {
    "slideshow": {
     "slide_type": "subslide"
    }
   },
   "source": [
    "## 執行測試"
   ]
  },
  {
   "cell_type": "code",
   "execution_count": null,
   "metadata": {},
   "outputs": [],
   "source": [
    "%load ../test_cases/test_cases_02.py"
   ]
  }
 ],
 "metadata": {
  "celltoolbar": "Slideshow",
  "kernelspec": {
   "display_name": "Python 3",
   "language": "python",
   "name": "python3"
  },
  "language_info": {
   "codemirror_mode": {
    "name": "ipython",
    "version": 3
   },
   "file_extension": ".py",
   "mimetype": "text/x-python",
   "name": "python",
   "nbconvert_exporter": "python",
   "pygments_lexer": "ipython3",
   "version": "3.7.7"
  }
 },
 "nbformat": 4,
 "nbformat_minor": 1
}
