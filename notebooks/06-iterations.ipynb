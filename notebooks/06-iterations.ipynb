{
 "cells": [
  {
   "cell_type": "markdown",
   "metadata": {
    "slideshow": {
     "slide_type": "slide"
    }
   },
   "source": [
    "# 成為初級資料分析師 | Python 程式設計\n",
    "\n",
    "> 迭代\n",
    "\n",
    "## 郭耀仁"
   ]
  },
  {
   "cell_type": "markdown",
   "metadata": {
    "slideshow": {
     "slide_type": "subslide"
    }
   },
   "source": [
    "> When you’ve given the same in-person advice 3 times, write a blog post.\n",
    ">\n",
    "> David Robinson"
   ]
  },
  {
   "cell_type": "markdown",
   "metadata": {
    "slideshow": {
     "slide_type": "subslide"
    }
   },
   "source": [
    "## 大綱\n",
    "\n",
    "- `while` 迴圈\n",
    "- `for` 迴圈\n",
    "- 何時用 `for`？何時用 `while`？"
   ]
  },
  {
   "cell_type": "markdown",
   "metadata": {
    "slideshow": {
     "slide_type": "subslide"
    }
   },
   "source": [
    "## 什麼是迭代\n",
    "\n",
    "> 能夠讓一段程式碼反覆執行的敘述，常見的應用是將儲存在資料結構中的每一個資料值都取出來進行加值運算，迭代的敘述必須包含三個元件：開始（start）、結束（stop）與間距（step），與 `list` 的切割語法相當類似，常見的迭代有 `while` 迴圈與 `for` 迴圈。"
   ]
  },
  {
   "cell_type": "markdown",
   "metadata": {
    "slideshow": {
     "slide_type": "slide"
    }
   },
   "source": [
    "## `while` 迴圈"
   ]
  },
  {
   "cell_type": "markdown",
   "metadata": {
    "slideshow": {
     "slide_type": "subslide"
    }
   },
   "source": [
    "## 我們需要布林來進行：\n",
    "\n",
    "- 條件判斷\n",
    "- **`while` 迴圈**\n",
    "- 資料篩選"
   ]
  },
  {
   "cell_type": "markdown",
   "metadata": {
    "slideshow": {
     "slide_type": "subslide"
    }
   },
   "source": [
    "## 迭代是用來解決需要反覆執行、大量手動複製貼上程式碼的任務"
   ]
  },
  {
   "cell_type": "markdown",
   "metadata": {
    "slideshow": {
     "slide_type": "subslide"
    }
   },
   "source": [
    "## 迭代三要素\n",
    "\n",
    "- 開始 `start`，反覆執行的任務要從哪裡出發？\n",
    "- 停止 `stop`，反覆執行的任務到何時可以結束？\n",
    "- 間距 `step`，反覆執行的任務每一輪的間隔是多少？"
   ]
  },
  {
   "cell_type": "markdown",
   "metadata": {
    "slideshow": {
     "slide_type": "subslide"
    }
   },
   "source": [
    "## 假如我們希望可以印出介於 1 到 100 之間的偶數"
   ]
  },
  {
   "cell_type": "code",
   "execution_count": null,
   "metadata": {
    "slideshow": {
     "slide_type": "-"
    }
   },
   "outputs": [],
   "source": [
    "print(2)\n",
    "print(4)\n",
    "#...\n",
    "print(100)"
   ]
  },
  {
   "cell_type": "markdown",
   "metadata": {
    "slideshow": {
     "slide_type": "subslide"
    }
   },
   "source": [
    "## 請印出介於 1 到 100 之間的偶數：迭代三要素\n",
    "\n",
    "- 開始 `start`，2\n",
    "- 停止 `stop`，100\n",
    "- 間距 `step`，2"
   ]
  },
  {
   "cell_type": "markdown",
   "metadata": {
    "slideshow": {
     "slide_type": "subslide"
    }
   },
   "source": [
    "## 假如我們希望可以判斷一個正整數是否為質數\n",
    "\n",
    "- 對一個正整數 `n` 進行「因數分解」\n",
    "- 將 1 至 `n` 每個整數都試著去除 `n` 來判斷是否為因數\n",
    "- 若只有 2 個因數為質數"
   ]
  },
  {
   "cell_type": "markdown",
   "metadata": {
    "slideshow": {
     "slide_type": "subslide"
    }
   },
   "source": [
    "## 請判斷一個正整數是否為質數：迭代三要素\n",
    "\n",
    "- 開始 `start`，1\n",
    "- 停止 `stop`，n\n",
    "- 間距 `step`，1"
   ]
  },
  {
   "cell_type": "markdown",
   "metadata": {
    "slideshow": {
     "slide_type": "subslide"
    }
   },
   "source": [
    "## 來到迭代是一個分水嶺，可以運用視覺化工具協助我們學習，例如 <http://pythontutor.com/visualize.html#mode=edit>"
   ]
  },
  {
   "cell_type": "markdown",
   "metadata": {
    "slideshow": {
     "slide_type": "slide"
    }
   },
   "source": [
    "## `while` 迴圈"
   ]
  },
  {
   "cell_type": "markdown",
   "metadata": {
    "slideshow": {
     "slide_type": "subslide"
    }
   },
   "source": [
    "## `while` 迴圈的程式碼結構\n",
    "\n",
    "- 開始 `start`\n",
    "- `while` 保留字\n",
    "- 結束 `stop`\n",
    "- 反覆執行的任務\n",
    "- 間距 `step`"
   ]
  },
  {
   "cell_type": "markdown",
   "metadata": {
    "slideshow": {
     "slide_type": "subslide"
    }
   },
   "source": [
    "```python\n",
    "i = 0 # 開始 start\n",
    "while EXPR: # 結束 stop，當 EXPR 被評估為 False 的時候結束\n",
    "    # 反覆執行的任務\n",
    "    i += 1 # 間距 step\n",
    "```"
   ]
  },
  {
   "cell_type": "markdown",
   "metadata": {
    "slideshow": {
     "slide_type": "subslide"
    }
   },
   "source": [
    "## 常見的迭代任務\n",
    "\n",
    "- `print()`\n",
    "- 計數（Counter）\n",
    "- 加總（Summation）\n",
    "- 合併（Append）"
   ]
  },
  {
   "cell_type": "markdown",
   "metadata": {
    "slideshow": {
     "slide_type": "subslide"
    }
   },
   "source": [
    "## 印出介於 1 到 100 之間的偶數"
   ]
  },
  {
   "cell_type": "code",
   "execution_count": null,
   "metadata": {},
   "outputs": [],
   "source": [
    "# print()\n",
    "num = 2 # 開始 start\n",
    "while num <= 100: # 結束 stop\n",
    "    print(num) # 反覆執行的任務\n",
    "    num += 2 # 間距 step"
   ]
  },
  {
   "cell_type": "markdown",
   "metadata": {
    "slideshow": {
     "slide_type": "subslide"
    }
   },
   "source": [
    "## 介於 1 到 100 之間的偶數有幾個"
   ]
  },
  {
   "cell_type": "code",
   "execution_count": 1,
   "metadata": {},
   "outputs": [
    {
     "data": {
      "text/plain": [
       "50"
      ]
     },
     "execution_count": 1,
     "metadata": {},
     "output_type": "execute_result"
    }
   ],
   "source": [
    "# 計數\n",
    "even_counter = 0\n",
    "num = 2 # 開始 start\n",
    "while num <= 100: # 結束 stop\n",
    "    even_counter += 1 # 反覆執行的任務\n",
    "    num += 2 # 間距 step\n",
    "even_counter"
   ]
  },
  {
   "cell_type": "markdown",
   "metadata": {
    "slideshow": {
     "slide_type": "subslide"
    }
   },
   "source": [
    "## 介於 1 到 100 之間的偶數加總為何"
   ]
  },
  {
   "cell_type": "code",
   "execution_count": 2,
   "metadata": {},
   "outputs": [
    {
     "data": {
      "text/plain": [
       "2550"
      ]
     },
     "execution_count": 2,
     "metadata": {},
     "output_type": "execute_result"
    }
   ],
   "source": [
    "# 加總\n",
    "even_summation = 0\n",
    "num = 2 # 開始 start\n",
    "while num <= 100: # 結束 stop\n",
    "    even_summation += num # 反覆執行的任務\n",
    "    num += 2 # 間距 step\n",
    "even_summation"
   ]
  },
  {
   "cell_type": "markdown",
   "metadata": {
    "slideshow": {
     "slide_type": "subslide"
    }
   },
   "source": [
    "## 介於 1 到 100 之間的偶數是哪些"
   ]
  },
  {
   "cell_type": "code",
   "execution_count": null,
   "metadata": {},
   "outputs": [],
   "source": [
    "# 合併\n",
    "even_numbers = list()\n",
    "num = 2 # 開始 start\n",
    "while num <= 100: # 結束 stop\n",
    "    even_numbers.append(num) # 反覆執行的任務\n",
    "    num += 2 # 間距 step\n",
    "even_numbers"
   ]
  },
  {
   "cell_type": "code",
   "execution_count": null,
   "metadata": {
    "slideshow": {
     "slide_type": "-"
    }
   },
   "outputs": [],
   "source": [
    "user_int = int(input(\"請輸入一個正整數：\"))\n",
    "i = 1\n",
    "divisor_cnts = 0\n",
    "while i <= user_int:\n",
    "    if user_int % i == 0:\n",
    "        divisor_cnts += 1\n",
    "    i += 1\n",
    "\n",
    "if divisor_cnts == 2:\n",
    "    print(\"{} 是質數\".format(user_int))\n",
    "else:\n",
    "    print(\"{} 不是質數\".format(user_int))"
   ]
  },
  {
   "cell_type": "markdown",
   "metadata": {
    "slideshow": {
     "slide_type": "subslide"
    }
   },
   "source": [
    "## 隨堂練習：印出介於 x 到 y 之間的奇數（包含 x 與 y 假如它們是奇數）"
   ]
  },
  {
   "cell_type": "code",
   "execution_count": null,
   "metadata": {
    "slideshow": {
     "slide_type": "-"
    }
   },
   "outputs": [],
   "source": [
    "x = int(input(\"請輸入起始的正整數：\"))\n",
    "y = int(input(\"請輸入終止的正整數：\"))"
   ]
  },
  {
   "cell_type": "markdown",
   "metadata": {
    "slideshow": {
     "slide_type": "fragment"
    }
   },
   "source": [
    "```\n",
    "## 5\n",
    "## 7\n",
    "## 9\n",
    "```"
   ]
  },
  {
   "cell_type": "markdown",
   "metadata": {
    "slideshow": {
     "slide_type": "subslide"
    }
   },
   "source": [
    "## 隨堂練習：承接上題，介於 x 到 y 之間的奇數有幾個（包含 x 與 y 假如它們是奇數）"
   ]
  },
  {
   "cell_type": "code",
   "execution_count": null,
   "metadata": {
    "slideshow": {
     "slide_type": "-"
    }
   },
   "outputs": [],
   "source": [
    "x = int(input(\"請輸入起始的正整數：\"))\n",
    "y = int(input(\"請輸入終止的正整數：\"))"
   ]
  },
  {
   "cell_type": "code",
   "execution_count": null,
   "metadata": {
    "slideshow": {
     "slide_type": "skip"
    }
   },
   "outputs": [],
   "source": [
    "odd_cnt = 0\n",
    "while x <= y:\n",
    "    if x % 2 == 1:\n",
    "        odd_cnt += 1\n",
    "    x += 1"
   ]
  },
  {
   "cell_type": "code",
   "execution_count": null,
   "metadata": {
    "slideshow": {
     "slide_type": "fragment"
    }
   },
   "outputs": [],
   "source": [
    "print(odd_cnt)"
   ]
  },
  {
   "cell_type": "markdown",
   "metadata": {
    "slideshow": {
     "slide_type": "subslide"
    }
   },
   "source": [
    "## 隨堂練習：承接上題，介於 x 到 y 之間的奇數加總為何（包含 x 與 y 假如它們是奇數）"
   ]
  },
  {
   "cell_type": "code",
   "execution_count": null,
   "metadata": {
    "slideshow": {
     "slide_type": "-"
    }
   },
   "outputs": [],
   "source": [
    "x = int(input(\"請輸入起始的正整數：\"))\n",
    "y = int(input(\"請輸入終止的正整數：\"))"
   ]
  },
  {
   "cell_type": "code",
   "execution_count": null,
   "metadata": {
    "slideshow": {
     "slide_type": "skip"
    }
   },
   "outputs": [],
   "source": [
    "odd_summation = 0\n",
    "while x <= y:\n",
    "    if x % 2 == 1:\n",
    "        odd_summation += x\n",
    "    x += 1"
   ]
  },
  {
   "cell_type": "code",
   "execution_count": null,
   "metadata": {
    "slideshow": {
     "slide_type": "fragment"
    }
   },
   "outputs": [],
   "source": [
    "print(odd_summation)"
   ]
  },
  {
   "cell_type": "markdown",
   "metadata": {
    "slideshow": {
     "slide_type": "subslide"
    }
   },
   "source": [
    "## 判斷質數\n",
    "\n",
    "在大於 1 的正整數中，除了 1 和該數自身外，無法被其他正整數整除的數字。"
   ]
  },
  {
   "cell_type": "markdown",
   "metadata": {
    "slideshow": {
     "slide_type": "subslide"
    }
   },
   "source": [
    "## 可搭配使用的保留字\n",
    "\n",
    "- `break`\n",
    "- `continue`"
   ]
  },
  {
   "cell_type": "markdown",
   "metadata": {
    "slideshow": {
     "slide_type": "subslide"
    }
   },
   "source": [
    "## 判斷質數：印出重複次數"
   ]
  },
  {
   "cell_type": "code",
   "execution_count": null,
   "metadata": {},
   "outputs": [],
   "source": [
    "user_int = int(input(\"請輸入一個正整數：\"))\n",
    "i = 1\n",
    "divisor_cnts = 0\n",
    "while i <= user_int:\n",
    "    if user_int % i == 0:\n",
    "        divisor_cnts += 1\n",
    "    print(\"重複第 {} 次\".format(i))\n",
    "    i += 1\n",
    "\n",
    "if divisor_cnts == 2:\n",
    "    print(\"{} 是質數\".format(user_int))\n",
    "else:\n",
    "    print(\"{} 不是質數\".format(user_int))"
   ]
  },
  {
   "cell_type": "markdown",
   "metadata": {
    "slideshow": {
     "slide_type": "subslide"
    }
   },
   "source": [
    "## 判斷質數：加入 `break`"
   ]
  },
  {
   "cell_type": "code",
   "execution_count": null,
   "metadata": {},
   "outputs": [],
   "source": [
    "user_int = int(input(\"請輸入一個正整數：\"))\n",
    "i = 1\n",
    "divisor_cnts = 0\n",
    "while i <= user_int:\n",
    "    if user_int % i == 0:\n",
    "        divisor_cnts += 1\n",
    "    print(\"重複第 {} 次\".format(i))\n",
    "    i += 1\n",
    "    if divisor_cnts > 2:\n",
    "        break\n",
    "\n",
    "if divisor_cnts == 2:\n",
    "    print(\"{} 是質數\".format(user_int))\n",
    "else:\n",
    "    print(\"{} 不是質數\".format(user_int))"
   ]
  },
  {
   "cell_type": "markdown",
   "metadata": {
    "slideshow": {
     "slide_type": "subslide"
    }
   },
   "source": [
    "## 略過某次迭代：`continue`"
   ]
  },
  {
   "cell_type": "code",
   "execution_count": null,
   "metadata": {},
   "outputs": [],
   "source": [
    "# no 4th floor in some buildings\n",
    "i = 1\n",
    "while i < 10:\n",
    "    if i == 4:\n",
    "        i += 1\n",
    "        continue\n",
    "    print(i)\n",
    "    i += 1"
   ]
  },
  {
   "cell_type": "markdown",
   "metadata": {
    "slideshow": {
     "slide_type": "slide"
    }
   },
   "source": [
    "# 作業"
   ]
  },
  {
   "cell_type": "markdown",
   "metadata": {
    "slideshow": {
     "slide_type": "subslide"
    }
   },
   "source": [
    "## 作業：Fizz-Buzz with `while`\n",
    "\n",
    "- 從 1 印到 100\n",
    "- 如果是 3 的倍數印出 \"Fizz\"\n",
    "- 如果是 5 的倍數印出 \"Buzz\"\n",
    "- 如果是 15 的倍數印出 \"Fizz Buzz\"\n",
    "- 其他情況印出該正整數即可"
   ]
  },
  {
   "cell_type": "markdown",
   "metadata": {
    "slideshow": {
     "slide_type": "subslide"
    }
   },
   "source": [
    "## 執行範例\n",
    "\n",
    "```\n",
    "## 1\n",
    "## 2\n",
    "## Fizz\n",
    "## 4\n",
    "## Buzz\n",
    "## ...\n",
    "## 14\n",
    "## Fizz Buzz\n",
    "## ...\n",
    "## 98\n",
    "## Fizz\n",
    "## Buzz\n",
    "```"
   ]
  },
  {
   "cell_type": "markdown",
   "metadata": {
    "slideshow": {
     "slide_type": "subslide"
    }
   },
   "source": [
    "## 作業：介於 x 到 y 之間的質數個數為何（包含 x 與 y 假如它們是質數）"
   ]
  },
  {
   "cell_type": "markdown",
   "metadata": {
    "slideshow": {
     "slide_type": "subslide"
    }
   },
   "source": [
    "## 執行範例\n",
    "\n",
    "```\n",
    "## 請輸入起始的正整數：5\n",
    "## 請輸入終止的正整數：11\n",
    "## 介於 5 到 11 之間的質數有 3 個\n",
    "##\n",
    "## 請輸入起始的正整數：5\n",
    "## 請輸入終止的正整數：15\n",
    "## 介於 5 到 15 之間的質數有 4 個\n",
    "```"
   ]
  }
 ],
 "metadata": {
  "celltoolbar": "Slideshow",
  "kernelspec": {
   "display_name": "Python 3",
   "language": "python",
   "name": "python3"
  },
  "language_info": {
   "codemirror_mode": {
    "name": "ipython",
    "version": 3
   },
   "file_extension": ".py",
   "mimetype": "text/x-python",
   "name": "python",
   "nbconvert_exporter": "python",
   "pygments_lexer": "ipython3",
   "version": "3.7.7"
  }
 },
 "nbformat": 4,
 "nbformat_minor": 2
}
