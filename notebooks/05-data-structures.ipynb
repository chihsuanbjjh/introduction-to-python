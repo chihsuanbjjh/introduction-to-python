{
 "cells": [
  {
   "cell_type": "markdown",
   "metadata": {
    "slideshow": {
     "slide_type": "slide"
    }
   },
   "source": [
    "# 成為初級資料分析師 | Python 程式設計\n",
    "\n",
    "> 資料結構\n",
    "\n",
    "## 郭耀仁"
   ]
  },
  {
   "cell_type": "markdown",
   "metadata": {
    "slideshow": {
     "slide_type": "subslide"
    }
   },
   "source": [
    "> Data structure takes data from ingredients to collections."
   ]
  },
  {
   "cell_type": "markdown",
   "metadata": {
    "slideshow": {
     "slide_type": "subslide"
    }
   },
   "source": [
    "## 大綱\n",
    "\n",
    "- `list`\n",
    "- `tuple`\n",
    "- `dict`\n",
    "- `set`\n",
    "- 小結"
   ]
  },
  {
   "cell_type": "markdown",
   "metadata": {
    "slideshow": {
     "slide_type": "slide"
    }
   },
   "source": [
    "## `list`"
   ]
  },
  {
   "cell_type": "markdown",
   "metadata": {
    "slideshow": {
     "slide_type": "subslide"
    }
   },
   "source": [
    "## `list` 是 Python 基礎的資料結構\n",
    "\n",
    "以 `[]` 搭配 `,` 將多筆資料收納到一個 `list` 中。\n",
    "\n",
    "```python\n",
    "my_list = [val0, val1, val2, ...]\n",
    "```"
   ]
  },
  {
   "cell_type": "markdown",
   "metadata": {
    "slideshow": {
     "slide_type": "subslide"
    }
   },
   "source": [
    "## 如何記錄電影的劇情類型\n",
    "\n",
    "![Imgur](https://i.imgur.com/3sGTb1H.png)"
   ]
  },
  {
   "cell_type": "markdown",
   "metadata": {
    "slideshow": {
     "slide_type": "subslide"
    }
   },
   "source": [
    "## 不使用 `list`"
   ]
  },
  {
   "cell_type": "code",
   "execution_count": 1,
   "metadata": {
    "slideshow": {
     "slide_type": "fragment"
    }
   },
   "outputs": [],
   "source": [
    "genre_0 = \"Action\"\n",
    "genre_1 = \"Adventure\"\n",
    "genre_2 = \"Sci-Fi\""
   ]
  },
  {
   "cell_type": "markdown",
   "metadata": {
    "slideshow": {
     "slide_type": "subslide"
    }
   },
   "source": [
    "## 使用 `list`"
   ]
  },
  {
   "cell_type": "code",
   "execution_count": 2,
   "metadata": {
    "slideshow": {
     "slide_type": "fragment"
    }
   },
   "outputs": [
    {
     "name": "stdout",
     "output_type": "stream",
     "text": [
      "['Action', 'Adventure', 'Sci-Fi']\n",
      "<class 'list'>\n"
     ]
    }
   ],
   "source": [
    "genre = [\"Action\", \"Adventure\", \"Sci-Fi\"]\n",
    "print(genre)\n",
    "print(type(genre))"
   ]
  },
  {
   "cell_type": "markdown",
   "metadata": {
    "slideshow": {
     "slide_type": "subslide"
    }
   },
   "source": [
    "## 常用的 `list` 操作\n",
    "\n",
    "- `len()` 觀察長度\n",
    "- `.append()` 新增資料至末端\n",
    "- `.pop()` 將最末端資料拋出\n",
    "- `+` 連結另一個 `list`\n",
    "- 索引（Indexing）\n",
    "- 切割（Slicing）"
   ]
  },
  {
   "cell_type": "code",
   "execution_count": 3,
   "metadata": {
    "slideshow": {
     "slide_type": "subslide"
    }
   },
   "outputs": [
    {
     "name": "stdout",
     "output_type": "stream",
     "text": [
      "3\n"
     ]
    }
   ],
   "source": [
    "# len()\n",
    "genre = [\"Action\", \"Adventure\", \"Sci-Fi\"]\n",
    "print(len(genre))"
   ]
  },
  {
   "cell_type": "code",
   "execution_count": 4,
   "metadata": {
    "slideshow": {
     "slide_type": "subslide"
    }
   },
   "outputs": [
    {
     "name": "stdout",
     "output_type": "stream",
     "text": [
      "['Action', 'Adventure']\n",
      "['Action', 'Adventure', 'Sci-Fi']\n"
     ]
    }
   ],
   "source": [
    "# .append()\n",
    "genre = [\"Action\", \"Adventure\"]\n",
    "print(genre)\n",
    "genre.append(\"Sci-Fi\")\n",
    "print(genre)"
   ]
  },
  {
   "cell_type": "code",
   "execution_count": 5,
   "metadata": {
    "slideshow": {
     "slide_type": "subslide"
    }
   },
   "outputs": [
    {
     "name": "stdout",
     "output_type": "stream",
     "text": [
      "['Action', 'Adventure', 'Sci-Fi']\n",
      "Sci-Fi\n",
      "['Action', 'Adventure']\n"
     ]
    }
   ],
   "source": [
    "# .pop()\n",
    "genre = [\"Action\", \"Adventure\", \"Sci-Fi\"]\n",
    "print(genre)\n",
    "third_genre = genre.pop()\n",
    "print(third_genre)\n",
    "print(genre)"
   ]
  },
  {
   "cell_type": "code",
   "execution_count": 6,
   "metadata": {
    "slideshow": {
     "slide_type": "subslide"
    }
   },
   "outputs": [
    {
     "name": "stdout",
     "output_type": "stream",
     "text": [
      "['Action', 'Adventure']\n",
      "['Action', 'Adventure', 'Sci-Fi']\n"
     ]
    }
   ],
   "source": [
    "# +\n",
    "genre = [\"Action\", \"Adventure\"]\n",
    "print(genre)\n",
    "genre += [\"Sci-Fi\"]\n",
    "print(genre)"
   ]
  },
  {
   "cell_type": "markdown",
   "metadata": {
    "slideshow": {
     "slide_type": "subslide"
    }
   },
   "source": [
    "## 索引（indexing）\n",
    "\n",
    "|從開頭數|0|1|2|\n",
    "|-|-|-|-|\n",
    "|值|\"Action\"|\"Adventure\"|\"Sci-Fi\"|\n",
    "|從末端數|-3|-2|-1|"
   ]
  },
  {
   "cell_type": "code",
   "execution_count": 7,
   "metadata": {
    "slideshow": {
     "slide_type": "subslide"
    }
   },
   "outputs": [
    {
     "name": "stdout",
     "output_type": "stream",
     "text": [
      "Action\n",
      "Adventure\n",
      "Sci-Fi\n"
     ]
    }
   ],
   "source": [
    "# 從開頭數\n",
    "genre = [\"Action\", \"Adventure\", \"Sci-Fi\"]\n",
    "print(genre[0])\n",
    "print(genre[1])\n",
    "print(genre[2])"
   ]
  },
  {
   "cell_type": "code",
   "execution_count": 8,
   "metadata": {
    "slideshow": {
     "slide_type": "subslide"
    }
   },
   "outputs": [
    {
     "name": "stdout",
     "output_type": "stream",
     "text": [
      "Sci-Fi\n",
      "Adventure\n",
      "Action\n"
     ]
    }
   ],
   "source": [
    "# 從末端數\n",
    "genre = [\"Action\", \"Adventure\", \"Sci-Fi\"]\n",
    "print(genre[-1])\n",
    "print(genre[-2])\n",
    "print(genre[-3])"
   ]
  },
  {
   "cell_type": "markdown",
   "metadata": {
    "slideshow": {
     "slide_type": "subslide"
    }
   },
   "source": [
    "## 切割（slicing）\n",
    "\n",
    "- `start` 起始索引（包含）\n",
    "- `stop` 結束索引（不包含）\n",
    "- `step` 間距\n",
    "\n",
    "```python\n",
    "my_list[start:stop:step]\n",
    "```"
   ]
  },
  {
   "cell_type": "code",
   "execution_count": 9,
   "metadata": {
    "slideshow": {
     "slide_type": "subslide"
    }
   },
   "outputs": [
    {
     "name": "stdout",
     "output_type": "stream",
     "text": [
      "['Robert Downey Jr.', 'Chris Evans', 'Mark Ruffalo']\n",
      "['Robert Downey Jr.', 'Chris Evans', 'Mark Ruffalo']\n",
      "['Karen Gillan', 'Zoe Saldana', 'Evangeline Lilly']\n",
      "['Robert Downey Jr.', 'Mark Ruffalo', 'Scarlett Johansson', 'Don Cheadle', 'Benedict Cumberbatch', 'Brie Larson', 'Karen Gillan', 'Evangeline Lilly']\n",
      "['Evangeline Lilly', 'Zoe Saldana', 'Karen Gillan', 'Tom Holland', 'Brie Larson', 'Chadwick Boseman', 'Benedict Cumberbatch', 'Paul Rudd', 'Don Cheadle', 'Jeremy Renner', 'Scarlett Johansson', 'Chris Hemsworth', 'Mark Ruffalo', 'Chris Evans', 'Robert Downey Jr.']\n"
     ]
    }
   ],
   "source": [
    "cast = ['Robert Downey Jr.', 'Chris Evans', 'Mark Ruffalo', 'Chris Hemsworth', 'Scarlett Johansson', 'Jeremy Renner', 'Don Cheadle', 'Paul Rudd', 'Benedict Cumberbatch', 'Chadwick Boseman', 'Brie Larson', 'Tom Holland', 'Karen Gillan', 'Zoe Saldana', 'Evangeline Lilly']\n",
    "print(cast[0:3])\n",
    "print(cast[:3])\n",
    "print(cast[-3:])\n",
    "print(cast[::2])\n",
    "print(cast[::-1])"
   ]
  },
  {
   "cell_type": "markdown",
   "metadata": {
    "slideshow": {
     "slide_type": "slide"
    }
   },
   "source": [
    "## 隨堂練習"
   ]
  },
  {
   "cell_type": "markdown",
   "metadata": {
    "slideshow": {
     "slide_type": "subslide"
    }
   },
   "source": [
    "## 參考 `cast` 與 https://www.imdb.com/title/tt4154796 將飾演奇異博士（Doctor Strange）的演員用 indexing 方式選出來"
   ]
  },
  {
   "cell_type": "markdown",
   "metadata": {
    "slideshow": {
     "slide_type": "subslide"
    }
   },
   "source": [
    "## 參考 `cast` 與 https://www.imdb.com/title/tt4154796 將第一集復仇者聯盟的六位英雄選出來\n",
    "\n",
    "![Imgur](https://i.imgur.com/4mKOBMQ.jpg)"
   ]
  },
  {
   "cell_type": "markdown",
   "metadata": {
    "slideshow": {
     "slide_type": "slide"
    }
   },
   "source": [
    "## `tuple`"
   ]
  },
  {
   "cell_type": "markdown",
   "metadata": {
    "slideshow": {
     "slide_type": "subslide"
    }
   },
   "source": [
    "## `tuple` 與 `list` 在許多方面都相似\n",
    "\n",
    "以 `()` 搭配 `,` 將多筆資料收納到一個 `tuple` 中。\n",
    "\n",
    "```python\n",
    "my_tuple = (val0, val1, val2, ...)\n",
    "```"
   ]
  },
  {
   "cell_type": "code",
   "execution_count": 10,
   "metadata": {
    "slideshow": {
     "slide_type": "fragment"
    }
   },
   "outputs": [
    {
     "name": "stdout",
     "output_type": "stream",
     "text": [
      "('Action', 'Adventure', 'Sci-Fi')\n",
      "<class 'tuple'>\n"
     ]
    }
   ],
   "source": [
    "genre = (\"Action\", \"Adventure\", \"Sci-Fi\")\n",
    "print(genre)\n",
    "print(type(genre))"
   ]
  },
  {
   "cell_type": "markdown",
   "metadata": {
    "slideshow": {
     "slide_type": "subslide"
    }
   },
   "source": [
    "## 常用的 `tuple` 操作\n",
    "\n",
    "- `len()` 觀察長度\n",
    "- 索引（Indexing）\n",
    "- 切割（Slicing）"
   ]
  },
  {
   "cell_type": "code",
   "execution_count": 11,
   "metadata": {
    "slideshow": {
     "slide_type": "subslide"
    }
   },
   "outputs": [
    {
     "name": "stdout",
     "output_type": "stream",
     "text": [
      "3\n"
     ]
    }
   ],
   "source": [
    "genre = (\"Action\", \"Adventure\", \"Sci-Fi\")\n",
    "# len()\n",
    "print(len(genre))"
   ]
  },
  {
   "cell_type": "code",
   "execution_count": 12,
   "metadata": {
    "slideshow": {
     "slide_type": "fragment"
    }
   },
   "outputs": [
    {
     "name": "stdout",
     "output_type": "stream",
     "text": [
      "Adventure\n"
     ]
    }
   ],
   "source": [
    "# indexing\n",
    "print(genre[1])"
   ]
  },
  {
   "cell_type": "code",
   "execution_count": 13,
   "metadata": {
    "slideshow": {
     "slide_type": "fragment"
    }
   },
   "outputs": [
    {
     "name": "stdout",
     "output_type": "stream",
     "text": [
      "('Action', 'Adventure')\n"
     ]
    }
   ],
   "source": [
    "# slicing\n",
    "print(genre[:2])"
   ]
  },
  {
   "cell_type": "markdown",
   "metadata": {
    "slideshow": {
     "slide_type": "subslide"
    }
   },
   "source": [
    "## `tuple` 與 `list` 最大的不同在於「無法更動」這個特性\n",
    "\n",
    "一但創建之後，內容與長度都不能改變。"
   ]
  },
  {
   "cell_type": "code",
   "execution_count": 14,
   "metadata": {
    "slideshow": {
     "slide_type": "subslide"
    }
   },
   "outputs": [
    {
     "name": "stdout",
     "output_type": "stream",
     "text": [
      "['Action', 'Adventure', 'Sci-Fi']\n"
     ]
    }
   ],
   "source": [
    "# 更動內容\n",
    "genre = [\"Action\", \"Adventure\", \"sci-fi\"]\n",
    "genre[2] = \"Sci-Fi\"\n",
    "print(genre)"
   ]
  },
  {
   "cell_type": "code",
   "execution_count": 15,
   "metadata": {
    "slideshow": {
     "slide_type": "fragment"
    }
   },
   "outputs": [
    {
     "ename": "TypeError",
     "evalue": "'tuple' object does not support item assignment",
     "output_type": "error",
     "traceback": [
      "\u001b[0;31m---------------------------------------------------------------------------\u001b[0m",
      "\u001b[0;31mTypeError\u001b[0m                                 Traceback (most recent call last)",
      "\u001b[0;32m<ipython-input-15-a799d3c9283c>\u001b[0m in \u001b[0;36m<module>\u001b[0;34m\u001b[0m\n\u001b[1;32m      1\u001b[0m \u001b[0mgenre\u001b[0m \u001b[0;34m=\u001b[0m \u001b[0;34m(\u001b[0m\u001b[0;34m\"Action\"\u001b[0m\u001b[0;34m,\u001b[0m \u001b[0;34m\"Adventure\"\u001b[0m\u001b[0;34m,\u001b[0m \u001b[0;34m\"sci-fi\"\u001b[0m\u001b[0;34m)\u001b[0m\u001b[0;34m\u001b[0m\u001b[0;34m\u001b[0m\u001b[0m\n\u001b[0;32m----> 2\u001b[0;31m \u001b[0mgenre\u001b[0m\u001b[0;34m[\u001b[0m\u001b[0;36m2\u001b[0m\u001b[0;34m]\u001b[0m \u001b[0;34m=\u001b[0m \u001b[0;34m\"Sci-Fi\"\u001b[0m\u001b[0;34m\u001b[0m\u001b[0;34m\u001b[0m\u001b[0m\n\u001b[0m",
      "\u001b[0;31mTypeError\u001b[0m: 'tuple' object does not support item assignment"
     ]
    }
   ],
   "source": [
    "genre = (\"Action\", \"Adventure\", \"sci-fi\")\n",
    "genre[2] = \"Sci-Fi\""
   ]
  },
  {
   "cell_type": "code",
   "execution_count": 16,
   "metadata": {
    "slideshow": {
     "slide_type": "subslide"
    }
   },
   "outputs": [
    {
     "name": "stdout",
     "output_type": "stream",
     "text": [
      "['Action', 'Adventure', 'Sci-Fi']\n"
     ]
    }
   ],
   "source": [
    "# 更動長度\n",
    "genre = [\"Action\", \"Adventure\"]\n",
    "genre.append(\"Sci-Fi\")\n",
    "print(genre)"
   ]
  },
  {
   "cell_type": "code",
   "execution_count": 17,
   "metadata": {
    "slideshow": {
     "slide_type": "fragment"
    }
   },
   "outputs": [
    {
     "ename": "AttributeError",
     "evalue": "'tuple' object has no attribute 'append'",
     "output_type": "error",
     "traceback": [
      "\u001b[0;31m---------------------------------------------------------------------------\u001b[0m",
      "\u001b[0;31mAttributeError\u001b[0m                            Traceback (most recent call last)",
      "\u001b[0;32m<ipython-input-17-8fec309b54b1>\u001b[0m in \u001b[0;36m<module>\u001b[0;34m\u001b[0m\n\u001b[1;32m      1\u001b[0m \u001b[0mgenre\u001b[0m \u001b[0;34m=\u001b[0m \u001b[0;34m(\u001b[0m\u001b[0;34m\"Action\"\u001b[0m\u001b[0;34m,\u001b[0m \u001b[0;34m\"Adventure\"\u001b[0m\u001b[0;34m)\u001b[0m\u001b[0;34m\u001b[0m\u001b[0;34m\u001b[0m\u001b[0m\n\u001b[0;32m----> 2\u001b[0;31m \u001b[0mgenre\u001b[0m\u001b[0;34m.\u001b[0m\u001b[0mappend\u001b[0m\u001b[0;34m(\u001b[0m\u001b[0;34m\"Sci-Fi\"\u001b[0m\u001b[0;34m)\u001b[0m\u001b[0;34m\u001b[0m\u001b[0;34m\u001b[0m\u001b[0m\n\u001b[0m\u001b[1;32m      3\u001b[0m \u001b[0mprint\u001b[0m\u001b[0;34m(\u001b[0m\u001b[0mgenre\u001b[0m\u001b[0;34m)\u001b[0m\u001b[0;34m\u001b[0m\u001b[0;34m\u001b[0m\u001b[0m\n",
      "\u001b[0;31mAttributeError\u001b[0m: 'tuple' object has no attribute 'append'"
     ]
    }
   ],
   "source": [
    "genre = (\"Action\", \"Adventure\")\n",
    "genre.append(\"Sci-Fi\")\n",
    "print(genre)"
   ]
  },
  {
   "cell_type": "markdown",
   "metadata": {
    "slideshow": {
     "slide_type": "subslide"
    }
   },
   "source": [
    "## （Preview）Python 函數有多個輸出會以 `tuple` 的資料結構回傳"
   ]
  },
  {
   "cell_type": "code",
   "execution_count": 19,
   "metadata": {},
   "outputs": [
    {
     "name": "stdout",
     "output_type": "stream",
     "text": [
      "(1, 4)\n",
      "<class 'tuple'>\n"
     ]
    }
   ],
   "source": [
    "x = 0.25\n",
    "print(x.as_integer_ratio())\n",
    "print(type(x.as_integer_ratio()))"
   ]
  },
  {
   "cell_type": "markdown",
   "metadata": {
    "slideshow": {
     "slide_type": "slide"
    }
   },
   "source": [
    "## `dict`"
   ]
  },
  {
   "cell_type": "markdown",
   "metadata": {
    "slideshow": {
     "slide_type": "subslide"
    }
   },
   "source": [
    "## `dict` 是 Python 將資料與標籤綁定的彈性資料結構\n",
    "\n",
    "以 `{}` 搭配 `key:value` 將資料（value）與標籤（key）綁定起來。\n",
    "\n",
    "```python\n",
    "my_dict = {\n",
    "    \"key0\": val0,\n",
    "    \"key1\": val1,\n",
    "    \"key2\": val2,\n",
    "    ...\n",
    "}\n",
    "```"
   ]
  },
  {
   "cell_type": "markdown",
   "metadata": {
    "slideshow": {
     "slide_type": "subslide"
    }
   },
   "source": [
    "![Imgur](https://i.imgur.com/4mKOBMQ.jpg)"
   ]
  },
  {
   "cell_type": "code",
   "execution_count": 20,
   "metadata": {
    "slideshow": {
     "slide_type": "subslide"
    }
   },
   "outputs": [
    {
     "name": "stdout",
     "output_type": "stream",
     "text": [
      "{'Iron Man': 'Tony Stark', 'Captain America': 'Steve Rogers', 'Hulk': 'Bruce Banner', 'Thor': 'Thor', 'Black Widow': 'Natasha Romanoff', 'Hawkeye': 'Clint Barton'}\n",
      "<class 'dict'>\n"
     ]
    }
   ],
   "source": [
    "the_avengers = {\n",
    "    \"Iron Man\": \"Tony Stark\",\n",
    "    \"Captain America\": \"Steve Rogers\",\n",
    "    \"Hulk\": \"Bruce Banner\",\n",
    "    \"Thor\": \"Thor\",\n",
    "    \"Black Widow\": \"Natasha Romanoff\",\n",
    "    \"Hawkeye\": \"Clint Barton\"\n",
    "}\n",
    "print(the_avengers)\n",
    "print(type(the_avengers))"
   ]
  },
  {
   "cell_type": "markdown",
   "metadata": {
    "slideshow": {
     "slide_type": "subslide"
    }
   },
   "source": [
    "## 獲取 `dict` 的標籤與資料\n",
    "\n",
    "- `.keys()`：取得標籤\n",
    "- `.values()`：取得資料\n",
    "- `.items()`：同時取得標籤和資料"
   ]
  },
  {
   "cell_type": "code",
   "execution_count": 21,
   "metadata": {
    "slideshow": {
     "slide_type": "-"
    }
   },
   "outputs": [
    {
     "name": "stdout",
     "output_type": "stream",
     "text": [
      "dict_keys(['Iron Man', 'Captain America', 'Hulk', 'Thor', 'Black Widow', 'Hawkeye'])\n",
      "dict_values(['Tony Stark', 'Steve Rogers', 'Bruce Banner', 'Thor', 'Natasha Romanoff', 'Clint Barton'])\n",
      "dict_items([('Iron Man', 'Tony Stark'), ('Captain America', 'Steve Rogers'), ('Hulk', 'Bruce Banner'), ('Thor', 'Thor'), ('Black Widow', 'Natasha Romanoff'), ('Hawkeye', 'Clint Barton')])\n"
     ]
    }
   ],
   "source": [
    "print(the_avengers.keys())\n",
    "print(the_avengers.values())\n",
    "print(the_avengers.items()) # 6 組 tuples"
   ]
  },
  {
   "cell_type": "markdown",
   "metadata": {
    "slideshow": {
     "slide_type": "subslide"
    }
   },
   "source": [
    "## 以 `my_dict[\"key\"]` 作索引取值"
   ]
  },
  {
   "cell_type": "code",
   "execution_count": 22,
   "metadata": {},
   "outputs": [
    {
     "name": "stdout",
     "output_type": "stream",
     "text": [
      "Tony Stark\n",
      "Steve Rogers\n",
      "Bruce Banner\n",
      "Thor\n",
      "Natasha Romanoff\n",
      "Clint Barton\n"
     ]
    }
   ],
   "source": [
    "print(the_avengers[\"Iron Man\"])\n",
    "print(the_avengers[\"Captain America\"])\n",
    "print(the_avengers[\"Hulk\"])\n",
    "print(the_avengers[\"Thor\"])\n",
    "print(the_avengers[\"Black Widow\"])\n",
    "print(the_avengers[\"Hawkeye\"])"
   ]
  },
  {
   "cell_type": "markdown",
   "metadata": {
    "slideshow": {
     "slide_type": "slide"
    }
   },
   "source": [
    "## `set`"
   ]
  },
  {
   "cell_type": "markdown",
   "metadata": {
    "slideshow": {
     "slide_type": "subslide"
    }
   },
   "source": [
    "## `set` 是 Python 儲存獨一值的資料結構\n",
    "\n",
    "以 `{}` 搭配 `,` 將資料收納到 `set` 之中。\n",
    "\n",
    "```python\n",
    "my_set = {val0, val1, val2, ...}\n",
    "```"
   ]
  },
  {
   "cell_type": "code",
   "execution_count": 23,
   "metadata": {},
   "outputs": [
    {
     "name": "stdout",
     "output_type": "stream",
     "text": [
      "{2, 3, 5, 7, 11, 13}\n",
      "<class 'set'>\n"
     ]
    }
   ],
   "source": [
    "primes = {2, 3, 5, 7, 11, 13}\n",
    "print(primes)\n",
    "print(type(primes))"
   ]
  },
  {
   "cell_type": "markdown",
   "metadata": {
    "slideshow": {
     "slide_type": "subslide"
    }
   },
   "source": [
    "## `set` 只儲存獨一值"
   ]
  },
  {
   "cell_type": "code",
   "execution_count": 24,
   "metadata": {},
   "outputs": [
    {
     "name": "stdout",
     "output_type": "stream",
     "text": [
      "{2, 3, 5}\n"
     ]
    }
   ],
   "source": [
    "primes = {2, 3, 3, 3, 5, 5}\n",
    "print(primes)"
   ]
  },
  {
   "cell_type": "markdown",
   "metadata": {
    "slideshow": {
     "slide_type": "subslide"
    }
   },
   "source": [
    "## `set` 能運行集合運算\n",
    "\n",
    "- `|` 聯集\n",
    "- `&` 交集\n",
    "- `-` 差異\n",
    "- `^` 對稱差異"
   ]
  },
  {
   "cell_type": "code",
   "execution_count": 25,
   "metadata": {
    "slideshow": {
     "slide_type": "subslide"
    }
   },
   "outputs": [],
   "source": [
    "primes = {2, 3, 5, 7, 11, 13}\n",
    "odds = {1, 3, 5, 7, 9, 11, 13}"
   ]
  },
  {
   "cell_type": "code",
   "execution_count": 26,
   "metadata": {
    "slideshow": {
     "slide_type": "fragment"
    }
   },
   "outputs": [
    {
     "name": "stdout",
     "output_type": "stream",
     "text": [
      "{1, 2, 3, 5, 7, 9, 11, 13}\n"
     ]
    }
   ],
   "source": [
    "print(primes | odds)"
   ]
  },
  {
   "cell_type": "code",
   "execution_count": 27,
   "metadata": {
    "slideshow": {
     "slide_type": "fragment"
    }
   },
   "outputs": [
    {
     "name": "stdout",
     "output_type": "stream",
     "text": [
      "{3, 5, 7, 11, 13}\n"
     ]
    }
   ],
   "source": [
    "print(primes & odds)"
   ]
  },
  {
   "cell_type": "code",
   "execution_count": 28,
   "metadata": {
    "slideshow": {
     "slide_type": "fragment"
    }
   },
   "outputs": [
    {
     "name": "stdout",
     "output_type": "stream",
     "text": [
      "{2}\n"
     ]
    }
   ],
   "source": [
    "print(primes - odds)"
   ]
  },
  {
   "cell_type": "code",
   "execution_count": 29,
   "metadata": {
    "slideshow": {
     "slide_type": "fragment"
    }
   },
   "outputs": [
    {
     "name": "stdout",
     "output_type": "stream",
     "text": [
      "{1, 2, 9}\n"
     ]
    }
   ],
   "source": [
    "print(primes ^ odds)"
   ]
  },
  {
   "cell_type": "markdown",
   "metadata": {
    "slideshow": {
     "slide_type": "slide"
    }
   },
   "source": [
    "## 小結"
   ]
  },
  {
   "cell_type": "markdown",
   "metadata": {
    "slideshow": {
     "slide_type": "subslide"
    }
   },
   "source": [
    "## 資料結構的特性 \n",
    "\n",
    "- 可以巢狀（nested）\n",
    "- 可以迭代（iteratble）\n",
    "- 多數可以索引（`set` 除外）"
   ]
  },
  {
   "cell_type": "code",
   "execution_count": 30,
   "metadata": {
    "slideshow": {
     "slide_type": "subslide"
    }
   },
   "outputs": [],
   "source": [
    "# 可以巢狀\n",
    "avengers_endgame = {\n",
    "    \"rating\": 8.8,\n",
    "    \"genre\": [\"Action\", \"Adventure\", \"Sci-Fi\"],\n",
    "    \"heroes\": {\n",
    "        \"Iron Man\": \"Tony Stark\",\n",
    "        \"Captain America\": \"Steve Rogers\",\n",
    "        \"Hulk\": \"Bruce Banner\",\n",
    "        \"Thor\": \"Thor\",\n",
    "        \"Black Widow\": \"Natasha Romanoff\",\n",
    "        \"Hawkeye\": \"Clint Barton\"\n",
    "    }\n",
    "}"
   ]
  },
  {
   "cell_type": "code",
   "execution_count": 31,
   "metadata": {
    "slideshow": {
     "slide_type": "subslide"
    }
   },
   "outputs": [
    {
     "name": "stdout",
     "output_type": "stream",
     "text": [
      "Action\n",
      "Adventure\n",
      "Sci-Fi\n"
     ]
    }
   ],
   "source": [
    "# 可以迭代\n",
    "genre = [\"Action\", \"Adventure\", \"Sci-Fi\"]\n",
    "i = 0\n",
    "while i < len(genre):\n",
    "    print(genre[i])\n",
    "    i += 1"
   ]
  },
  {
   "cell_type": "code",
   "execution_count": 32,
   "metadata": {
    "slideshow": {
     "slide_type": "subslide"
    }
   },
   "outputs": [
    {
     "ename": "TypeError",
     "evalue": "'type' object is not subscriptable",
     "output_type": "error",
     "traceback": [
      "\u001b[0;31m---------------------------------------------------------------------------\u001b[0m",
      "\u001b[0;31mTypeError\u001b[0m                                 Traceback (most recent call last)",
      "\u001b[0;32m<ipython-input-32-b6ced1326ab9>\u001b[0m in \u001b[0;36m<module>\u001b[0;34m\u001b[0m\n\u001b[1;32m      1\u001b[0m \u001b[0;31m# set 無法索引\u001b[0m\u001b[0;34m\u001b[0m\u001b[0;34m\u001b[0m\u001b[0;34m\u001b[0m\u001b[0m\n\u001b[1;32m      2\u001b[0m \u001b[0mheroes\u001b[0m \u001b[0;34m=\u001b[0m \u001b[0;34m{\u001b[0m\u001b[0;34m\"Iron Man\"\u001b[0m\u001b[0;34m,\u001b[0m \u001b[0;34m\"Captain America\"\u001b[0m\u001b[0;34m,\u001b[0m \u001b[0;34m\"Hulk\"\u001b[0m\u001b[0;34m,\u001b[0m \u001b[0;34m\"Bruce Banner\"\u001b[0m\u001b[0;34m,\u001b[0m \u001b[0;34m\"Thor\"\u001b[0m\u001b[0;34m,\u001b[0m \u001b[0;34m\"Black Widow\"\u001b[0m\u001b[0;34m,\u001b[0m \u001b[0;34m\"Hawkeye\"\u001b[0m\u001b[0;34m}\u001b[0m\u001b[0;34m\u001b[0m\u001b[0;34m\u001b[0m\u001b[0m\n\u001b[0;32m----> 3\u001b[0;31m \u001b[0mprint\u001b[0m\u001b[0;34m(\u001b[0m\u001b[0mset\u001b[0m\u001b[0;34m[\u001b[0m\u001b[0;36m0\u001b[0m\u001b[0;34m]\u001b[0m\u001b[0;34m)\u001b[0m\u001b[0;34m\u001b[0m\u001b[0;34m\u001b[0m\u001b[0m\n\u001b[0m",
      "\u001b[0;31mTypeError\u001b[0m: 'type' object is not subscriptable"
     ]
    }
   ],
   "source": [
    "# set 無法索引\n",
    "heroes = {\"Iron Man\", \"Captain America\", \"Hulk\", \"Bruce Banner\", \"Thor\", \"Black Widow\", \"Hawkeye\"}\n",
    "print(set[0])"
   ]
  },
  {
   "cell_type": "markdown",
   "metadata": {
    "slideshow": {
     "slide_type": "slide"
    }
   },
   "source": [
    "## 作業"
   ]
  },
  {
   "cell_type": "markdown",
   "metadata": {
    "slideshow": {
     "slide_type": "subslide"
    }
   },
   "source": [
    "## 印出 6 個英雄的暱稱與角色名\n",
    "\n",
    "```python\n",
    "avengers_endgame = {\n",
    "    \"rating\": 8.8,\n",
    "    \"genre\": [\"Action\", \"Adventure\", \"Sci-Fi\"],\n",
    "    \"heroes\": {\n",
    "        \"Iron Man\": \"Tony Stark\",\n",
    "        \"Captain America\": \"Steve Rogers\",\n",
    "        \"Hulk\": \"Bruce Banner\",\n",
    "        \"Thor\": \"Thor\",\n",
    "        \"Black Widow\": \"Natasha Romanoff\",\n",
    "        \"Hawkeye\": \"Clint Barton\"\n",
    "    }\n",
    "}\n",
    "```"
   ]
  },
  {
   "cell_type": "markdown",
   "metadata": {
    "slideshow": {
     "slide_type": "subslide"
    }
   },
   "source": [
    "## 執行範例\n",
    "\n",
    "```\n",
    "## Tony Stark 的暱稱 Iron Man\n",
    "## Steve Rogers 的暱稱 Captain America\n",
    "## Bruce Banner 的暱稱 Hulk\n",
    "## Thor 的暱稱 Thor\n",
    "## Natasha Romanoff 的暱稱 Black Widow\n",
    "## Clint Barton 的暱稱 Hawkeye\n",
    "```"
   ]
  },
  {
   "cell_type": "code",
   "execution_count": 34,
   "metadata": {
    "slideshow": {
     "slide_type": "subslide"
    }
   },
   "outputs": [
    {
     "name": "stdout",
     "output_type": "stream",
     "text": [
      "Tony Stark\n",
      "Steve Rogers\n",
      "Bruce Banner\n",
      "Thor\n",
      "Natasha Romanoff\n",
      "Clint Barton\n"
     ]
    }
   ],
   "source": [
    "avengers_endgame = {\n",
    "    \"rating\": 8.8,\n",
    "    \"genre\": [\"Action\", \"Adventure\", \"Sci-Fi\"],\n",
    "    \"heroes\": {\n",
    "        \"Iron Man\": \"Tony Stark\",\n",
    "        \"Captain America\": \"Steve Rogers\",\n",
    "        \"Hulk\": \"Bruce Banner\",\n",
    "        \"Thor\": \"Thor\",\n",
    "        \"Black Widow\": \"Natasha Romanoff\",\n",
    "        \"Hawkeye\": \"Clint Barton\"\n",
    "    }\n",
    "}\n",
    "heroes_dict = avengers_endgame['heroes']\n",
    "heroes_dict_len = len(heroes_dict)\n",
    "heroes_dict_keys = list(heroes_dict.keys())\n",
    "i = 0\n",
    "while i < heroes_dict_len:\n",
    "    dict_key = heroes_dict_keys[i]\n",
    "    print(heroes_dict[dict_key])\n",
    "    i += 1"
   ]
  }
 ],
 "metadata": {
  "celltoolbar": "Slideshow",
  "kernelspec": {
   "display_name": "Python 3",
   "language": "python",
   "name": "python3"
  },
  "language_info": {
   "codemirror_mode": {
    "name": "ipython",
    "version": 3
   },
   "file_extension": ".py",
   "mimetype": "text/x-python",
   "name": "python",
   "nbconvert_exporter": "python",
   "pygments_lexer": "ipython3",
   "version": "3.7.5"
  }
 },
 "nbformat": 4,
 "nbformat_minor": 1
}
