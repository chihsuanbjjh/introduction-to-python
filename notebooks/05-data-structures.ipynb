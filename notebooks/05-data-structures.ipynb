{
 "cells": [
  {
   "cell_type": "markdown",
   "metadata": {
    "slideshow": {
     "slide_type": "slide"
    }
   },
   "source": [
    "# 成為初級資料分析師 | Python 程式設計\n",
    "\n",
    "> 資料結構\n",
    "\n",
    "## 郭耀仁"
   ]
  },
  {
   "cell_type": "markdown",
   "metadata": {
    "slideshow": {
     "slide_type": "subslide"
    }
   },
   "source": [
    "> Data structure takes data from ingredients to collections."
   ]
  },
  {
   "cell_type": "markdown",
   "metadata": {
    "slideshow": {
     "slide_type": "subslide"
    }
   },
   "source": [
    "## 什麼是資料結構 \n",
    "\n",
    "> 資料結構是電腦中儲存、組織資料的方式，Python 的基礎資料結構有四種：`list`、`tuple`、`dict` 與 `set`。"
   ]
  },
  {
   "cell_type": "markdown",
   "metadata": {
    "slideshow": {
     "slide_type": "subslide"
    }
   },
   "source": [
    "## Python 基礎資料結構的特性 \n",
    "\n",
    "- 可以巢狀（nested）\n",
    "- 可以迭代（iteratble）\n",
    "- 多數可以索引（`set` 除外）"
   ]
  },
  {
   "cell_type": "markdown",
   "metadata": {
    "slideshow": {
     "slide_type": "subslide"
    }
   },
   "source": [
    "## 大綱\n",
    "\n",
    "- `list`\n",
    "- `tuple`\n",
    "- `dict`\n",
    "- `set`\n",
    "- 隨堂練習"
   ]
  },
  {
   "cell_type": "markdown",
   "metadata": {
    "slideshow": {
     "slide_type": "slide"
    }
   },
   "source": [
    "## `list`"
   ]
  },
  {
   "cell_type": "markdown",
   "metadata": {
    "slideshow": {
     "slide_type": "subslide"
    }
   },
   "source": [
    "## 以 `[]` 搭配 `,` 將多筆資料值收納到一個 `list` 中\n",
    "\n",
    "```python\n",
    "my_list = [val0, val1, val2, ...]\n",
    "```"
   ]
  },
  {
   "cell_type": "markdown",
   "metadata": {
    "slideshow": {
     "slide_type": "subslide"
    }
   },
   "source": [
    "## 如何記錄電影的劇情類型\n",
    "\n",
    "<https://www.imdb.com/title/tt4154756/>\n",
    "\n",
    "- Action\n",
    "- Adventure\n",
    "- Sci-Fi"
   ]
  },
  {
   "cell_type": "markdown",
   "metadata": {
    "slideshow": {
     "slide_type": "subslide"
    }
   },
   "source": [
    "## 不使用 `list`"
   ]
  },
  {
   "cell_type": "code",
   "execution_count": null,
   "metadata": {
    "slideshow": {
     "slide_type": "-"
    }
   },
   "outputs": [],
   "source": [
    "genre_0 = \"Action\"\n",
    "genre_1 = \"Adventure\"\n",
    "genre_2 = \"Sci-Fi\""
   ]
  },
  {
   "cell_type": "markdown",
   "metadata": {
    "slideshow": {
     "slide_type": "subslide"
    }
   },
   "source": [
    "## 使用 `list`"
   ]
  },
  {
   "cell_type": "code",
   "execution_count": null,
   "metadata": {
    "slideshow": {
     "slide_type": "-"
    }
   },
   "outputs": [],
   "source": [
    "genre = [\"Action\", \"Adventure\", \"Sci-Fi\"]\n",
    "print(genre)\n",
    "print(type(genre))"
   ]
  },
  {
   "cell_type": "markdown",
   "metadata": {
    "slideshow": {
     "slide_type": "subslide"
    }
   },
   "source": [
    "## 常用的 `list` 操作\n",
    "\n",
    "- `len()` 觀察長度\n",
    "- `.append()` 新增資料至末端\n",
    "- `.pop()` 將最末端資料拋出\n",
    "- `+` 連結另一個 `list`\n",
    "- 支援 `in` 比較符號\n",
    "- 索引（Indexing）\n",
    "- 切割（Slicing）"
   ]
  },
  {
   "cell_type": "code",
   "execution_count": null,
   "metadata": {
    "slideshow": {
     "slide_type": "subslide"
    }
   },
   "outputs": [],
   "source": [
    "# len()\n",
    "genre = [\"Action\", \"Adventure\", \"Sci-Fi\"]\n",
    "print(len(genre))"
   ]
  },
  {
   "cell_type": "code",
   "execution_count": null,
   "metadata": {
    "slideshow": {
     "slide_type": "subslide"
    }
   },
   "outputs": [],
   "source": [
    "# .append()\n",
    "genre = [\"Action\", \"Adventure\"]\n",
    "print(genre)\n",
    "genre.append(\"Sci-Fi\")\n",
    "print(genre)"
   ]
  },
  {
   "cell_type": "code",
   "execution_count": null,
   "metadata": {
    "slideshow": {
     "slide_type": "subslide"
    }
   },
   "outputs": [],
   "source": [
    "# .pop()\n",
    "genre = [\"Action\", \"Adventure\", \"Sci-Fi\"]\n",
    "print(genre)\n",
    "third_genre = genre.pop()\n",
    "print(third_genre)\n",
    "print(genre)"
   ]
  },
  {
   "cell_type": "code",
   "execution_count": null,
   "metadata": {
    "slideshow": {
     "slide_type": "subslide"
    }
   },
   "outputs": [],
   "source": [
    "# +\n",
    "genre = [\"Action\", \"Adventure\"]\n",
    "print(genre)\n",
    "genre += [\"Sci-Fi\"]\n",
    "print(genre)"
   ]
  },
  {
   "cell_type": "code",
   "execution_count": null,
   "metadata": {
    "slideshow": {
     "slide_type": "subslide"
    }
   },
   "outputs": [],
   "source": [
    "# in\n",
    "genre = [\"Action\", \"Adventure\", \"Sci-Fi\"]\n",
    "print(\"Drama\" in genre)\n",
    "print(\"Sci-Fi\" in genre)"
   ]
  },
  {
   "cell_type": "markdown",
   "metadata": {
    "slideshow": {
     "slide_type": "subslide"
    }
   },
   "source": [
    "## 索引（indexing）\n",
    "\n",
    "||index/value|index/value|index/value|\n",
    "|-|-|-|-|\n",
    "|從開頭數|0|1|2|\n",
    "|值|\"Action\"|\"Adventure\"|\"Sci-Fi\"|\n",
    "|從末端數|-3|-2|-1|"
   ]
  },
  {
   "cell_type": "markdown",
   "metadata": {
    "slideshow": {
     "slide_type": "subslide"
    }
   },
   "source": [
    "## 以 `0`、`1`、`2` 對應 `\"Action\"`、`\"Adventure\"`、`\"Sci-Fi\"`"
   ]
  },
  {
   "cell_type": "code",
   "execution_count": null,
   "metadata": {
    "slideshow": {
     "slide_type": "-"
    }
   },
   "outputs": [],
   "source": [
    "# 從開頭數\n",
    "genre = [\"Action\", \"Adventure\", \"Sci-Fi\"]\n",
    "print(genre[0])\n",
    "print(genre[1])\n",
    "print(genre[2])"
   ]
  },
  {
   "cell_type": "markdown",
   "metadata": {
    "slideshow": {
     "slide_type": "subslide"
    }
   },
   "source": [
    "## 以 `-1`、`-2`、`-3` 對應 `\"Sci-Fi\"`、`\"Adventure\"`、`\"Action\"`"
   ]
  },
  {
   "cell_type": "code",
   "execution_count": null,
   "metadata": {
    "slideshow": {
     "slide_type": "-"
    }
   },
   "outputs": [],
   "source": [
    "# 從末端數\n",
    "genre = [\"Action\", \"Adventure\", \"Sci-Fi\"]\n",
    "print(genre[-1])\n",
    "print(genre[-2])\n",
    "print(genre[-3])"
   ]
  },
  {
   "cell_type": "markdown",
   "metadata": {
    "slideshow": {
     "slide_type": "subslide"
    }
   },
   "source": [
    "## 切割（slicing）\n",
    "\n",
    "- `start` 起始索引（包含）\n",
    "- `stop` 結束索引（不包含）\n",
    "- `step` 間距\n",
    "\n",
    "```python\n",
    "my_list[start:stop:step]\n",
    "```"
   ]
  },
  {
   "cell_type": "code",
   "execution_count": null,
   "metadata": {
    "slideshow": {
     "slide_type": "subslide"
    }
   },
   "outputs": [],
   "source": [
    "cast = ['Robert Downey Jr.',\n",
    "        'Chris Hemsworth',\n",
    "        'Mark Ruffalo',\n",
    "        'Chris Evans',\n",
    "        'Scarlett Johansson',\n",
    "        'Don Cheadle',\n",
    "        'Benedict Cumberbatch',\n",
    "        'Tom Holland',\n",
    "        'Chadwick Boseman',\n",
    "        'Zoe Saldana',\n",
    "        'Karen Gillan',\n",
    "        'Tom Hiddleston',\n",
    "        'Paul Bettany',\n",
    "        'Elizabeth Olsen',\n",
    "        'Anthony Mackie']"
   ]
  },
  {
   "cell_type": "code",
   "execution_count": null,
   "metadata": {
    "slideshow": {
     "slide_type": "subslide"
    }
   },
   "outputs": [],
   "source": [
    "print(cast[0:3])\n",
    "print(cast[:3])\n",
    "print(cast[-3:])\n",
    "print(cast[::2])\n",
    "print(cast[::-1])"
   ]
  },
  {
   "cell_type": "markdown",
   "metadata": {
    "slideshow": {
     "slide_type": "slide"
    }
   },
   "source": [
    "## `tuple`"
   ]
  },
  {
   "cell_type": "markdown",
   "metadata": {
    "slideshow": {
     "slide_type": "subslide"
    }
   },
   "source": [
    "## `tuple` 與 `list` 在許多方面都相似\n",
    "\n",
    "以 `()` 搭配 `,` 將多筆資料值收納到一個 `tuple` 中。\n",
    "\n",
    "```python\n",
    "my_tuple = (val0, val1, val2, ...)\n",
    "```"
   ]
  },
  {
   "cell_type": "code",
   "execution_count": null,
   "metadata": {
    "slideshow": {
     "slide_type": "fragment"
    }
   },
   "outputs": [],
   "source": [
    "genre = (\"Action\", \"Adventure\", \"Sci-Fi\")\n",
    "print(genre)\n",
    "print(type(genre))"
   ]
  },
  {
   "cell_type": "markdown",
   "metadata": {
    "slideshow": {
     "slide_type": "subslide"
    }
   },
   "source": [
    "## 常用的 `tuple` 操作\n",
    "\n",
    "- `len()` 觀察長度\n",
    "- 索引（Indexing）\n",
    "- 切割（Slicing）"
   ]
  },
  {
   "cell_type": "code",
   "execution_count": null,
   "metadata": {
    "slideshow": {
     "slide_type": "subslide"
    }
   },
   "outputs": [],
   "source": [
    "genre = (\"Action\", \"Adventure\", \"Sci-Fi\")\n",
    "# len()\n",
    "print(len(genre))"
   ]
  },
  {
   "cell_type": "code",
   "execution_count": null,
   "metadata": {
    "slideshow": {
     "slide_type": "fragment"
    }
   },
   "outputs": [],
   "source": [
    "# indexing\n",
    "print(genre[1])"
   ]
  },
  {
   "cell_type": "code",
   "execution_count": null,
   "metadata": {
    "slideshow": {
     "slide_type": "fragment"
    }
   },
   "outputs": [],
   "source": [
    "# slicing\n",
    "print(genre[:2])"
   ]
  },
  {
   "cell_type": "markdown",
   "metadata": {
    "slideshow": {
     "slide_type": "subslide"
    }
   },
   "source": [
    "## `tuple` 與 `list` 最大的不同在於「無法更動」這個特性\n",
    "\n",
    "一但創建之後，內容與長度都不能改變。"
   ]
  },
  {
   "cell_type": "code",
   "execution_count": null,
   "metadata": {
    "slideshow": {
     "slide_type": "subslide"
    }
   },
   "outputs": [],
   "source": [
    "# 更動內容\n",
    "genre = [\"Action\", \"Adventure\", \"sci-fi\"]\n",
    "genre[2] = \"Sci-Fi\"\n",
    "print(genre)"
   ]
  },
  {
   "cell_type": "code",
   "execution_count": null,
   "metadata": {
    "slideshow": {
     "slide_type": "subslide"
    }
   },
   "outputs": [],
   "source": [
    "genre = (\"Action\", \"Adventure\", \"sci-fi\")\n",
    "genre[2] = \"Sci-Fi\""
   ]
  },
  {
   "cell_type": "code",
   "execution_count": null,
   "metadata": {
    "slideshow": {
     "slide_type": "subslide"
    }
   },
   "outputs": [],
   "source": [
    "# 更動長度\n",
    "genre = [\"Action\", \"Adventure\"]\n",
    "genre.append(\"Sci-Fi\")\n",
    "print(genre)"
   ]
  },
  {
   "cell_type": "code",
   "execution_count": null,
   "metadata": {
    "slideshow": {
     "slide_type": "subslide"
    }
   },
   "outputs": [],
   "source": [
    "genre = (\"Action\", \"Adventure\")\n",
    "genre.append(\"Sci-Fi\")\n",
    "print(genre)"
   ]
  },
  {
   "cell_type": "markdown",
   "metadata": {
    "slideshow": {
     "slide_type": "subslide"
    }
   },
   "source": [
    "## 函式若需要多個輸出會預設以 `tuple` 回傳"
   ]
  },
  {
   "cell_type": "code",
   "execution_count": null,
   "metadata": {
    "slideshow": {
     "slide_type": "subslide"
    }
   },
   "outputs": [],
   "source": [
    "def circle_metric(r):\n",
    "    pi = 3.14159\n",
    "    area = pi*r**2\n",
    "    perimeter = 2*pi*r\n",
    "    return area, perimeter\n",
    "type(circle_metric(3))"
   ]
  },
  {
   "cell_type": "markdown",
   "metadata": {
    "slideshow": {
     "slide_type": "subslide"
    }
   },
   "source": [
    "## 函式多個輸出可以用相同數量的物件宣告"
   ]
  },
  {
   "cell_type": "code",
   "execution_count": null,
   "metadata": {},
   "outputs": [],
   "source": [
    "circle_area, circle_perimeter = circle_metric(3)"
   ]
  },
  {
   "cell_type": "markdown",
   "metadata": {
    "slideshow": {
     "slide_type": "slide"
    }
   },
   "source": [
    "## `dict`"
   ]
  },
  {
   "cell_type": "markdown",
   "metadata": {
    "slideshow": {
     "slide_type": "subslide"
    }
   },
   "source": [
    "## `dict` 是一種將資料值與標籤綁定的彈性資料結構\n",
    "\n",
    "以 `{}` 搭配 `key:value` 將資料值（value）與標籤（key）綁定起來。\n",
    "\n",
    "```python\n",
    "my_dict = {\n",
    "    \"key0\": val0,\n",
    "    \"key1\": val1,\n",
    "    \"key2\": val2,\n",
    "    ...\n",
    "}\n",
    "```"
   ]
  },
  {
   "cell_type": "code",
   "execution_count": null,
   "metadata": {
    "slideshow": {
     "slide_type": "subslide"
    }
   },
   "outputs": [],
   "source": [
    "the_avengers = {\n",
    "    \"Iron Man\": \"Tony Stark\",\n",
    "    \"Captain America\": \"Steve Rogers\",\n",
    "    \"Hulk\": \"Bruce Banner\",\n",
    "    \"Thor\": \"Thor\",\n",
    "    \"Black Widow\": \"Natasha Romanoff\",\n",
    "    \"Hawkeye\": \"Clint Barton\"\n",
    "}\n",
    "print(the_avengers)\n",
    "print(type(the_avengers))"
   ]
  },
  {
   "cell_type": "markdown",
   "metadata": {
    "slideshow": {
     "slide_type": "subslide"
    }
   },
   "source": [
    "## 以 `my_dict[\"key\"]` 作索引取值"
   ]
  },
  {
   "cell_type": "code",
   "execution_count": null,
   "metadata": {},
   "outputs": [],
   "source": [
    "print(the_avengers[\"Iron Man\"])\n",
    "print(the_avengers[\"Captain America\"])\n",
    "print(the_avengers[\"Hulk\"])\n",
    "print(the_avengers[\"Thor\"])\n",
    "print(the_avengers[\"Black Widow\"])\n",
    "print(the_avengers[\"Hawkeye\"])"
   ]
  },
  {
   "cell_type": "markdown",
   "metadata": {
    "slideshow": {
     "slide_type": "subslide"
    }
   },
   "source": [
    "## 獲取 `dict` 的標籤與資料\n",
    "\n",
    "- `.keys()`：取得標籤\n",
    "- `.values()`：取得資料\n",
    "- `.items()`：同時取得標籤和資料"
   ]
  },
  {
   "cell_type": "code",
   "execution_count": null,
   "metadata": {
    "slideshow": {
     "slide_type": "subslide"
    }
   },
   "outputs": [],
   "source": [
    "print(the_avengers.keys())"
   ]
  },
  {
   "cell_type": "code",
   "execution_count": null,
   "metadata": {
    "slideshow": {
     "slide_type": "subslide"
    }
   },
   "outputs": [],
   "source": [
    "print(the_avengers.values())"
   ]
  },
  {
   "cell_type": "code",
   "execution_count": null,
   "metadata": {
    "slideshow": {
     "slide_type": "subslide"
    }
   },
   "outputs": [],
   "source": [
    "print(the_avengers.items()) # 6 組 tuples"
   ]
  },
  {
   "cell_type": "markdown",
   "metadata": {
    "slideshow": {
     "slide_type": "slide"
    }
   },
   "source": [
    "## `set`"
   ]
  },
  {
   "cell_type": "markdown",
   "metadata": {
    "slideshow": {
     "slide_type": "subslide"
    }
   },
   "source": [
    "## `set` 是能夠進行集合運算的資料結構\n",
    "\n",
    "以 `{}` 搭配 `,` 將資料收納到 `set` 之中。\n",
    "\n",
    "```python\n",
    "my_set = {val0, val1, val2, ...}\n",
    "```"
   ]
  },
  {
   "cell_type": "code",
   "execution_count": null,
   "metadata": {},
   "outputs": [],
   "source": [
    "primes = {2, 3, 5, 7, 11, 13}\n",
    "print(primes)\n",
    "print(type(primes))"
   ]
  },
  {
   "cell_type": "markdown",
   "metadata": {
    "slideshow": {
     "slide_type": "subslide"
    }
   },
   "source": [
    "## `set` 只儲存獨一值"
   ]
  },
  {
   "cell_type": "code",
   "execution_count": null,
   "metadata": {},
   "outputs": [],
   "source": [
    "primes = {2, 3, 3, 3, 5, 5}\n",
    "print(primes)"
   ]
  },
  {
   "cell_type": "markdown",
   "metadata": {
    "slideshow": {
     "slide_type": "subslide"
    }
   },
   "source": [
    "## `set` 能支援集合運算的符號\n",
    "\n",
    "- `|` 聯集\n",
    "- `&` 交集\n",
    "- `-` 差異\n",
    "- `^` 對稱差異"
   ]
  },
  {
   "cell_type": "code",
   "execution_count": null,
   "metadata": {
    "slideshow": {
     "slide_type": "subslide"
    }
   },
   "outputs": [],
   "source": [
    "primes = {2, 3, 5, 7, 11, 13}\n",
    "odds = {1, 3, 5, 7, 9, 11, 13}"
   ]
  },
  {
   "cell_type": "code",
   "execution_count": null,
   "metadata": {
    "slideshow": {
     "slide_type": "subslide"
    }
   },
   "outputs": [],
   "source": [
    "# 聯集\n",
    "primes | odds"
   ]
  },
  {
   "cell_type": "code",
   "execution_count": null,
   "metadata": {
    "slideshow": {
     "slide_type": "subslide"
    }
   },
   "outputs": [],
   "source": [
    "# 交集\n",
    "primes & odds"
   ]
  },
  {
   "cell_type": "code",
   "execution_count": null,
   "metadata": {
    "slideshow": {
     "slide_type": "subslide"
    }
   },
   "outputs": [],
   "source": [
    "# 差異\n",
    "print(primes - odds)\n",
    "print(odds - primes)"
   ]
  },
  {
   "cell_type": "code",
   "execution_count": null,
   "metadata": {
    "slideshow": {
     "slide_type": "subslide"
    }
   },
   "outputs": [],
   "source": [
    "# 對稱差異\n",
    "primes ^ odds"
   ]
  },
  {
   "cell_type": "markdown",
   "metadata": {
    "slideshow": {
     "slide_type": "subslide"
    }
   },
   "source": [
    "## 與資料結構相同名稱的內建函式\n",
    "\n",
    "- `list()`\n",
    "- `tuple()`\n",
    "- `dict()`\n",
    "- `set()`"
   ]
  },
  {
   "cell_type": "markdown",
   "metadata": {
    "slideshow": {
     "slide_type": "subslide"
    }
   },
   "source": [
    "## 常用來創建「空的」資料結構"
   ]
  },
  {
   "cell_type": "code",
   "execution_count": null,
   "metadata": {},
   "outputs": [],
   "source": [
    "empty_list = list()\n",
    "print(empty_list)\n",
    "print(type(empty_list))\n",
    "print(len(empty_list))"
   ]
  },
  {
   "cell_type": "code",
   "execution_count": null,
   "metadata": {
    "slideshow": {
     "slide_type": "subslide"
    }
   },
   "outputs": [],
   "source": [
    "empty_dict = dict()\n",
    "print(empty_dict)\n",
    "print(type(empty_dict))\n",
    "print(len(empty_dict))"
   ]
  },
  {
   "cell_type": "markdown",
   "metadata": {
    "slideshow": {
     "slide_type": "subslide"
    }
   },
   "source": [
    "## 空的資料結構可以讓後面的程式碼加入資料值"
   ]
  },
  {
   "cell_type": "code",
   "execution_count": null,
   "metadata": {},
   "outputs": [],
   "source": [
    "empty_list.append('Robert Downey Jr.')\n",
    "empty_list"
   ]
  },
  {
   "cell_type": "code",
   "execution_count": null,
   "metadata": {
    "slideshow": {
     "slide_type": "subslide"
    }
   },
   "outputs": [],
   "source": [
    "empty_dict['Tony Stark'] = 'Robert Downey Jr.'\n",
    "empty_dict"
   ]
  },
  {
   "cell_type": "markdown",
   "metadata": {
    "slideshow": {
     "slide_type": "subslide"
    }
   },
   "source": [
    "## 其他的資料結構可以透過標準、第三方套件載入使用\n",
    "\n",
    "- `collections`\n",
    "- `ndarray`\n",
    "- `DataFrame`\n",
    "- ...etc."
   ]
  },
  {
   "cell_type": "markdown",
   "metadata": {
    "slideshow": {
     "slide_type": "slide"
    }
   },
   "source": [
    "## 隨堂練習"
   ]
  },
  {
   "cell_type": "code",
   "execution_count": null,
   "metadata": {
    "slideshow": {
     "slide_type": "subslide"
    }
   },
   "outputs": [],
   "source": [
    "cast = ['Robert Downey Jr.',\n",
    "        'Chris Hemsworth',\n",
    "        'Mark Ruffalo',\n",
    "        'Chris Evans',\n",
    "        'Scarlett Johansson',\n",
    "        'Don Cheadle',\n",
    "        'Benedict Cumberbatch',\n",
    "        'Tom Holland',\n",
    "        'Chadwick Boseman',\n",
    "        'Zoe Saldana',\n",
    "        'Karen Gillan',\n",
    "        'Tom Hiddleston',\n",
    "        'Paul Bettany',\n",
    "        'Elizabeth Olsen',\n",
    "        'Anthony Mackie']"
   ]
  },
  {
   "cell_type": "code",
   "execution_count": null,
   "metadata": {
    "slideshow": {
     "slide_type": "subslide"
    }
   },
   "outputs": [],
   "source": [
    "the_avengers = {\n",
    "    \"release_dates\": [\n",
    "        {'USA': '11 April 2012'},\n",
    "        {'Taiwan': '25 April 2012'}\n",
    "    ],\n",
    "    \"genre\": [\"Action\", \"Adventure\", \"Sci-Fi\"],\n",
    "    \"avengers\": [\n",
    "        {\"Iron Man\": \"Tony Stark\"},\n",
    "        {\"Captain America\": \"Steve Rogers\"},\n",
    "        {\"Hulk\": \"Bruce Banner\"},\n",
    "        {\"Thor\": \"Thor\"},\n",
    "        {\"Black Widow\": \"Natasha Romanoff\"},\n",
    "        {\"Hawkeye\": \"Clint Barton\"}\n",
    "    ]\n",
    "}"
   ]
  },
  {
   "cell_type": "markdown",
   "metadata": {
    "slideshow": {
     "slide_type": "subslide"
    }
   },
   "source": [
    "## 隨堂練習：定義一個函式 `select_sw()` 將 `cast` 中飾演緋紅女巫（Scarlet Witch）的 Elizabeth Olsen 選出來\n",
    "\n",
    "- 預期輸入：一個 list `cast`\n",
    "- 預期輸出：一個文字"
   ]
  },
  {
   "cell_type": "code",
   "execution_count": null,
   "metadata": {
    "slideshow": {
     "slide_type": "subslide"
    }
   },
   "outputs": [],
   "source": [
    "def select_sw(cast):\n",
    "    \"\"\"\n",
    "    >>> select_sw(cast)\n",
    "    'Elizabeth Olsen'\n",
    "    \"\"\""
   ]
  },
  {
   "cell_type": "markdown",
   "metadata": {
    "slideshow": {
     "slide_type": "subslide"
    }
   },
   "source": [
    "## 隨堂練習：定義一個函式 `first_five()` 將 `cast` 中前五個演員選出來\n",
    "\n",
    "- 預期輸入：一個 list `cast`\n",
    "- 預期輸出：一個長度為 5 的 list"
   ]
  },
  {
   "cell_type": "code",
   "execution_count": null,
   "metadata": {
    "slideshow": {
     "slide_type": "subslide"
    }
   },
   "outputs": [],
   "source": [
    "def first_five(cast):\n",
    "    \"\"\"\n",
    "    >>> first_five(cast)\n",
    "    ['Robert Downey Jr.', 'Chris Hemsworth', 'Mark Ruffalo', 'Chris Evans', 'Scarlett Johansson']\n",
    "    \"\"\""
   ]
  },
  {
   "cell_type": "markdown",
   "metadata": {
    "slideshow": {
     "slide_type": "subslide"
    }
   },
   "source": [
    "## 隨堂練習：定義一個函式 `select_sh()` 將 `cast` 中曾演過 Sherlock Holmes 的 Robert Downey Jr.（電影）與 Benedict Cumberbatch（電視劇）選出來\n",
    "\n",
    "- 預期輸入：一個 list `cast`\n",
    "- 預期輸出：一個長度為 2 的 tuple"
   ]
  },
  {
   "cell_type": "code",
   "execution_count": null,
   "metadata": {
    "slideshow": {
     "slide_type": "subslide"
    }
   },
   "outputs": [],
   "source": [
    "def select_sh(cast):\n",
    "    \"\"\"\n",
    "    >>> select_sh(cast)\n",
    "    ('Robert Downey Jr.', 'Benedict Cumberbatch')\n",
    "    \"\"\""
   ]
  },
  {
   "cell_type": "markdown",
   "metadata": {
    "slideshow": {
     "slide_type": "subslide"
    }
   },
   "source": [
    "## 隨堂練習：定義一個函式 `get_release_dates()` 將 `the_avengers` 中美國與台灣的上映日期以一個 `tuple` 回傳\n",
    "\n",
    "- 預期輸入：一個 dict `the_avengers`\n",
    "- 預期輸出：一個長度為 2 的 tuple"
   ]
  },
  {
   "cell_type": "code",
   "execution_count": null,
   "metadata": {
    "slideshow": {
     "slide_type": "subslide"
    }
   },
   "outputs": [],
   "source": [
    "def get_release_dates(the_avengers):\n",
    "    \"\"\"\n",
    "    >>> get_release_dates(the_avengers)\n",
    "    ('11 April 2012', '25 April 2012')\n",
    "    \"\"\""
   ]
  },
  {
   "cell_type": "markdown",
   "metadata": {
    "slideshow": {
     "slide_type": "subslide"
    }
   },
   "source": [
    "## 隨堂練習：定義一個函式 `select_bw_hawkeye()` 將 `the_avengers` 中黑寡婦（Black Widow）與鷹眼（Hawkeye）的角色名 Natasha Romanoff 與 Clint Barton 回傳\n",
    "\n",
    "- 預期輸入：一個 dict `the_avengers`\n",
    "- 預期輸出：一個長度為 2 的 tuple"
   ]
  },
  {
   "cell_type": "code",
   "execution_count": null,
   "metadata": {
    "slideshow": {
     "slide_type": "subslide"
    }
   },
   "outputs": [],
   "source": [
    "def select_bw_hawkeye(the_avengers):\n",
    "    \"\"\"\n",
    "    >>> select_bw_hawkeye(the_avengers)\n",
    "    ('Natasha Romanoff', 'Clint Barton')\n",
    "    \"\"\""
   ]
  },
  {
   "cell_type": "markdown",
   "metadata": {
    "slideshow": {
     "slide_type": "subslide"
    }
   },
   "source": [
    "## 隨堂練習：定義一個函式 `tpe_zip_code(town)` 能讓使用者輸入台北市行政區名稱，並以文字的格式將 3 碼郵遞區號回傳\n",
    "\n",
    "[臺灣地區郵遞區號一覽表#臺北市](https://zh.wikipedia.org/wiki/%E8%87%BA%E7%81%A3%E5%9C%B0%E5%8D%80%E9%83%B5%E9%81%9E%E5%8D%80%E8%99%9F%E4%B8%80%E8%A6%BD%E8%A1%A8#%E8%87%BA%E5%8C%97%E5%B8%82100%E2%94%80116)\n",
    "\n",
    "- 預期輸入：一個文字 `town`\n",
    "- 預期輸出：一個文字"
   ]
  },
  {
   "cell_type": "code",
   "execution_count": null,
   "metadata": {
    "slideshow": {
     "slide_type": "subslide"
    }
   },
   "outputs": [],
   "source": [
    "def tpe_zip_code(town):\n",
    "    \"\"\"\n",
    "    >>> tpe_zip_code('松山區')\n",
    "    '105'\n",
    "    >>> tpe_zip_code('信義區')\n",
    "    '110'\n",
    "    >>> tpe_zip_code('中山區')\n",
    "    '104'\n",
    "    \"\"\""
   ]
  },
  {
   "cell_type": "code",
   "execution_count": null,
   "metadata": {
    "slideshow": {
     "slide_type": "subslide"
    }
   },
   "outputs": [],
   "source": [
    "%load ../test_cases/test_cases_05.py"
   ]
  }
 ],
 "metadata": {
  "celltoolbar": "Slideshow",
  "kernelspec": {
   "display_name": "Python Web Scraping",
   "language": "python",
   "name": "pywebscraping"
  },
  "language_info": {
   "codemirror_mode": {
    "name": "ipython",
    "version": 3
   },
   "file_extension": ".py",
   "mimetype": "text/x-python",
   "name": "python",
   "nbconvert_exporter": "python",
   "pygments_lexer": "ipython3",
   "version": "3.7.7"
  }
 },
 "nbformat": 4,
 "nbformat_minor": 1
}
