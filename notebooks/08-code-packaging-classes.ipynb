{
 "cells": [
  {
   "cell_type": "markdown",
   "metadata": {
    "slideshow": {
     "slide_type": "slide"
    }
   },
   "source": [
    "# 成為初級資料分析師 | Python 程式設計\n",
    "\n",
    "> 程式封裝：自訂類別\n",
    "\n",
    "## 郭耀仁"
   ]
  },
  {
   "cell_type": "markdown",
   "metadata": {
    "slideshow": {
     "slide_type": "subslide"
    }
   },
   "source": [
    "> The main \"actors\" in the object-oriented paradigm are called objects."
   ]
  },
  {
   "cell_type": "markdown",
   "metadata": {
    "slideshow": {
     "slide_type": "subslide"
    }
   },
   "source": [
    "## 程式封裝的三個層級\n",
    "\n",
    "- 模組與套件（Modules and classes）\n",
    "    - **類別（Classes）**\n",
    "        - 函數（Functions）"
   ]
  },
  {
   "cell_type": "markdown",
   "metadata": {
    "slideshow": {
     "slide_type": "subslide"
    }
   },
   "source": [
    "## 大綱\n",
    "\n",
    "- 目標與準則\n",
    "- 定義類別\n",
    "- 繼承"
   ]
  },
  {
   "cell_type": "markdown",
   "metadata": {
    "slideshow": {
     "slide_type": "slide"
    }
   },
   "source": [
    "## 目標與準則"
   ]
  },
  {
   "cell_type": "markdown",
   "metadata": {
    "slideshow": {
     "slide_type": "subslide"
    }
   },
   "source": [
    "## 目標：從程式設計到軟體開發\n",
    "\n",
    "- 強韌 Robustness: 軟體考慮到所有可能的輸入情況，並對應到正確的輸出情況\n",
    "- 調適 Adaptability: 軟體可以與時俱進\n",
    "- 重複使用 Reusability: 功能模組化，可以在未來的開發直接使用"
   ]
  },
  {
   "cell_type": "markdown",
   "metadata": {
    "slideshow": {
     "slide_type": "subslide"
    }
   },
   "source": [
    "## 物件導向（Object-oriented programming）是讓程式碼達成這三個目標的途徑"
   ]
  },
  {
   "cell_type": "markdown",
   "metadata": {
    "slideshow": {
     "slide_type": "subslide"
    }
   },
   "source": [
    "## 物件導向的四大支柱\n",
    "\n",
    "- 封裝 Encapsulation: 將變數與函數放在一個物件中\n",
    "- 摘要 Abstraction: 描述出物件重要的資訊與行為\n",
    "- 模組化 Modularity: 拆解物件為不同作用的小單位\n",
    "- 多型 Polymorphism"
   ]
  },
  {
   "cell_type": "markdown",
   "metadata": {
    "slideshow": {
     "slide_type": "slide"
    }
   },
   "source": [
    "## 定義類別"
   ]
  },
  {
   "cell_type": "markdown",
   "metadata": {
    "slideshow": {
     "slide_type": "subslide"
    }
   },
   "source": [
    "## 類別是實踐物件導向的第一個主題\n",
    "\n",
    "- 自訂類別（Class）模擬真實世界的情況\n",
    "- 每個物件都是一個特定類別\n",
    "- 類別提供成員屬性（member attributes）提供靜態資訊、提供成員函數（member functions）提供動態行為"
   ]
  },
  {
   "cell_type": "markdown",
   "metadata": {
    "slideshow": {
     "slide_type": "subslide"
    }
   },
   "source": [
    "## 自訂類別中的元件別稱\n",
    "\n",
    "- 成員屬性（member attributes）：有時也稱呼為欄位（fields）、物件變數（instance variables）或資料（data members）\n",
    "- 成員函數：有時也稱呼為方法（methods）"
   ]
  },
  {
   "cell_type": "markdown",
   "metadata": {
    "slideshow": {
     "slide_type": "subslide"
    }
   },
   "source": [
    "## 自訂類別 Code Block 結構\n",
    "\n",
    "- 使用 `class` 保留字\n",
    "- 類別名稱為**單數**名詞、首字大寫\n",
    "- 以長字串 \"\"\"Docstrings\"\"\" 撰寫類別說明\n",
    "- `__init__(self)` 初始化方法加上 `self` identifier\n",
    "\n",
    "```python\n",
    "class Class_name:\n",
    "    \"\"\"\n",
    "    Docstrings\n",
    "    \"\"\"\n",
    "    def __init__(self, attr):\n",
    "        self._attr = attr\n",
    "```"
   ]
  },
  {
   "cell_type": "markdown",
   "metadata": {
    "slideshow": {
     "slide_type": "subslide"
    }
   },
   "source": [
    "## 初始化方法與 `self` identifier\n",
    "\n",
    "- 初始化方法 `__init__(self)` 在宣告以自訂類別創建物件的當下被觸發\n",
    "- `self` identifier 形同未來將被創建出來的物件"
   ]
  },
  {
   "cell_type": "code",
   "execution_count": 1,
   "metadata": {
    "slideshow": {
     "slide_type": "subslide"
    }
   },
   "outputs": [],
   "source": [
    "class City:\n",
    "    \"\"\"\n",
    "    Information about a certain city.\n",
    "    \"\"\"\n",
    "    def __init__(self, name, country, location, current_weather):\n",
    "        self._name = name\n",
    "        self._country = country\n",
    "        self._location = location\n",
    "        self._current_weather = current_weather\n",
    "        self._scenic_spots = []\n",
    "    \n",
    "    def get_name(self):\n",
    "        return self._name\n",
    "    \n",
    "    def get_country(self):\n",
    "        return self._country\n",
    "    \n",
    "    def get_location(self):\n",
    "        return self._location\n",
    "    \n",
    "    def get_current_weather(self):\n",
    "        return \"我在 {} 天氣 {}\".format(self._name, self._current_weather)\n",
    "    \n",
    "    def get_scenic_spots(self):\n",
    "        return self._scenic_spots\n",
    "    \n",
    "    def add_scenic_spot(self, scenic_spot):\n",
    "        self._scenic_spots.append(scenic_spot)\n",
    "        return True"
   ]
  },
  {
   "cell_type": "markdown",
   "metadata": {
    "slideshow": {
     "slide_type": "subslide"
    }
   },
   "source": [
    "## 以自訂的 `City` 類別創建物件 `tpe`\n",
    "\n",
    "- 建構子，the Constructor\n",
    "- `tpe` 就扮演著我們自訂的 `self` identifier"
   ]
  },
  {
   "cell_type": "code",
   "execution_count": 2,
   "metadata": {
    "slideshow": {
     "slide_type": "-"
    }
   },
   "outputs": [],
   "source": [
    "# constructor\n",
    "tpe = City(\"Taipei\", \"Taiwan\", {\"lat\": 25.035077, \"lon\": 121.563412}, \"小毛毛雨\")"
   ]
  },
  {
   "cell_type": "markdown",
   "metadata": {
    "slideshow": {
     "slide_type": "subslide"
    }
   },
   "source": [
    "## 具有屬性\n",
    "\n",
    "- 具有 `._name` 屬性為 \"Taipei\"\n",
    "- 具有 `._country` 屬性為 \"Taiwan\"\n",
    "- 具有 `._location` 屬性為 \"{\"lat\": 25.035077, \"lon\": 121.563412}\"\n",
    "- 具有 `._current_weather` 屬性為 \"小毛毛雨\""
   ]
  },
  {
   "cell_type": "markdown",
   "metadata": {
    "slideshow": {
     "slide_type": "subslide"
    }
   },
   "source": [
    "## 具有方法\n",
    "\n",
    "- 具有 `.get_name()` 方法\n",
    "- 具有 `.get_country()` 方法\n",
    "- 具有 `.get_location()` 方法\n",
    "- 具有 `.get_current_weather()` 方法\n",
    "- 具有 `.get_scenic_spots()` 方法\n",
    "- 具有 `.add_scenic_spot()` 方法"
   ]
  },
  {
   "cell_type": "code",
   "execution_count": 3,
   "metadata": {
    "slideshow": {
     "slide_type": "subslide"
    }
   },
   "outputs": [
    {
     "name": "stdout",
     "output_type": "stream",
     "text": [
      "\n",
      "    Information about a certain city.\n",
      "    \n",
      "我在 Taipei 天氣 小毛毛雨\n",
      "[]\n",
      "['台北 101']\n",
      "['台北 101', '國立故宮博物院']\n"
     ]
    }
   ],
   "source": [
    "print(tpe.__doc__)\n",
    "print(tpe.get_current_weather())\n",
    "print(tpe.get_scenic_spots())\n",
    "tpe.add_scenic_spot(\"台北 101\")\n",
    "print(tpe.get_scenic_spots())\n",
    "tpe.add_scenic_spot(\"國立故宮博物院\")\n",
    "print(tpe.get_scenic_spots())"
   ]
  },
  {
   "cell_type": "markdown",
   "metadata": {
    "slideshow": {
     "slide_type": "subslide"
    }
   },
   "source": [
    "## 類別、物件、屬性與方法的階層關係\n",
    "\n",
    "- 類別（Class）\n",
    "    - 物件（Object）\n",
    "        - 屬性（Attribute）\n",
    "        - 方法（Method）"
   ]
  },
  {
   "cell_type": "markdown",
   "metadata": {
    "slideshow": {
     "slide_type": "subslide"
    }
   },
   "source": [
    "## 隨堂練習"
   ]
  },
  {
   "cell_type": "markdown",
   "metadata": {
    "slideshow": {
     "slide_type": "subslide"
    }
   },
   "source": [
    "## 利用 `City` 類別創建一到兩個想去的城市"
   ]
  },
  {
   "cell_type": "code",
   "execution_count": 4,
   "metadata": {},
   "outputs": [],
   "source": [
    "nyc = City(\"New York\", \"United States\", {\"lat\": 40.714679, \"lon\": -74.005360}, \"Mostly Cloudy\")\n",
    "ldn = City(\"London\", \"United Kingdom\", {\"lat\": 51.508658, \"lon\": -0.127714}, \"Mostly Cloudy\")"
   ]
  },
  {
   "cell_type": "markdown",
   "metadata": {
    "slideshow": {
     "slide_type": "subslide"
    }
   },
   "source": [
    "## 定義一個類別 Movie\n",
    "\n",
    "- 三個屬性：電影名稱、IMDB 評等、上映日期\n",
    "- 四個方法：回傳電影名稱、回傳評等、回傳上映日期、判斷是否值得去電影院觀賞（IMDB 評等大於 8）"
   ]
  },
  {
   "cell_type": "code",
   "execution_count": 5,
   "metadata": {
    "slideshow": {
     "slide_type": "subslide"
    }
   },
   "outputs": [],
   "source": [
    "class Movie:\n",
    "    \"\"\"\n",
    "    Information about a certain movie.\n",
    "    \"\"\"\n",
    "    def __init__(self, title, imdb_rating, release_date):\n",
    "        self._title = title\n",
    "        self._imdb_rating = imdb_rating\n",
    "        self._release_date = release_date\n",
    "    def get_title(self):\n",
    "        return self._title\n",
    "    def get_imdb_rating(self):\n",
    "        return self._imdb_rating\n",
    "    def get_release_date(self):\n",
    "        return self._release_date\n",
    "    def going_to_movie_theater(self):\n",
    "        if self._imdb_rating >= 8:\n",
    "            return \"{} 的評等為 {}，值得去電影院看！\".format(self._title, self._imdb_rating)\n",
    "        else:\n",
    "            return \"{} 的評等為 {}，應該不用去電影院看...\".format(self._title, self._imdb_rating)"
   ]
  },
  {
   "cell_type": "code",
   "execution_count": 6,
   "metadata": {
    "slideshow": {
     "slide_type": "subslide"
    }
   },
   "outputs": [
    {
     "name": "stdout",
     "output_type": "stream",
     "text": [
      "Avengers: Endgame\n",
      "8.8\n",
      "2019-04-24\n",
      "Avengers: Endgame 的評等為 8.8，值得去電影院看！\n"
     ]
    }
   ],
   "source": [
    "avengers_endgame = Movie(\"Avengers: Endgame\", 8.8, \"2019-04-24\")\n",
    "print(avengers_endgame.get_title())\n",
    "print(avengers_endgame.get_imdb_rating())\n",
    "print(avengers_endgame.get_release_date())\n",
    "print(avengers_endgame.going_to_movie_theater())"
   ]
  },
  {
   "cell_type": "markdown",
   "metadata": {
    "slideshow": {
     "slide_type": "subslide"
    }
   },
   "source": [
    "## 定義一個類別 `ImdbMovieParent` 前往 [IMDb](https://www.imdb.com/) 擷取資訊"
   ]
  },
  {
   "cell_type": "code",
   "execution_count": 7,
   "metadata": {},
   "outputs": [],
   "source": [
    "class ImdbMovieParent:\n",
    "    \"\"\"\n",
    "    Information about a certain movie on IMDB.com\n",
    "    \"\"\"\n",
    "    def __init__(self, movie_title):\n",
    "        self._movie_title = movie_title"
   ]
  },
  {
   "cell_type": "code",
   "execution_count": 8,
   "metadata": {
    "slideshow": {
     "slide_type": "subslide"
    }
   },
   "outputs": [
    {
     "name": "stdout",
     "output_type": "stream",
     "text": [
      "\n",
      "    Information about a certain movie on IMDB.com\n",
      "    \n",
      "Avengers\n"
     ]
    }
   ],
   "source": [
    "imdb_movie = ImdbMovieParent('Avengers')\n",
    "print(imdb_movie.__doc__)\n",
    "print(imdb_movie._movie_title)"
   ]
  },
  {
   "cell_type": "markdown",
   "metadata": {
    "slideshow": {
     "slide_type": "subslide"
    }
   },
   "source": [
    "## 加入回傳電影標題搜尋結果的方法"
   ]
  },
  {
   "cell_type": "code",
   "execution_count": 9,
   "metadata": {},
   "outputs": [],
   "source": [
    "import requests\n",
    "from bs4 import BeautifulSoup\n",
    "\n",
    "class ImdbMovieParent:\n",
    "    \"\"\"\n",
    "    Information about a certain movie on IMDB.com\n",
    "    \"\"\"\n",
    "    def __init__(self, movie_title):\n",
    "        self._movie_title = movie_title\n",
    "        \n",
    "    def get_similar_titles(self):\n",
    "        request_headers = {\n",
    "            'accept-language': 'en,en-US'\n",
    "        }\n",
    "        query_string_parameters = {\n",
    "            'q': self._movie_title,\n",
    "            's': 'tt',\n",
    "            'ttype': 'ft',\n",
    "            'ref_': 'fn_ft',\n",
    "        }\n",
    "        request_url = \"https://www.imdb.com/find\"\n",
    "        response = requests.get(request_url, params=query_string_parameters, headers=request_headers)\n",
    "        soup = BeautifulSoup(response.text)\n",
    "        similar_titles = [i.text for i in soup.select(\".result_text a\")]\n",
    "        similar_links = [\"https://www.imbd.com\" + i.get('href') for i in soup.select(\".result_text a\")]\n",
    "        return similar_titles, similar_links"
   ]
  },
  {
   "cell_type": "code",
   "execution_count": 10,
   "metadata": {
    "slideshow": {
     "slide_type": "subslide"
    }
   },
   "outputs": [
    {
     "data": {
      "text/plain": [
       "(['The Avengers',\n",
       "  'Novgorodtsy',\n",
       "  'Fu chou zhe',\n",
       "  'Avengers: Endgame',\n",
       "  'Avengers: Infinity War',\n",
       "  'Avengers: Age of Ultron',\n",
       "  'Avengers of Justice: Farce Wars',\n",
       "  'Crippled Avengers',\n",
       "  'Captain America: The First Avenger',\n",
       "  'Avengement',\n",
       "  'The Avengers',\n",
       "  'Passengers',\n",
       "  'The Toxic Avenger',\n",
       "  'Avenged',\n",
       "  'Revenger',\n",
       "  'The Avengers',\n",
       "  'The Scavengers',\n",
       "  'Scavengers',\n",
       "  'The Avenger',\n",
       "  'Die Hard with a Vengeance',\n",
       "  'Passengers',\n",
       "  'Jaws: The Revenge',\n",
       "  'The Revengers',\n",
       "  'Scavenger Hunt',\n",
       "  'Transformers: Revenge of the Fallen',\n",
       "  'The Messengers',\n",
       "  'Mister X',\n",
       "  'The Revenger',\n",
       "  'Avenging Angelo',\n",
       "  \"A Soldier's Revenge\",\n",
       "  'The Avenger',\n",
       "  'Avenging Angel',\n",
       "  'The Avenging Rider',\n",
       "  'Avenger Dogs',\n",
       "  'Lady Avenger',\n",
       "  'Skavengers',\n",
       "  'The Avengers',\n",
       "  'The Toxic Avenger Part II',\n",
       "  'Scavengers',\n",
       "  'The Scavengers',\n",
       "  'Avenged',\n",
       "  'To Avenge',\n",
       "  'The Revenger',\n",
       "  'Avenging Force',\n",
       "  'The Masked Avengers',\n",
       "  'Revenge Ride',\n",
       "  'The Revenge',\n",
       "  'The Avenger',\n",
       "  'Woman Avenger',\n",
       "  'Ghost Rider: Spirit of Vengeance',\n",
       "  'Citizen Toxie: The Toxic Avenger IV',\n",
       "  'The Avenger',\n",
       "  'Knives of the Avenger',\n",
       "  'Avenge the Crows',\n",
       "  'Scavenger Killers',\n",
       "  'Scavenger',\n",
       "  'The Avenging',\n",
       "  'The Avenging Silence',\n",
       "  'Avenged',\n",
       "  'I Spit on Your Grave: Vengeance is Mine',\n",
       "  'Three Avengers',\n",
       "  'Avenged',\n",
       "  'The Street Avenger',\n",
       "  'Revengers Tragedy',\n",
       "  'Avenge',\n",
       "  'Captain America: Civil War',\n",
       "  'Avengers: Legacy',\n",
       "  'The Toxic Avenger',\n",
       "  \"Heaven's Messenger\",\n",
       "  'Avengers: Reassembled',\n",
       "  'The Avenging Fist',\n",
       "  'Scavengers',\n",
       "  'Alien Space Avenger',\n",
       "  'The Three Avengers',\n",
       "  'I Am Vengeance: Retaliation',\n",
       "  'Ninja Operation 6: Champion on Fire',\n",
       "  'Cats & Dogs: The Revenge of Kitty Galore',\n",
       "  'Avengeance',\n",
       "  'Captain America: The Winter Soldier',\n",
       "  'The Avenger',\n",
       "  'Scavengers',\n",
       "  'Revenge of the Cheerleaders',\n",
       "  \"The Revengers' Comedies\",\n",
       "  'The Invisible Avenger',\n",
       "  'The Dark Avengers',\n",
       "  'The Scavengers',\n",
       "  'The Avenger',\n",
       "  'Halloween 5: The Revenge of Michael Myers',\n",
       "  'The Avenger',\n",
       "  'Avengelyne',\n",
       "  'The Avenging Eagle',\n",
       "  'Mask of the Avenger',\n",
       "  'The scavengers',\n",
       "  'Hercules the Avenger',\n",
       "  'The Avenger of Venice',\n",
       "  'Scavenger',\n",
       "  'Scavenger',\n",
       "  'The Avenger',\n",
       "  'Scavenger',\n",
       "  'Avenger of the Seven Seas',\n",
       "  'Zorro, the Avenger',\n",
       "  'The Toxic Avenger: The Musical',\n",
       "  'Arthur et la vengeance de Maltazard',\n",
       "  \"Scavenger's Daughter\",\n",
       "  'Tengers',\n",
       "  'Spanish Avengers',\n",
       "  \"The Four Musketeers: Milady's Revenge\",\n",
       "  'The Passengers',\n",
       "  'Invisible Avenger',\n",
       "  'Tokyo Revengers',\n",
       "  'The Toxic Avenger Part III: The Last Temptation of Toxie',\n",
       "  'Revenge of the Musketeers',\n",
       "  'Avengers of the Reef',\n",
       "  'Gandarrapiddo: The Revenger Squad',\n",
       "  'Zorro the Avenger',\n",
       "  'The Avenger, Zorro',\n",
       "  'The Courageous Avenger',\n",
       "  'The Passengers',\n",
       "  'Manchurian Avenger',\n",
       "  'Sword of the Avenger',\n",
       "  'Revengers Inc.',\n",
       "  'The Levenger Tapes',\n",
       "  'Passenger Side',\n",
       "  'The Lone Avenger',\n",
       "  \"Zorrita: Passion's Avenger\",\n",
       "  'Drakut the Avenger',\n",
       "  'Avenging Force: The Scarab',\n",
       "  'Avenge Me',\n",
       "  'Passengers',\n",
       "  'Amorosa: The Revenge',\n",
       "  'Messengers',\n",
       "  'Vegas Avengers',\n",
       "  'The Revenge of Frankenstein',\n",
       "  'Arms of the Avenger',\n",
       "  'Blackbelt Avengers',\n",
       "  'The Revenge',\n",
       "  \"Brother's Revenge\",\n",
       "  'Avenger Girls',\n",
       "  'Ninja Vengeance',\n",
       "  'Scavenger Hunt',\n",
       "  \"Soldier's Revenge\",\n",
       "  'The Avengers Assemble Premiere',\n",
       "  'Samurai Avenger: The Blind Wolf',\n",
       "  'The Revengers',\n",
       "  'Avenging Warriors of Shaolin',\n",
       "  'The Revenge of Roger',\n",
       "  'Lumpia: With a Vengeance',\n",
       "  \"Twister's Revenge!\",\n",
       "  'The Avenging Trail',\n",
       "  'Organic Man: Returns with Avengeance',\n",
       "  'The Revenger',\n",
       "  'Safaibaaz - The Scavenger',\n",
       "  'The Revenge 2',\n",
       "  'Avenging Evil',\n",
       "  'RiffTrax: Captain America: The First Avenger',\n",
       "  'The Avenging Rider',\n",
       "  \"La vengeance d'une femme\",\n",
       "  'Avenger Dogs 2: Wonder Dogs',\n",
       "  'The Mysterious Avenger',\n",
       "  \"The People's Avengers\",\n",
       "  'Messengers',\n",
       "  'The Avenging Arrow',\n",
       "  'Bittersweet Revenge',\n",
       "  \"Scavengers' Union\",\n",
       "  'Son of Geronimo: Apache Avenger',\n",
       "  \"The Messenger's Box\",\n",
       "  'Tomie: Revenge',\n",
       "  'The Revenge of Tarzan',\n",
       "  'La vengeance du serpent à plumes',\n",
       "  'The Revenge of Robert the Doll',\n",
       "  'The Revenge of the Living Dead Girls',\n",
       "  'The Revenge',\n",
       "  'Holocaust 2: The Revenge',\n",
       "  'Double Revenge',\n",
       "  'Rahtree Revenge',\n",
       "  'Scavenger Hunt',\n",
       "  'Vengerkák',\n",
       "  \"Heaven's Messenger\",\n",
       "  \"La vengeance d'une blonde\",\n",
       "  \"The Avenging Conscience: or 'Thou Shalt Not Kill'\",\n",
       "  'Grave Vengeance',\n",
       "  'Avenging Dragon',\n",
       "  'Andrea: The Revenge of the Spirit',\n",
       "  'The Silent Avenger',\n",
       "  'Revenge of the Red Baron',\n",
       "  \"Tiger's Revenge\",\n",
       "  'The Bus Passengers',\n",
       "  \"Dragon Ball Z: Cooler's Revenge\",\n",
       "  \"The Streetfighter's Last Revenge\",\n",
       "  'The Passengers',\n",
       "  'The Revenge of Ivanhoe',\n",
       "  'Antboy: Revenge of the Red Fury',\n",
       "  'The Avenging Hand',\n",
       "  'The Masked Avenger',\n",
       "  'The Revenge Rider',\n",
       "  'The Avenging Eagle',\n",
       "  'Rocky: The Revenge',\n",
       "  'Lei ting xing dong',\n",
       "  'The Lesbian Avengers Eat Fire, Too',\n",
       "  'Scavenger Hunt'],\n",
       " ['https://www.imbd.com/title/tt0848228/',\n",
       "  'https://www.imbd.com/title/tt0036220/',\n",
       "  'https://www.imbd.com/title/tt0164450/',\n",
       "  'https://www.imbd.com/title/tt4154796/',\n",
       "  'https://www.imbd.com/title/tt4154756/',\n",
       "  'https://www.imbd.com/title/tt2395427/',\n",
       "  'https://www.imbd.com/title/tt6172666/',\n",
       "  'https://www.imbd.com/title/tt0077292/',\n",
       "  'https://www.imbd.com/title/tt0458339/',\n",
       "  'https://www.imbd.com/title/tt8836988/',\n",
       "  'https://www.imbd.com/title/tt0118661/',\n",
       "  'https://www.imbd.com/title/tt1355644/',\n",
       "  'https://www.imbd.com/title/tt0090190/',\n",
       "  'https://www.imbd.com/title/tt2378453/',\n",
       "  'https://www.imbd.com/title/tt9426186/',\n",
       "  'https://www.imbd.com/title/tt0034639/',\n",
       "  'https://www.imbd.com/title/tt0067714/',\n",
       "  'https://www.imbd.com/title/tt1564369/',\n",
       "  'https://www.imbd.com/title/tt0056174/',\n",
       "  'https://www.imbd.com/title/tt0112864/',\n",
       "  'https://www.imbd.com/title/tt0449487/',\n",
       "  'https://www.imbd.com/title/tt0093300/',\n",
       "  'https://www.imbd.com/title/tt0069179/',\n",
       "  'https://www.imbd.com/title/tt0079858/',\n",
       "  'https://www.imbd.com/title/tt1055369/',\n",
       "  'https://www.imbd.com/title/tt0425430/',\n",
       "  'https://www.imbd.com/title/tt0060706/',\n",
       "  'https://www.imbd.com/title/tt5037780/',\n",
       "  'https://www.imbd.com/title/tt0275947/',\n",
       "  'https://www.imbd.com/title/tt9302994/',\n",
       "  'https://www.imbd.com/title/tt0054257/',\n",
       "  'https://www.imbd.com/title/tt0088757/',\n",
       "  'https://www.imbd.com/title/tt0035655/',\n",
       "  'https://www.imbd.com/title/tt9724068/',\n",
       "  'https://www.imbd.com/title/tt0097703/',\n",
       "  'https://www.imbd.com/title/tt1986948/',\n",
       "  'https://www.imbd.com/title/tt0167779/',\n",
       "  'https://www.imbd.com/title/tt0098503/',\n",
       "  'https://www.imbd.com/title/tt0096049/',\n",
       "  'https://www.imbd.com/title/tt0057474/',\n",
       "  'https://www.imbd.com/title/tt2585072/',\n",
       "  'https://www.imbd.com/title/tt8277574/',\n",
       "  'https://www.imbd.com/title/tt0098199/',\n",
       "  'https://www.imbd.com/title/tt0090678/',\n",
       "  'https://www.imbd.com/title/tt0082153/',\n",
       "  'https://www.imbd.com/title/tt10510416/',\n",
       "  'https://www.imbd.com/title/tt0314942/',\n",
       "  'https://www.imbd.com/title/tt0021630/',\n",
       "  'https://www.imbd.com/title/tt0080144/',\n",
       "  'https://www.imbd.com/title/tt1071875/',\n",
       "  'https://www.imbd.com/title/tt0212879/',\n",
       "  'https://www.imbd.com/title/tt0023773/',\n",
       "  'https://www.imbd.com/title/tt0059045/',\n",
       "  'https://www.imbd.com/title/tt5898630/',\n",
       "  'https://www.imbd.com/title/tt2375906/',\n",
       "  'https://www.imbd.com/title/tt8947114/',\n",
       "  'https://www.imbd.com/title/tt0083602/',\n",
       "  'https://www.imbd.com/title/tt5437956/',\n",
       "  'https://www.imbd.com/title/tt0192991/',\n",
       "  'https://www.imbd.com/title/tt4530884/',\n",
       "  'https://www.imbd.com/title/tt0079110/',\n",
       "  'https://www.imbd.com/title/tt3382178/',\n",
       "  'https://www.imbd.com/title/tt10921118/',\n",
       "  'https://www.imbd.com/title/tt0286921/',\n",
       "  'https://www.imbd.com/title/tt0961036/',\n",
       "  'https://www.imbd.com/title/tt3498820/',\n",
       "  'https://www.imbd.com/title/tt9303032/',\n",
       "  'https://www.imbd.com/title/tt1633359/',\n",
       "  'https://www.imbd.com/title/tt0914380/',\n",
       "  'https://www.imbd.com/title/tt8875872/',\n",
       "  'https://www.imbd.com/title/tt0260136/',\n",
       "  'https://www.imbd.com/title/tt1861413/',\n",
       "  'https://www.imbd.com/title/tt0101296/',\n",
       "  'https://www.imbd.com/title/tt0058651/',\n",
       "  'https://www.imbd.com/title/tt8972556/',\n",
       "  'https://www.imbd.com/title/tt0199812/',\n",
       "  'https://www.imbd.com/title/tt1287468/',\n",
       "  'https://www.imbd.com/title/tt1980917/',\n",
       "  'https://www.imbd.com/title/tt1843866/',\n",
       "  'https://www.imbd.com/title/tt0014688/',\n",
       "  'https://www.imbd.com/title/tt2137256/',\n",
       "  'https://www.imbd.com/title/tt0075137/',\n",
       "  'https://www.imbd.com/title/tt0120013/',\n",
       "  'https://www.imbd.com/title/tt0047594/',\n",
       "  'https://www.imbd.com/title/tt0492596/',\n",
       "  'https://www.imbd.com/title/tt4440062/',\n",
       "  'https://www.imbd.com/title/tt0006386/',\n",
       "  'https://www.imbd.com/title/tt0097474/',\n",
       "  'https://www.imbd.com/title/tt3695294/',\n",
       "  'https://www.imbd.com/title/tt3116022/',\n",
       "  'https://www.imbd.com/title/tt0077868/',\n",
       "  'https://www.imbd.com/title/tt0043790/',\n",
       "  'https://www.imbd.com/title/tt10574452/',\n",
       "  'https://www.imbd.com/title/tt0275668/',\n",
       "  'https://www.imbd.com/title/tt0058483/',\n",
       "  'https://www.imbd.com/title/tt2543734/',\n",
       "  'https://www.imbd.com/title/tt6214038/',\n",
       "  'https://www.imbd.com/title/tt0028595/',\n",
       "  'https://www.imbd.com/title/tt3737676/',\n",
       "  'https://www.imbd.com/title/tt0054932/',\n",
       "  'https://www.imbd.com/title/tt0052424/',\n",
       "  'https://www.imbd.com/title/tt8083622/',\n",
       "  'https://www.imbd.com/title/tt0940657/',\n",
       "  'https://www.imbd.com/title/tt7782432/',\n",
       "  'https://www.imbd.com/title/tt1352802/',\n",
       "  'https://www.imbd.com/title/tt10197932/',\n",
       "  'https://www.imbd.com/title/tt0073012/',\n",
       "  'https://www.imbd.com/title/tt10151056/',\n",
       "  'https://www.imbd.com/title/tt0051783/',\n",
       "  'https://www.imbd.com/title/tt11923304/',\n",
       "  'https://www.imbd.com/title/tt0098502/',\n",
       "  'https://www.imbd.com/title/tt0109798/',\n",
       "  'https://www.imbd.com/title/tt0069746/',\n",
       "  'https://www.imbd.com/title/tt7736488/',\n",
       "  'https://www.imbd.com/title/tt0056652/',\n",
       "  'https://www.imbd.com/title/tt0065249/',\n",
       "  'https://www.imbd.com/title/tt0026241/',\n",
       "  'https://www.imbd.com/title/tt0074642/',\n",
       "  'https://www.imbd.com/title/tt0181668/',\n",
       "  'https://www.imbd.com/title/tt0040854/',\n",
       "  'https://www.imbd.com/title/tt1433173/',\n",
       "  'https://www.imbd.com/title/tt1644669/',\n",
       "  'https://www.imbd.com/title/tt1227170/',\n",
       "  'https://www.imbd.com/title/tt0024267/',\n",
       "  'https://www.imbd.com/title/tt0241079/',\n",
       "  'https://www.imbd.com/title/tt0054239/',\n",
       "  'https://www.imbd.com/title/tt1619016/',\n",
       "  'https://www.imbd.com/title/tt7188494/',\n",
       "  'https://www.imbd.com/title/tt1298713/',\n",
       "  'https://www.imbd.com/title/tt2364606/',\n",
       "  'https://www.imbd.com/title/tt0347534/',\n",
       "  'https://www.imbd.com/title/tt1472588/',\n",
       "  'https://www.imbd.com/title/tt0050894/',\n",
       "  'https://www.imbd.com/title/tt0056994/',\n",
       "  'https://www.imbd.com/title/tt1190633/',\n",
       "  'https://www.imbd.com/title/tt0226587/',\n",
       "  'https://www.imbd.com/title/tt11362678/',\n",
       "  'https://www.imbd.com/title/tt11193602/',\n",
       "  'https://www.imbd.com/title/tt0095745/',\n",
       "  'https://www.imbd.com/title/tt6582930/',\n",
       "  'https://www.imbd.com/title/tt0088345/',\n",
       "  'https://www.imbd.com/title/tt10075836/',\n",
       "  'https://www.imbd.com/title/tt1243972/',\n",
       "  'https://www.imbd.com/title/tt3823926/',\n",
       "  'https://www.imbd.com/title/tt0077770/',\n",
       "  'https://www.imbd.com/title/tt0155108/',\n",
       "  'https://www.imbd.com/title/tt3279024/',\n",
       "  'https://www.imbd.com/title/tt0133246/',\n",
       "  'https://www.imbd.com/title/tt0007661/',\n",
       "  'https://www.imbd.com/title/tt7856614/',\n",
       "  'https://www.imbd.com/title/tt3105084/',\n",
       "  'https://www.imbd.com/title/tt12089546/',\n",
       "  'https://www.imbd.com/title/tt9539758/',\n",
       "  'https://www.imbd.com/title/tt8646884/',\n",
       "  'https://www.imbd.com/title/tt10322272/',\n",
       "  'https://www.imbd.com/title/tt0018663/',\n",
       "  'https://www.imbd.com/title/tt0098584/',\n",
       "  'https://www.imbd.com/title/tt12369756/',\n",
       "  'https://www.imbd.com/title/tt0028013/',\n",
       "  'https://www.imbd.com/title/tt0036194/',\n",
       "  'https://www.imbd.com/title/tt0215993/',\n",
       "  'https://www.imbd.com/title/tt0011939/',\n",
       "  'https://www.imbd.com/title/tt5695754/',\n",
       "  'https://www.imbd.com/title/tt1864488/',\n",
       "  'https://www.imbd.com/title/tt0045176/',\n",
       "  'https://www.imbd.com/title/tt4331718/',\n",
       "  'https://www.imbd.com/title/tt0474963/',\n",
       "  'https://www.imbd.com/title/tt0011624/',\n",
       "  'https://www.imbd.com/title/tt0088344/',\n",
       "  'https://www.imbd.com/title/tt6450628/',\n",
       "  'https://www.imbd.com/title/tt0091847/',\n",
       "  'https://www.imbd.com/title/tt8151748/',\n",
       "  'https://www.imbd.com/title/tt0122538/',\n",
       "  'https://www.imbd.com/title/tt0099458/',\n",
       "  'https://www.imbd.com/title/tt3069576/',\n",
       "  'https://www.imbd.com/title/tt1725104/',\n",
       "  'https://www.imbd.com/title/tt0242108/',\n",
       "  'https://www.imbd.com/title/tt4587614/',\n",
       "  'https://www.imbd.com/title/tt0111600/',\n",
       "  'https://www.imbd.com/title/tt0003643/',\n",
       "  'https://www.imbd.com/title/tt4844344/',\n",
       "  'https://www.imbd.com/title/tt0077329/',\n",
       "  'https://www.imbd.com/title/tt0493211/',\n",
       "  'https://www.imbd.com/title/tt0011693/',\n",
       "  'https://www.imbd.com/title/tt0110983/',\n",
       "  'https://www.imbd.com/title/tt0201994/',\n",
       "  'https://www.imbd.com/title/tt0209211/',\n",
       "  'https://www.imbd.com/title/tt1125254/',\n",
       "  'https://www.imbd.com/title/tt0073755/',\n",
       "  'https://www.imbd.com/title/tt10053964/',\n",
       "  'https://www.imbd.com/title/tt0148677/',\n",
       "  'https://www.imbd.com/title/tt3606698/',\n",
       "  'https://www.imbd.com/title/tt0028596/',\n",
       "  'https://www.imbd.com/title/tt0013379/',\n",
       "  'https://www.imbd.com/title/tt0133177/',\n",
       "  'https://www.imbd.com/title/tt3078914/',\n",
       "  'https://www.imbd.com/title/tt10156406/',\n",
       "  'https://www.imbd.com/title/tt0114769/',\n",
       "  'https://www.imbd.com/title/tt7870278/',\n",
       "  'https://www.imbd.com/title/tt3115260/'])"
      ]
     },
     "execution_count": 10,
     "metadata": {},
     "output_type": "execute_result"
    }
   ],
   "source": [
    "imdb_movie = ImdbMovieParent('Avengers')\n",
    "imdb_movie.get_similar_titles()"
   ]
  },
  {
   "cell_type": "markdown",
   "metadata": {
    "slideshow": {
     "slide_type": "slide"
    }
   },
   "source": [
    "## 繼承"
   ]
  },
  {
   "cell_type": "markdown",
   "metadata": {
    "slideshow": {
     "slide_type": "subslide"
    }
   },
   "source": [
    "## 繼承是軟體工程在實踐「階層」上的自然方式\n",
    "\n",
    "- 國家（Country）\n",
    "    - 城市（City）\n",
    "        - 行政區（Borough）"
   ]
  },
  {
   "cell_type": "markdown",
   "metadata": {
    "slideshow": {
     "slide_type": "subslide"
    }
   },
   "source": [
    "## 母集合與子集合\n",
    "\n",
    "- 城市是行政區的母集合（Superset）、行政區是城市的子集合（Subset）\n",
    "- 國家是城市的母集合（Superset）、城市為國家的子集合（Subset）"
   ]
  },
  {
   "cell_type": "markdown",
   "metadata": {
    "slideshow": {
     "slide_type": "subslide"
    }
   },
   "source": [
    "## 如何讓子類別繼承母類別\n",
    "\n",
    "- 在子類別之後以小括號註記要繼承的母類別名稱\n",
    "\n",
    "```python\n",
    "class Child_class(Parent_class):\n",
    "    # ...\n",
    "```"
   ]
  },
  {
   "cell_type": "code",
   "execution_count": 11,
   "metadata": {
    "slideshow": {
     "slide_type": "subslide"
    }
   },
   "outputs": [
    {
     "name": "stdout",
     "output_type": "stream",
     "text": [
      "Manhattan\n",
      "['Central Park']\n"
     ]
    }
   ],
   "source": [
    "class Borough(City):\n",
    "    pass\n",
    "\n",
    "manhattan = Borough(\"Manhattan\", \"United States\", {\"lat\": 40.714679, \"lon\": -74.005360}, \"Mostly Cloudy\")\n",
    "print(manhattan.get_name())\n",
    "manhattan.add_scenic_spot(\"Central Park\")\n",
    "print(manhattan.get_scenic_spots())"
   ]
  },
  {
   "cell_type": "markdown",
   "metadata": {
    "slideshow": {
     "slide_type": "subslide"
    }
   },
   "source": [
    "## 子類別繼承母類別後可以新增屬性\n",
    "\n",
    "- 以 `super()` 繼承母類別的 Constructor\n",
    "\n",
    "```python\n",
    "class Child_class(Parent_class):\n",
    "    def __init__(self, ...)\n",
    "        super.__init__()\n",
    "```"
   ]
  },
  {
   "cell_type": "code",
   "execution_count": 12,
   "metadata": {
    "slideshow": {
     "slide_type": "subslide"
    }
   },
   "outputs": [
    {
     "name": "stdout",
     "output_type": "stream",
     "text": [
      "Manhattan\n",
      "New York\n"
     ]
    }
   ],
   "source": [
    "class Borough(City):\n",
    "    def __init__(self, name, city, country, location, current_weather):\n",
    "        super().__init__(name, country, location, current_weather)\n",
    "        self._city = city\n",
    "        \n",
    "manhattan = Borough(\"Manhattan\", \"New York\", \"United States\", {\"lat\": 40.714679, \"lon\": -74.005360}, \"Mostly Cloudy\")\n",
    "print(manhattan._name)\n",
    "print(manhattan._city)"
   ]
  },
  {
   "cell_type": "markdown",
   "metadata": {
    "slideshow": {
     "slide_type": "subslide"
    }
   },
   "source": [
    "## 子類別繼承母類別後可以新增方法與改寫方法"
   ]
  },
  {
   "cell_type": "code",
   "execution_count": 13,
   "metadata": {},
   "outputs": [
    {
     "name": "stdout",
     "output_type": "stream",
     "text": [
      "New York\n",
      "我在 Manhattan, New York，天氣 Mostly Cloudy。\n"
     ]
    }
   ],
   "source": [
    "class Borough(City):\n",
    "    def __init__(self, name, city, country, location, current_weather):\n",
    "        super().__init__(name, country, location, current_weather)\n",
    "        self._city = city\n",
    "    # 新增 get_city()\n",
    "    def get_city(self):\n",
    "        return self._city\n",
    "    # 改寫 get_current_weather()\n",
    "    def get_current_weather(self):\n",
    "        return \"我在 {}, {}，天氣 {}。\".format(self._name, self._city, self._current_weather)\n",
    "\n",
    "manhattan = Borough(\"Manhattan\", \"New York\", \"United States\", {\"lat\": 40.714679, \"lon\": -74.005360}, \"Mostly Cloudy\")\n",
    "print(manhattan.get_city())\n",
    "print(manhattan.get_current_weather())"
   ]
  },
  {
   "cell_type": "markdown",
   "metadata": {
    "slideshow": {
     "slide_type": "subslide"
    }
   },
   "source": [
    "## 用 `ImdbMovieChild` 繼承 `ImdbMovieParent`"
   ]
  },
  {
   "cell_type": "code",
   "execution_count": 14,
   "metadata": {},
   "outputs": [],
   "source": [
    "class ImdbMovieChild(ImdbMovieParent):\n",
    "    pass"
   ]
  },
  {
   "cell_type": "code",
   "execution_count": 15,
   "metadata": {
    "slideshow": {
     "slide_type": "subslide"
    }
   },
   "outputs": [
    {
     "data": {
      "text/plain": [
       "(['The Avengers',\n",
       "  'Novgorodtsy',\n",
       "  'Fu chou zhe',\n",
       "  'Avengers: Endgame',\n",
       "  'Avengers: Infinity War',\n",
       "  'Avengers: Age of Ultron',\n",
       "  'Avengers of Justice: Farce Wars',\n",
       "  'Crippled Avengers',\n",
       "  'Captain America: The First Avenger',\n",
       "  'Avengement',\n",
       "  'The Avengers',\n",
       "  'Passengers',\n",
       "  'The Toxic Avenger',\n",
       "  'Avenged',\n",
       "  'Revenger',\n",
       "  'The Avengers',\n",
       "  'The Scavengers',\n",
       "  'Scavengers',\n",
       "  'The Avenger',\n",
       "  'Die Hard with a Vengeance',\n",
       "  'Passengers',\n",
       "  'Jaws: The Revenge',\n",
       "  'The Revengers',\n",
       "  'Scavenger Hunt',\n",
       "  'Transformers: Revenge of the Fallen',\n",
       "  'The Messengers',\n",
       "  'Mister X',\n",
       "  'The Revenger',\n",
       "  'Avenging Angelo',\n",
       "  \"A Soldier's Revenge\",\n",
       "  'The Avenger',\n",
       "  'Avenging Angel',\n",
       "  'The Avenging Rider',\n",
       "  'Avenger Dogs',\n",
       "  'Lady Avenger',\n",
       "  'Skavengers',\n",
       "  'The Avengers',\n",
       "  'The Toxic Avenger Part II',\n",
       "  'Scavengers',\n",
       "  'The Scavengers',\n",
       "  'Avenged',\n",
       "  'To Avenge',\n",
       "  'The Revenger',\n",
       "  'Avenging Force',\n",
       "  'The Masked Avengers',\n",
       "  'Revenge Ride',\n",
       "  'The Revenge',\n",
       "  'The Avenger',\n",
       "  'Woman Avenger',\n",
       "  'Ghost Rider: Spirit of Vengeance',\n",
       "  'Citizen Toxie: The Toxic Avenger IV',\n",
       "  'The Avenger',\n",
       "  'Knives of the Avenger',\n",
       "  'Avenge the Crows',\n",
       "  'Scavenger Killers',\n",
       "  'Scavenger',\n",
       "  'The Avenging',\n",
       "  'The Avenging Silence',\n",
       "  'Avenged',\n",
       "  'I Spit on Your Grave: Vengeance is Mine',\n",
       "  'Three Avengers',\n",
       "  'Avenged',\n",
       "  'The Street Avenger',\n",
       "  'Revengers Tragedy',\n",
       "  'Avenge',\n",
       "  'Captain America: Civil War',\n",
       "  'Avengers: Legacy',\n",
       "  'The Toxic Avenger',\n",
       "  \"Heaven's Messenger\",\n",
       "  'Avengers: Reassembled',\n",
       "  'The Avenging Fist',\n",
       "  'Scavengers',\n",
       "  'Alien Space Avenger',\n",
       "  'The Three Avengers',\n",
       "  'I Am Vengeance: Retaliation',\n",
       "  'Ninja Operation 6: Champion on Fire',\n",
       "  'Cats & Dogs: The Revenge of Kitty Galore',\n",
       "  'Avengeance',\n",
       "  'Captain America: The Winter Soldier',\n",
       "  'The Avenger',\n",
       "  'Scavengers',\n",
       "  'Revenge of the Cheerleaders',\n",
       "  \"The Revengers' Comedies\",\n",
       "  'The Invisible Avenger',\n",
       "  'The Dark Avengers',\n",
       "  'The Scavengers',\n",
       "  'The Avenger',\n",
       "  'Halloween 5: The Revenge of Michael Myers',\n",
       "  'The Avenger',\n",
       "  'Avengelyne',\n",
       "  'The Avenging Eagle',\n",
       "  'Mask of the Avenger',\n",
       "  'The scavengers',\n",
       "  'Hercules the Avenger',\n",
       "  'The Avenger of Venice',\n",
       "  'Scavenger',\n",
       "  'Scavenger',\n",
       "  'The Avenger',\n",
       "  'Scavenger',\n",
       "  'Avenger of the Seven Seas',\n",
       "  'Zorro, the Avenger',\n",
       "  'The Toxic Avenger: The Musical',\n",
       "  'Arthur et la vengeance de Maltazard',\n",
       "  \"Scavenger's Daughter\",\n",
       "  'Tengers',\n",
       "  'Spanish Avengers',\n",
       "  \"The Four Musketeers: Milady's Revenge\",\n",
       "  'The Passengers',\n",
       "  'Invisible Avenger',\n",
       "  'Tokyo Revengers',\n",
       "  'The Toxic Avenger Part III: The Last Temptation of Toxie',\n",
       "  'Revenge of the Musketeers',\n",
       "  'Avengers of the Reef',\n",
       "  'Gandarrapiddo: The Revenger Squad',\n",
       "  'Zorro the Avenger',\n",
       "  'The Avenger, Zorro',\n",
       "  'The Courageous Avenger',\n",
       "  'The Passengers',\n",
       "  'Manchurian Avenger',\n",
       "  'Sword of the Avenger',\n",
       "  'Revengers Inc.',\n",
       "  'The Levenger Tapes',\n",
       "  'Passenger Side',\n",
       "  'The Lone Avenger',\n",
       "  \"Zorrita: Passion's Avenger\",\n",
       "  'Drakut the Avenger',\n",
       "  'Avenging Force: The Scarab',\n",
       "  'Avenge Me',\n",
       "  'Passengers',\n",
       "  'Amorosa: The Revenge',\n",
       "  'Messengers',\n",
       "  'Vegas Avengers',\n",
       "  'The Revenge of Frankenstein',\n",
       "  'Arms of the Avenger',\n",
       "  'Blackbelt Avengers',\n",
       "  'The Revenge',\n",
       "  \"Brother's Revenge\",\n",
       "  'Avenger Girls',\n",
       "  'Ninja Vengeance',\n",
       "  'Scavenger Hunt',\n",
       "  \"Soldier's Revenge\",\n",
       "  'The Avengers Assemble Premiere',\n",
       "  'Samurai Avenger: The Blind Wolf',\n",
       "  'The Revengers',\n",
       "  'Avenging Warriors of Shaolin',\n",
       "  'The Revenge of Roger',\n",
       "  'Lumpia: With a Vengeance',\n",
       "  \"Twister's Revenge!\",\n",
       "  'The Avenging Trail',\n",
       "  'Organic Man: Returns with Avengeance',\n",
       "  'The Revenger',\n",
       "  'Safaibaaz - The Scavenger',\n",
       "  'The Revenge 2',\n",
       "  'Avenging Evil',\n",
       "  'RiffTrax: Captain America: The First Avenger',\n",
       "  'The Avenging Rider',\n",
       "  \"La vengeance d'une femme\",\n",
       "  'Avenger Dogs 2: Wonder Dogs',\n",
       "  'The Mysterious Avenger',\n",
       "  \"The People's Avengers\",\n",
       "  'Messengers',\n",
       "  'The Avenging Arrow',\n",
       "  'Bittersweet Revenge',\n",
       "  \"Scavengers' Union\",\n",
       "  'Son of Geronimo: Apache Avenger',\n",
       "  \"The Messenger's Box\",\n",
       "  'Tomie: Revenge',\n",
       "  'The Revenge of Tarzan',\n",
       "  'La vengeance du serpent à plumes',\n",
       "  'The Revenge of Robert the Doll',\n",
       "  'The Revenge of the Living Dead Girls',\n",
       "  'The Revenge',\n",
       "  'Holocaust 2: The Revenge',\n",
       "  'Double Revenge',\n",
       "  'Rahtree Revenge',\n",
       "  'Scavenger Hunt',\n",
       "  'Vengerkák',\n",
       "  \"Heaven's Messenger\",\n",
       "  \"La vengeance d'une blonde\",\n",
       "  \"The Avenging Conscience: or 'Thou Shalt Not Kill'\",\n",
       "  'Grave Vengeance',\n",
       "  'Avenging Dragon',\n",
       "  'Andrea: The Revenge of the Spirit',\n",
       "  'The Silent Avenger',\n",
       "  'Revenge of the Red Baron',\n",
       "  \"Tiger's Revenge\",\n",
       "  'The Bus Passengers',\n",
       "  \"Dragon Ball Z: Cooler's Revenge\",\n",
       "  \"The Streetfighter's Last Revenge\",\n",
       "  'The Passengers',\n",
       "  'The Revenge of Ivanhoe',\n",
       "  'Antboy: Revenge of the Red Fury',\n",
       "  'The Avenging Hand',\n",
       "  'The Masked Avenger',\n",
       "  'The Revenge Rider',\n",
       "  'The Avenging Eagle',\n",
       "  'Rocky: The Revenge',\n",
       "  'Lei ting xing dong',\n",
       "  'The Lesbian Avengers Eat Fire, Too',\n",
       "  'Scavenger Hunt'],\n",
       " ['https://www.imbd.com/title/tt0848228/',\n",
       "  'https://www.imbd.com/title/tt0036220/',\n",
       "  'https://www.imbd.com/title/tt0164450/',\n",
       "  'https://www.imbd.com/title/tt4154796/',\n",
       "  'https://www.imbd.com/title/tt4154756/',\n",
       "  'https://www.imbd.com/title/tt2395427/',\n",
       "  'https://www.imbd.com/title/tt6172666/',\n",
       "  'https://www.imbd.com/title/tt0077292/',\n",
       "  'https://www.imbd.com/title/tt0458339/',\n",
       "  'https://www.imbd.com/title/tt8836988/',\n",
       "  'https://www.imbd.com/title/tt0118661/',\n",
       "  'https://www.imbd.com/title/tt1355644/',\n",
       "  'https://www.imbd.com/title/tt0090190/',\n",
       "  'https://www.imbd.com/title/tt2378453/',\n",
       "  'https://www.imbd.com/title/tt9426186/',\n",
       "  'https://www.imbd.com/title/tt0034639/',\n",
       "  'https://www.imbd.com/title/tt0067714/',\n",
       "  'https://www.imbd.com/title/tt1564369/',\n",
       "  'https://www.imbd.com/title/tt0056174/',\n",
       "  'https://www.imbd.com/title/tt0112864/',\n",
       "  'https://www.imbd.com/title/tt0449487/',\n",
       "  'https://www.imbd.com/title/tt0093300/',\n",
       "  'https://www.imbd.com/title/tt0069179/',\n",
       "  'https://www.imbd.com/title/tt0079858/',\n",
       "  'https://www.imbd.com/title/tt1055369/',\n",
       "  'https://www.imbd.com/title/tt0425430/',\n",
       "  'https://www.imbd.com/title/tt0060706/',\n",
       "  'https://www.imbd.com/title/tt5037780/',\n",
       "  'https://www.imbd.com/title/tt0275947/',\n",
       "  'https://www.imbd.com/title/tt9302994/',\n",
       "  'https://www.imbd.com/title/tt0054257/',\n",
       "  'https://www.imbd.com/title/tt0088757/',\n",
       "  'https://www.imbd.com/title/tt0035655/',\n",
       "  'https://www.imbd.com/title/tt9724068/',\n",
       "  'https://www.imbd.com/title/tt0097703/',\n",
       "  'https://www.imbd.com/title/tt1986948/',\n",
       "  'https://www.imbd.com/title/tt0167779/',\n",
       "  'https://www.imbd.com/title/tt0098503/',\n",
       "  'https://www.imbd.com/title/tt0096049/',\n",
       "  'https://www.imbd.com/title/tt0057474/',\n",
       "  'https://www.imbd.com/title/tt2585072/',\n",
       "  'https://www.imbd.com/title/tt8277574/',\n",
       "  'https://www.imbd.com/title/tt0098199/',\n",
       "  'https://www.imbd.com/title/tt0090678/',\n",
       "  'https://www.imbd.com/title/tt0082153/',\n",
       "  'https://www.imbd.com/title/tt10510416/',\n",
       "  'https://www.imbd.com/title/tt0314942/',\n",
       "  'https://www.imbd.com/title/tt0021630/',\n",
       "  'https://www.imbd.com/title/tt0080144/',\n",
       "  'https://www.imbd.com/title/tt1071875/',\n",
       "  'https://www.imbd.com/title/tt0212879/',\n",
       "  'https://www.imbd.com/title/tt0023773/',\n",
       "  'https://www.imbd.com/title/tt0059045/',\n",
       "  'https://www.imbd.com/title/tt5898630/',\n",
       "  'https://www.imbd.com/title/tt2375906/',\n",
       "  'https://www.imbd.com/title/tt8947114/',\n",
       "  'https://www.imbd.com/title/tt0083602/',\n",
       "  'https://www.imbd.com/title/tt5437956/',\n",
       "  'https://www.imbd.com/title/tt0192991/',\n",
       "  'https://www.imbd.com/title/tt4530884/',\n",
       "  'https://www.imbd.com/title/tt0079110/',\n",
       "  'https://www.imbd.com/title/tt3382178/',\n",
       "  'https://www.imbd.com/title/tt10921118/',\n",
       "  'https://www.imbd.com/title/tt0286921/',\n",
       "  'https://www.imbd.com/title/tt0961036/',\n",
       "  'https://www.imbd.com/title/tt3498820/',\n",
       "  'https://www.imbd.com/title/tt9303032/',\n",
       "  'https://www.imbd.com/title/tt1633359/',\n",
       "  'https://www.imbd.com/title/tt0914380/',\n",
       "  'https://www.imbd.com/title/tt8875872/',\n",
       "  'https://www.imbd.com/title/tt0260136/',\n",
       "  'https://www.imbd.com/title/tt1861413/',\n",
       "  'https://www.imbd.com/title/tt0101296/',\n",
       "  'https://www.imbd.com/title/tt0058651/',\n",
       "  'https://www.imbd.com/title/tt8972556/',\n",
       "  'https://www.imbd.com/title/tt0199812/',\n",
       "  'https://www.imbd.com/title/tt1287468/',\n",
       "  'https://www.imbd.com/title/tt1980917/',\n",
       "  'https://www.imbd.com/title/tt1843866/',\n",
       "  'https://www.imbd.com/title/tt0014688/',\n",
       "  'https://www.imbd.com/title/tt2137256/',\n",
       "  'https://www.imbd.com/title/tt0075137/',\n",
       "  'https://www.imbd.com/title/tt0120013/',\n",
       "  'https://www.imbd.com/title/tt0047594/',\n",
       "  'https://www.imbd.com/title/tt0492596/',\n",
       "  'https://www.imbd.com/title/tt4440062/',\n",
       "  'https://www.imbd.com/title/tt0006386/',\n",
       "  'https://www.imbd.com/title/tt0097474/',\n",
       "  'https://www.imbd.com/title/tt3695294/',\n",
       "  'https://www.imbd.com/title/tt3116022/',\n",
       "  'https://www.imbd.com/title/tt0077868/',\n",
       "  'https://www.imbd.com/title/tt0043790/',\n",
       "  'https://www.imbd.com/title/tt10574452/',\n",
       "  'https://www.imbd.com/title/tt0275668/',\n",
       "  'https://www.imbd.com/title/tt0058483/',\n",
       "  'https://www.imbd.com/title/tt2543734/',\n",
       "  'https://www.imbd.com/title/tt6214038/',\n",
       "  'https://www.imbd.com/title/tt0028595/',\n",
       "  'https://www.imbd.com/title/tt3737676/',\n",
       "  'https://www.imbd.com/title/tt0054932/',\n",
       "  'https://www.imbd.com/title/tt0052424/',\n",
       "  'https://www.imbd.com/title/tt8083622/',\n",
       "  'https://www.imbd.com/title/tt0940657/',\n",
       "  'https://www.imbd.com/title/tt7782432/',\n",
       "  'https://www.imbd.com/title/tt1352802/',\n",
       "  'https://www.imbd.com/title/tt10197932/',\n",
       "  'https://www.imbd.com/title/tt0073012/',\n",
       "  'https://www.imbd.com/title/tt10151056/',\n",
       "  'https://www.imbd.com/title/tt0051783/',\n",
       "  'https://www.imbd.com/title/tt11923304/',\n",
       "  'https://www.imbd.com/title/tt0098502/',\n",
       "  'https://www.imbd.com/title/tt0109798/',\n",
       "  'https://www.imbd.com/title/tt0069746/',\n",
       "  'https://www.imbd.com/title/tt7736488/',\n",
       "  'https://www.imbd.com/title/tt0056652/',\n",
       "  'https://www.imbd.com/title/tt0065249/',\n",
       "  'https://www.imbd.com/title/tt0026241/',\n",
       "  'https://www.imbd.com/title/tt0074642/',\n",
       "  'https://www.imbd.com/title/tt0181668/',\n",
       "  'https://www.imbd.com/title/tt0040854/',\n",
       "  'https://www.imbd.com/title/tt1433173/',\n",
       "  'https://www.imbd.com/title/tt1644669/',\n",
       "  'https://www.imbd.com/title/tt1227170/',\n",
       "  'https://www.imbd.com/title/tt0024267/',\n",
       "  'https://www.imbd.com/title/tt0241079/',\n",
       "  'https://www.imbd.com/title/tt0054239/',\n",
       "  'https://www.imbd.com/title/tt1619016/',\n",
       "  'https://www.imbd.com/title/tt7188494/',\n",
       "  'https://www.imbd.com/title/tt1298713/',\n",
       "  'https://www.imbd.com/title/tt2364606/',\n",
       "  'https://www.imbd.com/title/tt0347534/',\n",
       "  'https://www.imbd.com/title/tt1472588/',\n",
       "  'https://www.imbd.com/title/tt0050894/',\n",
       "  'https://www.imbd.com/title/tt0056994/',\n",
       "  'https://www.imbd.com/title/tt1190633/',\n",
       "  'https://www.imbd.com/title/tt0226587/',\n",
       "  'https://www.imbd.com/title/tt11362678/',\n",
       "  'https://www.imbd.com/title/tt11193602/',\n",
       "  'https://www.imbd.com/title/tt0095745/',\n",
       "  'https://www.imbd.com/title/tt6582930/',\n",
       "  'https://www.imbd.com/title/tt0088345/',\n",
       "  'https://www.imbd.com/title/tt10075836/',\n",
       "  'https://www.imbd.com/title/tt1243972/',\n",
       "  'https://www.imbd.com/title/tt3823926/',\n",
       "  'https://www.imbd.com/title/tt0077770/',\n",
       "  'https://www.imbd.com/title/tt0155108/',\n",
       "  'https://www.imbd.com/title/tt3279024/',\n",
       "  'https://www.imbd.com/title/tt0133246/',\n",
       "  'https://www.imbd.com/title/tt0007661/',\n",
       "  'https://www.imbd.com/title/tt7856614/',\n",
       "  'https://www.imbd.com/title/tt3105084/',\n",
       "  'https://www.imbd.com/title/tt12089546/',\n",
       "  'https://www.imbd.com/title/tt9539758/',\n",
       "  'https://www.imbd.com/title/tt8646884/',\n",
       "  'https://www.imbd.com/title/tt10322272/',\n",
       "  'https://www.imbd.com/title/tt0018663/',\n",
       "  'https://www.imbd.com/title/tt0098584/',\n",
       "  'https://www.imbd.com/title/tt12369756/',\n",
       "  'https://www.imbd.com/title/tt0028013/',\n",
       "  'https://www.imbd.com/title/tt0036194/',\n",
       "  'https://www.imbd.com/title/tt0215993/',\n",
       "  'https://www.imbd.com/title/tt0011939/',\n",
       "  'https://www.imbd.com/title/tt5695754/',\n",
       "  'https://www.imbd.com/title/tt1864488/',\n",
       "  'https://www.imbd.com/title/tt0045176/',\n",
       "  'https://www.imbd.com/title/tt4331718/',\n",
       "  'https://www.imbd.com/title/tt0474963/',\n",
       "  'https://www.imbd.com/title/tt0011624/',\n",
       "  'https://www.imbd.com/title/tt0088344/',\n",
       "  'https://www.imbd.com/title/tt6450628/',\n",
       "  'https://www.imbd.com/title/tt0091847/',\n",
       "  'https://www.imbd.com/title/tt8151748/',\n",
       "  'https://www.imbd.com/title/tt0122538/',\n",
       "  'https://www.imbd.com/title/tt0099458/',\n",
       "  'https://www.imbd.com/title/tt3069576/',\n",
       "  'https://www.imbd.com/title/tt1725104/',\n",
       "  'https://www.imbd.com/title/tt0242108/',\n",
       "  'https://www.imbd.com/title/tt4587614/',\n",
       "  'https://www.imbd.com/title/tt0111600/',\n",
       "  'https://www.imbd.com/title/tt0003643/',\n",
       "  'https://www.imbd.com/title/tt4844344/',\n",
       "  'https://www.imbd.com/title/tt0077329/',\n",
       "  'https://www.imbd.com/title/tt0493211/',\n",
       "  'https://www.imbd.com/title/tt0011693/',\n",
       "  'https://www.imbd.com/title/tt0110983/',\n",
       "  'https://www.imbd.com/title/tt0201994/',\n",
       "  'https://www.imbd.com/title/tt0209211/',\n",
       "  'https://www.imbd.com/title/tt1125254/',\n",
       "  'https://www.imbd.com/title/tt0073755/',\n",
       "  'https://www.imbd.com/title/tt10053964/',\n",
       "  'https://www.imbd.com/title/tt0148677/',\n",
       "  'https://www.imbd.com/title/tt3606698/',\n",
       "  'https://www.imbd.com/title/tt0028596/',\n",
       "  'https://www.imbd.com/title/tt0013379/',\n",
       "  'https://www.imbd.com/title/tt0133177/',\n",
       "  'https://www.imbd.com/title/tt3078914/',\n",
       "  'https://www.imbd.com/title/tt10156406/',\n",
       "  'https://www.imbd.com/title/tt0114769/',\n",
       "  'https://www.imbd.com/title/tt7870278/',\n",
       "  'https://www.imbd.com/title/tt3115260/'])"
      ]
     },
     "execution_count": 15,
     "metadata": {},
     "output_type": "execute_result"
    }
   ],
   "source": [
    "imdb_movie = ImdbMovieChild('Avengers')\n",
    "imdb_movie.get_similar_titles()"
   ]
  },
  {
   "cell_type": "markdown",
   "metadata": {
    "slideshow": {
     "slide_type": "subslide"
    }
   },
   "source": [
    "## 新增屬性 `top_n_similar_titles`"
   ]
  },
  {
   "cell_type": "code",
   "execution_count": 16,
   "metadata": {},
   "outputs": [],
   "source": [
    "class ImdbMovieChild(ImdbMovieParent):\n",
    "    def __init__(self, movie_title, top_n_similar_titles):\n",
    "        super().__init__(movie_title)\n",
    "        self._top_n_similar_titles = top_n_similar_titles"
   ]
  },
  {
   "cell_type": "code",
   "execution_count": 17,
   "metadata": {
    "slideshow": {
     "slide_type": "subslide"
    }
   },
   "outputs": [
    {
     "name": "stdout",
     "output_type": "stream",
     "text": [
      "Avengers\n",
      "1\n"
     ]
    }
   ],
   "source": [
    "imdb_movie = ImdbMovieChild('Avengers', 1)\n",
    "print(imdb_movie._movie_title)\n",
    "print(imdb_movie._top_n_similar_titles)"
   ]
  },
  {
   "cell_type": "markdown",
   "metadata": {
    "slideshow": {
     "slide_type": "subslide"
    }
   },
   "source": [
    "## 新增方法 `get_most_similar_title`"
   ]
  },
  {
   "cell_type": "code",
   "execution_count": 18,
   "metadata": {},
   "outputs": [],
   "source": [
    "class ImdbMovieChild(ImdbMovieParent):\n",
    "    def __init__(self, movie_title, top_n_similar_titles):\n",
    "        super().__init__(movie_title)\n",
    "        self._top_n_similar_titles = top_n_similar_titles\n",
    "    def get_most_similar_title(self):\n",
    "        titles, links = self.get_similar_titles()\n",
    "        return titles[0:self._top_n_similar_titles], links[0:self._top_n_similar_titles]"
   ]
  },
  {
   "cell_type": "code",
   "execution_count": 19,
   "metadata": {
    "slideshow": {
     "slide_type": "subslide"
    }
   },
   "outputs": [
    {
     "data": {
      "text/plain": [
       "(['The Avengers'], ['https://www.imbd.com/title/tt0848228/'])"
      ]
     },
     "execution_count": 19,
     "metadata": {},
     "output_type": "execute_result"
    }
   ],
   "source": [
    "imdb_movie = ImdbMovieChild('Avengers', 1)\n",
    "imdb_movie.get_most_similar_title()"
   ]
  },
  {
   "cell_type": "code",
   "execution_count": 20,
   "metadata": {
    "slideshow": {
     "slide_type": "subslide"
    }
   },
   "outputs": [
    {
     "data": {
      "text/plain": [
       "(['The Avengers',\n",
       "  'Novgorodtsy',\n",
       "  'Fu chou zhe',\n",
       "  'Avengers: Endgame',\n",
       "  'Avengers: Infinity War'],\n",
       " ['https://www.imbd.com/title/tt0848228/',\n",
       "  'https://www.imbd.com/title/tt0036220/',\n",
       "  'https://www.imbd.com/title/tt0164450/',\n",
       "  'https://www.imbd.com/title/tt4154796/',\n",
       "  'https://www.imbd.com/title/tt4154756/'])"
      ]
     },
     "execution_count": 20,
     "metadata": {},
     "output_type": "execute_result"
    }
   ],
   "source": [
    "imdb_movie = ImdbMovieChild('Avengers', 5)\n",
    "imdb_movie.get_most_similar_title()"
   ]
  },
  {
   "cell_type": "markdown",
   "metadata": {
    "slideshow": {
     "slide_type": "slide"
    }
   },
   "source": [
    "## 作業"
   ]
  },
  {
   "cell_type": "markdown",
   "metadata": {
    "slideshow": {
     "slide_type": "subslide"
    }
   },
   "source": [
    "![](https://storage.googleapis.com/intro-2-py-ds/img/ch7/dbfighterz.jpg)"
   ]
  },
  {
   "cell_type": "markdown",
   "metadata": {
    "slideshow": {
     "slide_type": "subslide"
    }
   },
   "source": [
    "## 定義一個類別 `DBFighter`\n",
    "\n",
    "- 一個屬性：姓名\n",
    "- 三個方法：拳、踢、氣功波"
   ]
  },
  {
   "cell_type": "code",
   "execution_count": 21,
   "metadata": {
    "slideshow": {
     "slide_type": "skip"
    }
   },
   "outputs": [],
   "source": [
    "class DBFighter:\n",
    "    \"\"\"\n",
    "    七龍珠格鬥遊戲\n",
    "    \"\"\"\n",
    "    def __init__(self, name):\n",
    "        self._name = name\n",
    "    \n",
    "    def punch(self):\n",
    "        return \"{}使用拳擊！\".format(self._name)\n",
    "    \n",
    "    def kick(self):\n",
    "        return \"{}使用踢擊！\".format(self._name)\n",
    "    \n",
    "    def shock_wave(self):\n",
    "        return \"{}使用氣功波！\".format(self._name)"
   ]
  },
  {
   "cell_type": "markdown",
   "metadata": {
    "slideshow": {
     "slide_type": "subslide"
    }
   },
   "source": [
    "## 執行範例"
   ]
  },
  {
   "cell_type": "code",
   "execution_count": 22,
   "metadata": {},
   "outputs": [
    {
     "name": "stdout",
     "output_type": "stream",
     "text": [
      "孫悟空使用拳擊！\n",
      "孫悟空使用踢擊！\n",
      "孫悟空使用氣功波！\n"
     ]
    }
   ],
   "source": [
    "goku = DBFighter(\"孫悟空\")\n",
    "print(goku.punch())\n",
    "print(goku.kick())\n",
    "print(goku.shock_wave())"
   ]
  },
  {
   "cell_type": "markdown",
   "metadata": {
    "slideshow": {
     "slide_type": "subslide"
    }
   },
   "source": [
    "## 定義一個類別 `Goku` \n",
    "\n",
    "- 繼承 `DBFighter`\n",
    "- 增加原名屬性、新增龜派氣功方法（Kamehameha）"
   ]
  },
  {
   "cell_type": "code",
   "execution_count": 23,
   "metadata": {
    "slideshow": {
     "slide_type": "skip"
    }
   },
   "outputs": [],
   "source": [
    "class Goku(DBFighter):\n",
    "    def __init__(self, name, original_name):\n",
    "        super().__init__(name)\n",
    "        self._original_name = original_name\n",
    "    def Kamehameha(self):\n",
    "        return \"{} a.k.a. {}使用龜派氣功！\".format(self._original_name, self._name)"
   ]
  },
  {
   "cell_type": "markdown",
   "metadata": {
    "slideshow": {
     "slide_type": "subslide"
    }
   },
   "source": [
    "## 執行範例"
   ]
  },
  {
   "cell_type": "code",
   "execution_count": 24,
   "metadata": {},
   "outputs": [
    {
     "name": "stdout",
     "output_type": "stream",
     "text": [
      "卡卡洛特 a.k.a. 孫悟空使用龜派氣功！\n"
     ]
    }
   ],
   "source": [
    "goku = Goku(\"孫悟空\", \"卡卡洛特\")\n",
    "print(goku.Kamehameha())"
   ]
  }
 ],
 "metadata": {
  "celltoolbar": "Slideshow",
  "kernelspec": {
   "display_name": "Python Web Scraping",
   "language": "python",
   "name": "pywebscraping"
  },
  "language_info": {
   "codemirror_mode": {
    "name": "ipython",
    "version": 3
   },
   "file_extension": ".py",
   "mimetype": "text/x-python",
   "name": "python",
   "nbconvert_exporter": "python",
   "pygments_lexer": "ipython3",
   "version": "3.7.7"
  }
 },
 "nbformat": 4,
 "nbformat_minor": 1
}
