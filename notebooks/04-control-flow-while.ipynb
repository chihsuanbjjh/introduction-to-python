{
 "cells": [
  {
   "cell_type": "markdown",
   "metadata": {
    "slideshow": {
     "slide_type": "slide"
    }
   },
   "source": [
    "# 成為初級資料分析師 | Python 程式設計\n",
    "\n",
    "> 流程控制：`while` 迴圈\n",
    "\n",
    "## 郭耀仁"
   ]
  },
  {
   "cell_type": "markdown",
   "metadata": {
    "slideshow": {
     "slide_type": "subslide"
    }
   },
   "source": [
    "> When you’ve given the same in-person advice 3 times, write a blog post.\n",
    ">\n",
    "> David Robinson"
   ]
  },
  {
   "cell_type": "markdown",
   "metadata": {
    "slideshow": {
     "slide_type": "subslide"
    }
   },
   "source": [
    "## 大綱\n",
    "\n",
    "- 布林的應用場景\n",
    "- `while` 迴圈"
   ]
  },
  {
   "cell_type": "markdown",
   "metadata": {
    "slideshow": {
     "slide_type": "slide"
    }
   },
   "source": [
    "## 布林的應用場景"
   ]
  },
  {
   "cell_type": "markdown",
   "metadata": {
    "slideshow": {
     "slide_type": "subslide"
    }
   },
   "source": [
    "## 布林之後會出現在\n",
    "\n",
    "- 條件判斷\n",
    "- **`while` 迴圈**\n",
    "- 資料篩選"
   ]
  },
  {
   "cell_type": "markdown",
   "metadata": {
    "slideshow": {
     "slide_type": "subslide"
    }
   },
   "source": [
    "## 迴圈是用來解決需要反覆執行、大量手動複製貼上程式碼的任務"
   ]
  },
  {
   "cell_type": "markdown",
   "metadata": {
    "slideshow": {
     "slide_type": "subslide"
    }
   },
   "source": [
    "## 迴圈三要素\n",
    "\n",
    "- 開始 `start`，反覆執行的任務要從哪裡出發？\n",
    "- 停止 `stop`，反覆執行的任務到何時可以結束？\n",
    "- 間距 `step`，反覆執行的任務每一輪的間隔是多少？"
   ]
  },
  {
   "cell_type": "markdown",
   "metadata": {
    "slideshow": {
     "slide_type": "subslide"
    }
   },
   "source": [
    "## 回憶判斷奇數偶數的練習\n",
    "\n",
    "```\n",
    "## 請輸入一個正整數：5566\n",
    "## 5566 是偶數\n",
    "## 請輸入一個正整數：87\n",
    "## 87 是奇數\n",
    "```"
   ]
  },
  {
   "cell_type": "code",
   "execution_count": 1,
   "metadata": {
    "slideshow": {
     "slide_type": "-"
    }
   },
   "outputs": [
    {
     "name": "stdout",
     "output_type": "stream",
     "text": [
      "請輸入一個正整數：5566\n",
      "5566 是偶數\n"
     ]
    }
   ],
   "source": [
    "user_int = input(\"請輸入一個正整數：\")\n",
    "user_int = int(user_int)\n",
    "if user_int % 2 == 0:\n",
    "    print(\"{} 是偶數\".format(user_int))\n",
    "else:\n",
    "    print(\"{} 是奇數\".format(user_int))"
   ]
  },
  {
   "cell_type": "markdown",
   "metadata": {
    "slideshow": {
     "slide_type": "subslide"
    }
   },
   "source": [
    "## 假如題目修改為：請印出介於 1 到 100 之間的偶數"
   ]
  },
  {
   "cell_type": "code",
   "execution_count": 2,
   "metadata": {
    "slideshow": {
     "slide_type": "-"
    }
   },
   "outputs": [
    {
     "name": "stdout",
     "output_type": "stream",
     "text": [
      "2\n",
      "4\n",
      "100\n"
     ]
    }
   ],
   "source": [
    "print(2)\n",
    "print(4)\n",
    "#...\n",
    "print(100)"
   ]
  },
  {
   "cell_type": "markdown",
   "metadata": {
    "slideshow": {
     "slide_type": "subslide"
    }
   },
   "source": [
    "## 請印出介於 1 到 100 之間的偶數：迴圈三要素\n",
    "\n",
    "- 開始 `start`，2\n",
    "- 停止 `stop`，100\n",
    "- 間距 `step`，2"
   ]
  },
  {
   "cell_type": "markdown",
   "metadata": {
    "slideshow": {
     "slide_type": "subslide"
    }
   },
   "source": [
    "## 假如題目修改為：請判斷一個正整數是否為質數\n",
    "\n",
    "- 對一個正整數 `n` 進行「因數分解」\n",
    "- 將 1 至 `n` 每個整數都試著去除 `n` 來判斷是否為因數\n",
    "- 若只有 2 個因數為質數"
   ]
  },
  {
   "cell_type": "markdown",
   "metadata": {
    "slideshow": {
     "slide_type": "subslide"
    }
   },
   "source": [
    "## 請判斷一個正整數是否為質數：迴圈三要素\n",
    "\n",
    "- 開始 `start`，1\n",
    "- 停止 `stop`，n\n",
    "- 間距 `step`，1"
   ]
  },
  {
   "cell_type": "markdown",
   "metadata": {
    "slideshow": {
     "slide_type": "subslide"
    }
   },
   "source": [
    "## 來到迴圈的章節是一個分水嶺，可以運用視覺化工具協助我們學習，例如\n",
    "\n",
    "http://pythontutor.com/visualize.html#mode=edit"
   ]
  },
  {
   "cell_type": "markdown",
   "metadata": {
    "slideshow": {
     "slide_type": "slide"
    }
   },
   "source": [
    "## `while` 迴圈"
   ]
  },
  {
   "cell_type": "markdown",
   "metadata": {
    "slideshow": {
     "slide_type": "subslide"
    }
   },
   "source": [
    "## `while` 迴圈的 Code Block\n",
    "\n",
    "- 開始 `start`\n",
    "- `while` 保留字\n",
    "- 結束 `stop`\n",
    "- 反覆執行的任務\n",
    "- 間距 `step`\n",
    "\n",
    "```python\n",
    "i = 0 # 開始 start\n",
    "while EXPR: # 結束 stop\n",
    "    # 反覆執行的任務\n",
    "    # ...\n",
    "    i += 1 # 間距 step\n",
    "```"
   ]
  },
  {
   "cell_type": "markdown",
   "metadata": {
    "slideshow": {
     "slide_type": "subslide"
    }
   },
   "source": [
    "## 印出介於 1 到 100 之間的整數"
   ]
  },
  {
   "cell_type": "code",
   "execution_count": 3,
   "metadata": {},
   "outputs": [
    {
     "name": "stdout",
     "output_type": "stream",
     "text": [
      "1\n",
      "2\n",
      "3\n",
      "4\n",
      "5\n",
      "6\n",
      "7\n",
      "8\n",
      "9\n",
      "10\n",
      "11\n",
      "12\n",
      "13\n",
      "14\n",
      "15\n",
      "16\n",
      "17\n",
      "18\n",
      "19\n",
      "20\n",
      "21\n",
      "22\n",
      "23\n",
      "24\n",
      "25\n",
      "26\n",
      "27\n",
      "28\n",
      "29\n",
      "30\n",
      "31\n",
      "32\n",
      "33\n",
      "34\n",
      "35\n",
      "36\n",
      "37\n",
      "38\n",
      "39\n",
      "40\n",
      "41\n",
      "42\n",
      "43\n",
      "44\n",
      "45\n",
      "46\n",
      "47\n",
      "48\n",
      "49\n",
      "50\n",
      "51\n",
      "52\n",
      "53\n",
      "54\n",
      "55\n",
      "56\n",
      "57\n",
      "58\n",
      "59\n",
      "60\n",
      "61\n",
      "62\n",
      "63\n",
      "64\n",
      "65\n",
      "66\n",
      "67\n",
      "68\n",
      "69\n",
      "70\n",
      "71\n",
      "72\n",
      "73\n",
      "74\n",
      "75\n",
      "76\n",
      "77\n",
      "78\n",
      "79\n",
      "80\n",
      "81\n",
      "82\n",
      "83\n",
      "84\n",
      "85\n",
      "86\n",
      "87\n",
      "88\n",
      "89\n",
      "90\n",
      "91\n",
      "92\n",
      "93\n",
      "94\n",
      "95\n",
      "96\n",
      "97\n",
      "98\n",
      "99\n",
      "100\n"
     ]
    }
   ],
   "source": [
    "num = 1 # 開始 start\n",
    "while num <= 100: # 結束 stop\n",
    "    print(num) # 反覆執行的任務\n",
    "    num += 1 # 間距 step"
   ]
  },
  {
   "cell_type": "markdown",
   "metadata": {
    "slideshow": {
     "slide_type": "subslide"
    }
   },
   "source": [
    "## 常見的迴圈任務\n",
    "\n",
    "- `print()`\n",
    "- 計數（Counter）\n",
    "- 加總（Summation）\n",
    "- 合併（Append），將在資料結構中詳述"
   ]
  },
  {
   "cell_type": "markdown",
   "metadata": {
    "slideshow": {
     "slide_type": "subslide"
    }
   },
   "source": [
    "## 計算 1 到 100 的之間有幾個整數"
   ]
  },
  {
   "cell_type": "code",
   "execution_count": 4,
   "metadata": {},
   "outputs": [
    {
     "name": "stdout",
     "output_type": "stream",
     "text": [
      "100\n"
     ]
    }
   ],
   "source": [
    "# 計數\n",
    "num = 1 # 開始 start\n",
    "num_cnt = 0\n",
    "while num <= 100: # 結束 stop\n",
    "    num_cnt += 1 # 反覆執行的任務\n",
    "    num += 1 # 間距 step\n",
    "print(num_cnt)"
   ]
  },
  {
   "cell_type": "markdown",
   "metadata": {
    "slideshow": {
     "slide_type": "subslide"
    }
   },
   "source": [
    "## 計算 1 加到 100 的總和：[The Story of Gauss](https://www.nctm.org/Publications/Teaching-Children-Mathematics/Blog/The-Story-of-Gauss/)"
   ]
  },
  {
   "cell_type": "code",
   "execution_count": 5,
   "metadata": {
    "slideshow": {
     "slide_type": "-"
    }
   },
   "outputs": [
    {
     "name": "stdout",
     "output_type": "stream",
     "text": [
      "5050\n"
     ]
    }
   ],
   "source": [
    "# 加總\n",
    "num = 1 # 開始 start\n",
    "summation = 0\n",
    "while num <= 100: # 結束 stop\n",
    "    summation += num # 反覆執行的任務\n",
    "    num += 1 # 間距 step\n",
    "print(summation)"
   ]
  },
  {
   "cell_type": "markdown",
   "metadata": {
    "slideshow": {
     "slide_type": "subslide"
    }
   },
   "source": [
    "## 印出介於 1 到 100 之間的偶數"
   ]
  },
  {
   "cell_type": "code",
   "execution_count": 6,
   "metadata": {},
   "outputs": [
    {
     "name": "stdout",
     "output_type": "stream",
     "text": [
      "2\n",
      "4\n",
      "6\n",
      "8\n",
      "10\n",
      "12\n",
      "14\n",
      "16\n",
      "18\n",
      "20\n",
      "22\n",
      "24\n",
      "26\n",
      "28\n",
      "30\n",
      "32\n",
      "34\n",
      "36\n",
      "38\n",
      "40\n",
      "42\n",
      "44\n",
      "46\n",
      "48\n",
      "50\n",
      "52\n",
      "54\n",
      "56\n",
      "58\n",
      "60\n",
      "62\n",
      "64\n",
      "66\n",
      "68\n",
      "70\n",
      "72\n",
      "74\n",
      "76\n",
      "78\n",
      "80\n",
      "82\n",
      "84\n",
      "86\n",
      "88\n",
      "90\n",
      "92\n",
      "94\n",
      "96\n",
      "98\n",
      "100\n"
     ]
    }
   ],
   "source": [
    "# print\n",
    "num = 2 # 開始 start\n",
    "while num < 102: # 結束 stop\n",
    "    print(num) # 反覆執行的任務\n",
    "    num += 2 # 間距 step"
   ]
  },
  {
   "cell_type": "markdown",
   "metadata": {
    "slideshow": {
     "slide_type": "subslide"
    }
   },
   "source": [
    "## 隨堂練習：印出介於 x 到 y 之間的奇數（包含 x 與 y 假如它們是奇數）"
   ]
  },
  {
   "cell_type": "code",
   "execution_count": 7,
   "metadata": {
    "slideshow": {
     "slide_type": "-"
    }
   },
   "outputs": [
    {
     "name": "stdout",
     "output_type": "stream",
     "text": [
      "請輸入起始的正整數：5\n",
      "請輸入終止的正整數：10\n"
     ]
    }
   ],
   "source": [
    "x = int(input(\"請輸入起始的正整數：\"))\n",
    "y = int(input(\"請輸入終止的正整數：\"))"
   ]
  },
  {
   "cell_type": "markdown",
   "metadata": {
    "slideshow": {
     "slide_type": "fragment"
    }
   },
   "source": [
    "```\n",
    "## 5\n",
    "## 7\n",
    "## 9\n",
    "```"
   ]
  },
  {
   "cell_type": "markdown",
   "metadata": {
    "slideshow": {
     "slide_type": "subslide"
    }
   },
   "source": [
    "## 隨堂練習：承接上題，介於 x 到 y 之間的奇數有幾個（包含 x 與 y 假如它們是奇數）"
   ]
  },
  {
   "cell_type": "code",
   "execution_count": 8,
   "metadata": {
    "slideshow": {
     "slide_type": "-"
    }
   },
   "outputs": [
    {
     "name": "stdout",
     "output_type": "stream",
     "text": [
      "請輸入起始的正整數：5\n",
      "請輸入終止的正整數：10\n"
     ]
    }
   ],
   "source": [
    "x = int(input(\"請輸入起始的正整數：\"))\n",
    "y = int(input(\"請輸入終止的正整數：\"))"
   ]
  },
  {
   "cell_type": "code",
   "execution_count": 9,
   "metadata": {
    "slideshow": {
     "slide_type": "skip"
    }
   },
   "outputs": [],
   "source": [
    "odd_cnt = 0\n",
    "while x <= y:\n",
    "    if x % 2 == 1:\n",
    "        odd_cnt += 1\n",
    "    x += 1"
   ]
  },
  {
   "cell_type": "code",
   "execution_count": 10,
   "metadata": {
    "slideshow": {
     "slide_type": "fragment"
    }
   },
   "outputs": [
    {
     "name": "stdout",
     "output_type": "stream",
     "text": [
      "3\n"
     ]
    }
   ],
   "source": [
    "print(odd_cnt)"
   ]
  },
  {
   "cell_type": "markdown",
   "metadata": {
    "slideshow": {
     "slide_type": "subslide"
    }
   },
   "source": [
    "## 隨堂練習：承接上題，介於 x 到 y 之間的奇數加總為何（包含 x 與 y 假如它們是奇數）"
   ]
  },
  {
   "cell_type": "code",
   "execution_count": 11,
   "metadata": {
    "slideshow": {
     "slide_type": "-"
    }
   },
   "outputs": [
    {
     "name": "stdout",
     "output_type": "stream",
     "text": [
      "請輸入起始的正整數：5\n",
      "請輸入終止的正整數：10\n"
     ]
    }
   ],
   "source": [
    "x = int(input(\"請輸入起始的正整數：\"))\n",
    "y = int(input(\"請輸入終止的正整數：\"))"
   ]
  },
  {
   "cell_type": "code",
   "execution_count": 12,
   "metadata": {
    "slideshow": {
     "slide_type": "skip"
    }
   },
   "outputs": [],
   "source": [
    "odd_summation = 0\n",
    "while x <= y:\n",
    "    if x % 2 == 1:\n",
    "        odd_summation += x\n",
    "    x += 1"
   ]
  },
  {
   "cell_type": "code",
   "execution_count": 13,
   "metadata": {
    "slideshow": {
     "slide_type": "fragment"
    }
   },
   "outputs": [
    {
     "name": "stdout",
     "output_type": "stream",
     "text": [
      "21\n"
     ]
    }
   ],
   "source": [
    "print(odd_summation)"
   ]
  },
  {
   "cell_type": "markdown",
   "metadata": {
    "slideshow": {
     "slide_type": "subslide"
    }
   },
   "source": [
    "## 判斷質數\n",
    "\n",
    "在大於 1 的正整數中，除了 1 和該數自身外，無法被其他正整數整除的數字。"
   ]
  },
  {
   "cell_type": "code",
   "execution_count": 14,
   "metadata": {
    "slideshow": {
     "slide_type": "-"
    }
   },
   "outputs": [
    {
     "name": "stdout",
     "output_type": "stream",
     "text": [
      "請輸入一個正整數：2\n",
      "2 是質數\n"
     ]
    }
   ],
   "source": [
    "user_int = int(input(\"請輸入一個正整數：\"))\n",
    "i = 1\n",
    "divisor_cnts = 0\n",
    "while i <= user_int:\n",
    "    if user_int % i == 0:\n",
    "        divisor_cnts += 1\n",
    "    i += 1\n",
    "\n",
    "if divisor_cnts == 2:\n",
    "    print(\"{} 是質數\".format(user_int))\n",
    "else:\n",
    "    print(\"{} 不是質數\".format(user_int))"
   ]
  },
  {
   "cell_type": "markdown",
   "metadata": {
    "slideshow": {
     "slide_type": "subslide"
    }
   },
   "source": [
    "## 可搭配使用的保留字\n",
    "\n",
    "- `break`\n",
    "- `continue`"
   ]
  },
  {
   "cell_type": "markdown",
   "metadata": {
    "slideshow": {
     "slide_type": "subslide"
    }
   },
   "source": [
    "## 判斷質數：印出重複次數"
   ]
  },
  {
   "cell_type": "code",
   "execution_count": 15,
   "metadata": {},
   "outputs": [
    {
     "name": "stdout",
     "output_type": "stream",
     "text": [
      "請輸入一個正整數：56\n",
      "重複第 1 次\n",
      "重複第 2 次\n",
      "重複第 3 次\n",
      "重複第 4 次\n",
      "重複第 5 次\n",
      "重複第 6 次\n",
      "重複第 7 次\n",
      "重複第 8 次\n",
      "重複第 9 次\n",
      "重複第 10 次\n",
      "重複第 11 次\n",
      "重複第 12 次\n",
      "重複第 13 次\n",
      "重複第 14 次\n",
      "重複第 15 次\n",
      "重複第 16 次\n",
      "重複第 17 次\n",
      "重複第 18 次\n",
      "重複第 19 次\n",
      "重複第 20 次\n",
      "重複第 21 次\n",
      "重複第 22 次\n",
      "重複第 23 次\n",
      "重複第 24 次\n",
      "重複第 25 次\n",
      "重複第 26 次\n",
      "重複第 27 次\n",
      "重複第 28 次\n",
      "重複第 29 次\n",
      "重複第 30 次\n",
      "重複第 31 次\n",
      "重複第 32 次\n",
      "重複第 33 次\n",
      "重複第 34 次\n",
      "重複第 35 次\n",
      "重複第 36 次\n",
      "重複第 37 次\n",
      "重複第 38 次\n",
      "重複第 39 次\n",
      "重複第 40 次\n",
      "重複第 41 次\n",
      "重複第 42 次\n",
      "重複第 43 次\n",
      "重複第 44 次\n",
      "重複第 45 次\n",
      "重複第 46 次\n",
      "重複第 47 次\n",
      "重複第 48 次\n",
      "重複第 49 次\n",
      "重複第 50 次\n",
      "重複第 51 次\n",
      "重複第 52 次\n",
      "重複第 53 次\n",
      "重複第 54 次\n",
      "重複第 55 次\n",
      "重複第 56 次\n",
      "56 不是質數\n"
     ]
    }
   ],
   "source": [
    "user_int = int(input(\"請輸入一個正整數：\"))\n",
    "i = 1\n",
    "divisor_cnts = 0\n",
    "while i <= user_int:\n",
    "    if user_int % i == 0:\n",
    "        divisor_cnts += 1\n",
    "    print(\"重複第 {} 次\".format(i))\n",
    "    i += 1\n",
    "\n",
    "if divisor_cnts == 2:\n",
    "    print(\"{} 是質數\".format(user_int))\n",
    "else:\n",
    "    print(\"{} 不是質數\".format(user_int))"
   ]
  },
  {
   "cell_type": "markdown",
   "metadata": {
    "slideshow": {
     "slide_type": "subslide"
    }
   },
   "source": [
    "## 判斷質數：加入 `break`"
   ]
  },
  {
   "cell_type": "code",
   "execution_count": 16,
   "metadata": {},
   "outputs": [
    {
     "name": "stdout",
     "output_type": "stream",
     "text": [
      "請輸入一個正整數：56\n",
      "重複第 1 次\n",
      "重複第 2 次\n",
      "重複第 3 次\n",
      "重複第 4 次\n",
      "56 不是質數\n"
     ]
    }
   ],
   "source": [
    "user_int = int(input(\"請輸入一個正整數：\"))\n",
    "i = 1\n",
    "divisor_cnts = 0\n",
    "while i <= user_int:\n",
    "    if user_int % i == 0:\n",
    "        divisor_cnts += 1\n",
    "    print(\"重複第 {} 次\".format(i))\n",
    "    i += 1\n",
    "    if divisor_cnts > 2:\n",
    "        break\n",
    "\n",
    "if divisor_cnts == 2:\n",
    "    print(\"{} 是質數\".format(user_int))\n",
    "else:\n",
    "    print(\"{} 不是質數\".format(user_int))"
   ]
  },
  {
   "cell_type": "markdown",
   "metadata": {
    "slideshow": {
     "slide_type": "subslide"
    }
   },
   "source": [
    "## 略過某次迭代：`continue`"
   ]
  },
  {
   "cell_type": "code",
   "execution_count": 17,
   "metadata": {},
   "outputs": [
    {
     "name": "stdout",
     "output_type": "stream",
     "text": [
      "1\n",
      "2\n",
      "3\n",
      "5\n",
      "6\n",
      "7\n",
      "8\n",
      "9\n"
     ]
    }
   ],
   "source": [
    "# no 4th floor in some buildings\n",
    "i = 1\n",
    "while i < 10:\n",
    "    if i == 4:\n",
    "        i += 1\n",
    "        continue\n",
    "    print(i)\n",
    "    i += 1"
   ]
  },
  {
   "cell_type": "markdown",
   "metadata": {
    "slideshow": {
     "slide_type": "slide"
    }
   },
   "source": [
    "# 作業"
   ]
  },
  {
   "cell_type": "markdown",
   "metadata": {
    "slideshow": {
     "slide_type": "subslide"
    }
   },
   "source": [
    "## 作業：Fizz-Buzz with `while`\n",
    "\n",
    "- 從 1 印到 100\n",
    "- 如果是 3 的倍數印出 \"Fizz\"\n",
    "- 如果是 5 的倍數印出 \"Buzz\"\n",
    "- 如果是 15 的倍數印出 \"Fizz Buzz\"\n",
    "- 其他情況印出該正整數即可"
   ]
  },
  {
   "cell_type": "markdown",
   "metadata": {
    "slideshow": {
     "slide_type": "subslide"
    }
   },
   "source": [
    "## 執行範例\n",
    "\n",
    "```\n",
    "## 1\n",
    "## 2\n",
    "## Fizz\n",
    "## 4\n",
    "## Buzz\n",
    "## ...\n",
    "## 14\n",
    "## Fizz Buzz\n",
    "## ...\n",
    "## 98\n",
    "## Fizz\n",
    "## Buzz\n",
    "```"
   ]
  },
  {
   "cell_type": "markdown",
   "metadata": {
    "slideshow": {
     "slide_type": "subslide"
    }
   },
   "source": [
    "## 作業：介於 x 到 y 之間的質數個數為何（包含 x 與 y 假如它們是質數）"
   ]
  },
  {
   "cell_type": "markdown",
   "metadata": {
    "slideshow": {
     "slide_type": "subslide"
    }
   },
   "source": [
    "## 執行範例\n",
    "\n",
    "```\n",
    "## 請輸入起始的正整數：5\n",
    "## 請輸入終止的正整數：11\n",
    "## 介於 5 到 11 之間的質數有 3 個\n",
    "##\n",
    "## 請輸入起始的正整數：5\n",
    "## 請輸入終止的正整數：15\n",
    "## 介於 5 到 15 之間的質數有 4 個\n",
    "```"
   ]
  }
 ],
 "metadata": {
  "celltoolbar": "Slideshow",
  "kernelspec": {
   "display_name": "Python 3",
   "language": "python",
   "name": "python3"
  },
  "language_info": {
   "codemirror_mode": {
    "name": "ipython",
    "version": 3
   },
   "file_extension": ".py",
   "mimetype": "text/x-python",
   "name": "python",
   "nbconvert_exporter": "python",
   "pygments_lexer": "ipython3",
   "version": "3.7.5"
  }
 },
 "nbformat": 4,
 "nbformat_minor": 2
}
